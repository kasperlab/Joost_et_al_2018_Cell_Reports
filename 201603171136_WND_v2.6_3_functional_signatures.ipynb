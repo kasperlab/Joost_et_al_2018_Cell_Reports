{
 "cells": [
  {
   "cell_type": "code",
   "execution_count": 1,
   "metadata": {},
   "outputs": [],
   "source": [
    "%matplotlib inline"
   ]
  },
  {
   "cell_type": "markdown",
   "metadata": {},
   "source": [
    "# Import custom scripts"
   ]
  },
  {
   "cell_type": "code",
   "execution_count": 2,
   "metadata": {},
   "outputs": [],
   "source": [
    "path_scripts = '/Users/simjoo/Projects/STRT_wound/scripts/'"
   ]
  },
  {
   "cell_type": "code",
   "execution_count": 3,
   "metadata": {},
   "outputs": [],
   "source": [
    "import sys\n",
    "sys.path.append(path_scripts)"
   ]
  },
  {
   "cell_type": "code",
   "execution_count": 4,
   "metadata": {},
   "outputs": [],
   "source": [
    "from WND_misc_scripts_v2_0 import *\n",
    "from WND_neg_binom_regression_v2_0 import *\n",
    "from WND_pseudotemporal_ordering_v2_0 import *\n",
    "from WND_outlier_cell_detection_v2_0 import *"
   ]
  },
  {
   "cell_type": "code",
   "execution_count": 5,
   "metadata": {},
   "outputs": [],
   "source": [
    "from matplotlib_venn import venn2"
   ]
  },
  {
   "cell_type": "markdown",
   "metadata": {},
   "source": [
    "# Initialize engines"
   ]
  },
  {
   "cell_type": "code",
   "execution_count": 6,
   "metadata": {},
   "outputs": [],
   "source": [
    "from ipyparallel import Client"
   ]
  },
  {
   "cell_type": "code",
   "execution_count": 7,
   "metadata": {},
   "outputs": [],
   "source": [
    "c = Client(profile='default')"
   ]
  },
  {
   "cell_type": "code",
   "execution_count": 8,
   "metadata": {},
   "outputs": [],
   "source": [
    "dview = c[:]"
   ]
  },
  {
   "cell_type": "code",
   "execution_count": 9,
   "metadata": {},
   "outputs": [
    {
     "data": {
      "text/plain": [
       "<AsyncResult: execute>"
      ]
     },
     "execution_count": 9,
     "metadata": {},
     "output_type": "execute_result"
    }
   ],
   "source": [
    "dview.execute('import sys')\n",
    "dview.execute('sys.path.append(\"/Users/simjoo/Projects/STRT_wound/scripts/\")')\n",
    "dview.execute('from WND_misc_scripts_v2_0 import *')\n",
    "dview.execute('from WND_neg_binom_regression_v2_0 import *')\n",
    "dview.execute('from WND_pseudotemporal_ordering_v2_0 import *')\n",
    "dview.execute('from WND_outlier_cell_detection_v2_0 import *')"
   ]
  },
  {
   "cell_type": "markdown",
   "metadata": {},
   "source": [
    "# Import Data"
   ]
  },
  {
   "cell_type": "code",
   "execution_count": 10,
   "metadata": {},
   "outputs": [],
   "source": [
    "exp_id = '201603171136_v2.6'\n",
    "path_input = '/Users/simjoo/Projects/STRT_wound/data_input/v2.6'\n",
    "path_output = '/Users/simjoo/Projects/STRT_wound/data_output/v2.6'\n",
    "path_figures = '/Users/simjoo/Projects/STRT_wound/figures/v2.6'"
   ]
  },
  {
   "cell_type": "code",
   "execution_count": 11,
   "metadata": {},
   "outputs": [
    {
     "name": "stderr",
     "output_type": "stream",
     "text": [
      "/Users/simjoo/Projects/STRT_wound/scripts/WND_misc_scripts_v2_0.py:240: FutureWarning: from_csv is deprecated. Please use read_csv(...) instead. Note that some of the default arguments are different, so please refer to the documentation for from_csv when changing your function calls\n",
      "  dataset = pd.DataFrame.from_csv('%s/%s_%s.txt' % (path, id_, name), sep = '\\t', header = 0, index_col = 0)\n"
     ]
    }
   ],
   "source": [
    "seq = loadData_v1(path_input, exp_id, 'seq_WND', 'DataFrame')\n",
    "meta = loadData_v1(path_input, exp_id, 'meta_WND', 'DataFrame')"
   ]
  },
  {
   "cell_type": "code",
   "execution_count": 12,
   "metadata": {},
   "outputs": [
    {
     "name": "stderr",
     "output_type": "stream",
     "text": [
      "/Users/simjoo/Projects/STRT_wound/scripts/WND_misc_scripts_v2_0.py:240: FutureWarning: from_csv is deprecated. Please use read_csv(...) instead. Note that some of the default arguments are different, so please refer to the documentation for from_csv when changing your function calls\n",
      "  dataset = pd.DataFrame.from_csv('%s/%s_%s.txt' % (path, id_, name), sep = '\\t', header = 0, index_col = 0)\n"
     ]
    }
   ],
   "source": [
    "seq_sel_norm = loadData_v1(path_output, exp_id, 'seq_sel_norm', 'DataFrame')\n",
    "seq_sel_Lgr5_norm = loadData_v1(path_output, exp_id, 'seq_sel_Lgr5_norm', 'DataFrame')\n",
    "seq_sel_Lgr6_norm = loadData_v1(path_output, exp_id, 'seq_sel_Lgr6_norm', 'DataFrame')"
   ]
  },
  {
   "cell_type": "code",
   "execution_count": 13,
   "metadata": {},
   "outputs": [
    {
     "name": "stderr",
     "output_type": "stream",
     "text": [
      "/Users/simjoo/anaconda/lib/python3.6/site-packages/pandas/core/series.py:2890: FutureWarning: from_csv is deprecated. Please use read_csv(...) instead. Note that some of the default arguments are different, so please refer to the documentation for from_csv when changing your function calls\n",
      "  infer_datetime_format=infer_datetime_format)\n"
     ]
    }
   ],
   "source": [
    "cells_Lgr5_wnd = loadData_v1(path_output, exp_id, 'cells_Lgr5_wnd', 'Series')\n",
    "cells_Lgr5_wnd_ctrl = loadData_v1(path_output, exp_id, 'cells_Lgr5_wnd_ctrl', 'Series')\n",
    "cells_Lgr5_wnd_ctrl_sel = loadData_v1(path_output, exp_id, 'cells_Lgr5_wnd_ctrl_sel', 'Series')\n",
    "\n",
    "cells_Lgr6_wnd = loadData_v1(path_output, exp_id, 'cells_Lgr6_wnd', 'Series')\n",
    "cells_Lgr6_wnd_ctrl = loadData_v1(path_output, exp_id, 'cells_Lgr6_wnd_ctrl', 'Series')\n",
    "cells_Lgr6_wnd_ctrl_sel = loadData_v1(path_output, exp_id, 'cells_Lgr6_wnd_ctrl_sel', 'Series')"
   ]
  },
  {
   "cell_type": "code",
   "execution_count": 14,
   "metadata": {},
   "outputs": [
    {
     "name": "stderr",
     "output_type": "stream",
     "text": [
      "/Users/simjoo/anaconda/lib/python3.6/site-packages/pandas/core/series.py:2890: FutureWarning: from_csv is deprecated. Please use read_csv(...) instead. Note that some of the default arguments are different, so please refer to the documentation for from_csv when changing your function calls\n",
      "  infer_datetime_format=infer_datetime_format)\n"
     ]
    }
   ],
   "source": [
    "cl_Lgr5_wnd = loadData_v1(path_output, exp_id, 'cl_Lgr5_wnd', 'Series').astype(str)\n",
    "cl_Lgr5_wnd = AP_groups_reorder_v2(cl_Lgr5_wnd, ['3','2','0','1','4'])\n",
    "\n",
    "cl_Lgr5_wnd_ctrl = loadData_v1(path_output, exp_id, 'cl_Lgr5_wnd_ctrl', 'Series')\n",
    "cl_Lgr5_wnd_ctrl = AP_groups_reorder_v2(cl_Lgr5_wnd_ctrl, ['ctrl','3','2','0','1','4'])\n",
    "\n",
    "cl_Lgr5_wnd_ctrl_sel = loadData_v1(path_output, exp_id, 'cl_Lgr5_wnd_ctrl_sel', 'Series')\n",
    "cl_Lgr5_wnd_ctrl_sel = AP_groups_reorder_v2(cl_Lgr5_wnd_ctrl_sel, ['ctrl','3','2','0','1','4'])\n",
    "\n",
    "cl_Lgr6_wnd = loadData_v1(path_output, exp_id, 'cl_Lgr6_wnd', 'Series').astype(str)\n",
    "cl_Lgr6_wnd = AP_groups_reorder_v2(cl_Lgr6_wnd[cl_Lgr6_wnd!='3'], ['5','1','4','2','0'])\n",
    "\n",
    "cl_Lgr6_wnd_ctrl = loadData_v1(path_output, exp_id, 'cl_Lgr6_wnd_ctrl', 'Series')\n",
    "cl_Lgr6_wnd_ctrl = AP_groups_reorder_v2(cl_Lgr6_wnd_ctrl[cl_Lgr6_wnd_ctrl!='3'], ['ctrl - IFE','ctrl - IST','5','1','4','2','0'])\n",
    "\n",
    "cl_Lgr6_wnd_ctrl_sel = loadData_v1(path_output, exp_id, 'cl_Lgr6_wnd_ctrl_sel', 'Series')\n",
    "cl_Lgr6_wnd_ctrl_sel = AP_groups_reorder_v2(cl_Lgr6_wnd_ctrl_sel[cl_Lgr6_wnd_ctrl_sel!='3'], ['ctrl - IFE','ctrl - IST','5','1','4','2','0'])"
   ]
  },
  {
   "cell_type": "code",
   "execution_count": 15,
   "metadata": {},
   "outputs": [
    {
     "name": "stderr",
     "output_type": "stream",
     "text": [
      "/Users/simjoo/Projects/STRT_wound/scripts/WND_misc_scripts_v2_0.py:240: FutureWarning: from_csv is deprecated. Please use read_csv(...) instead. Note that some of the default arguments are different, so please refer to the documentation for from_csv when changing your function calls\n",
      "  dataset = pd.DataFrame.from_csv('%s/%s_%s.txt' % (path, id_, name), sep = '\\t', header = 0, index_col = 0)\n"
     ]
    }
   ],
   "source": [
    "tsne_Lgr5_wnd_ctrl_sel = loadData_v1(path_output, exp_id, 'tsne_Lgr5_wnd_ctrl_sel', 'DataFrame')\n",
    "\n",
    "tsne_Lgr6_wnd_ctrl_sel = loadData_v1(path_output, exp_id, 'tsne_Lgr6_wnd_ctrl_sel', 'DataFrame')"
   ]
  },
  {
   "cell_type": "code",
   "execution_count": 16,
   "metadata": {},
   "outputs": [],
   "source": [
    "NBR_states_traces = loadData_from_pickle_v1(path_output, exp_id, 'NBR_states_traces')\n",
    "NBR_states_summary = loadData_from_pickle_v1(path_output, exp_id,'NBR_states_summary')\n",
    "\n",
    "NBR_states_Lgr5_pval_0d = loadData_from_pickle_v1(path_output,exp_id,'NBR_states_Lgr5_pval_0d')\n",
    "NBR_states_Lgr6_pval_0d = loadData_from_pickle_v1(path_output,exp_id,'NBR_states_Lgr6_pval_0d')"
   ]
  },
  {
   "cell_type": "code",
   "execution_count": 17,
   "metadata": {},
   "outputs": [],
   "source": [
    "NBR_1st_traces = loadData_from_pickle_v1(path_input, '201509151726', 'NBR_1st_traces')"
   ]
  },
  {
   "cell_type": "code",
   "execution_count": 18,
   "metadata": {},
   "outputs": [
    {
     "name": "stderr",
     "output_type": "stream",
     "text": [
      "/Users/simjoo/anaconda/lib/python3.6/site-packages/pandas/core/series.py:2890: FutureWarning: from_csv is deprecated. Please use read_csv(...) instead. Note that some of the default arguments are different, so please refer to the documentation for from_csv when changing your function calls\n",
      "  infer_datetime_format=infer_datetime_format)\n"
     ]
    }
   ],
   "source": [
    "cmap_Lgr5_time = loadData_v1(path_output, exp_id, 'cmap_Lgr5_time', 'Series')\n",
    "cmap_Lgr6_time = loadData_v1(path_output, exp_id, 'cmap_Lgr6_time', 'Series')\n",
    "cmap_Lgr5_state = loadData_v1(path_output, exp_id, 'cmap_Lgr5_state', 'Series')\n",
    "cmap_Lgr6_state = loadData_v1(path_output, exp_id, 'cmap_Lgr6_state', 'Series')"
   ]
  },
  {
   "cell_type": "code",
   "execution_count": 19,
   "metadata": {},
   "outputs": [],
   "source": [
    "def get_hypergeometric_distribution(k, K, N, n):\n",
    "    \n",
    "    from scipy.stats import hypergeom\n",
    "    \n",
    "    return 1 - hypergeom.cdf((k-1), N, K, n).astype(np.float128)"
   ]
  },
  {
   "cell_type": "code",
   "execution_count": 20,
   "metadata": {},
   "outputs": [],
   "source": [
    "def get_hypergeometric_distribution_R(k, K, N, n):\n",
    "    \n",
    "    return stats.phyper(k-1, K, N-K, n, lower_tail = False)[0]"
   ]
  },
  {
   "cell_type": "markdown",
   "metadata": {
    "collapsed": true
   },
   "source": [
    "# Functional signatures"
   ]
  },
  {
   "cell_type": "markdown",
   "metadata": {},
   "source": [
    "### Select genes induced in at least one wound population"
   ]
  },
  {
   "cell_type": "code",
   "execution_count": 150,
   "metadata": {
    "collapsed": true
   },
   "outputs": [],
   "source": [
    "NBR_states_pval_0d = pd.concat([NBR_states_Lgr5_pval_0d,NBR_states_Lgr6_pval_0d],axis=1)"
   ]
  },
  {
   "cell_type": "code",
   "execution_count": 151,
   "metadata": {},
   "outputs": [
    {
     "data": {
      "text/plain": [
       "['ctrl - IFE', 'ctrl - IST', '5', '1', '4', '2', '0']"
      ]
     },
     "execution_count": 151,
     "metadata": {},
     "output_type": "execute_result"
    }
   ],
   "source": [
    "return_unique(cl_Lgr6_wnd_ctrl_sel)"
   ]
  },
  {
   "cell_type": "code",
   "execution_count": 152,
   "metadata": {
    "collapsed": true
   },
   "outputs": [],
   "source": [
    "gr_sel = ['Lgr5 - 3', 'Lgr5 - 2', 'Lgr5 - 0', 'Lgr5 - 1', 'Lgr5 - 4',\n",
    "          'Lgr6 - 5', 'Lgr6 - 1', 'Lgr6 - 4', 'Lgr6 - 2', 'Lgr6 - 0']\n",
    "genes_sign = NBR_states_pval_0d[gr_sel].min(axis=1)[NBR_states_pval_0d[gr_sel].min(axis=1)<0.001].index"
   ]
  },
  {
   "cell_type": "code",
   "execution_count": 153,
   "metadata": {
    "collapsed": true
   },
   "outputs": [],
   "source": [
    "NBR_states_pval_0d_sel = NBR_states_pval_0d[gr_sel]"
   ]
  },
  {
   "cell_type": "code",
   "execution_count": 154,
   "metadata": {},
   "outputs": [
    {
     "data": {
      "text/plain": [
       "1534"
      ]
     },
     "execution_count": 154,
     "metadata": {},
     "output_type": "execute_result"
    }
   ],
   "source": [
    "len(genes_sign)"
   ]
  },
  {
   "cell_type": "code",
   "execution_count": 155,
   "metadata": {
    "collapsed": true,
    "scrolled": false
   },
   "outputs": [],
   "source": [
    "#for g in genes_sign:\n",
    "    #print (g)"
   ]
  },
  {
   "cell_type": "markdown",
   "metadata": {},
   "source": [
    "### Import gene sets from MSigDB"
   ]
  },
  {
   "cell_type": "code",
   "execution_count": 156,
   "metadata": {
    "collapsed": true
   },
   "outputs": [],
   "source": [
    "gene_sets_MSigDB = pd.read_csv('%s/MSigDB_gene_sets.txt' % path_input, sep = '\\t')\n",
    "#gene_sets_MSigDB_stats = pd.read_csv('%s/%s_MSigDB_Reactome.txt' % (path_output, exp_id), sep = '\\t', index_col = 0)\n",
    "#gene_sets_MSigDB_stats_KEGG = pd.read_csv('%s/%s_MSigDB_KEGG.txt' % (path_output, exp_id), sep = '\\t', index_col = 0)"
   ]
  },
  {
   "cell_type": "code",
   "execution_count": 157,
   "metadata": {
    "collapsed": true
   },
   "outputs": [],
   "source": [
    "gene_sets_MSigDB_dict = {}\n",
    "\n",
    "for c in gene_sets_MSigDB.columns:\n",
    "    gene_sets_MSigDB_dict[c] = list(set([g for g in gene_sets_MSigDB[c].values if type(g) == str]))"
   ]
  },
  {
   "cell_type": "markdown",
   "metadata": {},
   "source": [
    "### Import signatures from Joost et al. 2016 and combine with MSigDB"
   ]
  },
  {
   "cell_type": "code",
   "execution_count": 158,
   "metadata": {
    "collapsed": true
   },
   "outputs": [],
   "source": [
    "NBR_1st_bin_bl = loadData_from_pickle_v1(path_input, '201509151726', 'NBR_1st_bin_bl')"
   ]
  },
  {
   "cell_type": "code",
   "execution_count": 159,
   "metadata": {
    "collapsed": true
   },
   "outputs": [],
   "source": [
    "gene_sets_telogen_bl = {}\n",
    "\n",
    "NBR = NBR_1st_bin_bl\n",
    "\n",
    "gene_sets_MSigDB_dict['JOOST_IFE B'] = list(NBR['2'][NBR['2']==1].index)\n",
    "gene_sets_MSigDB_dict['JOOST_IFE D'] = list(set(list(NBR['1'][NBR['1']==1].index) + list(NBR['8'][NBR['8']==1].index)))\n",
    "gene_sets_MSigDB_dict['JOOST_IFE K'] = list(set(list(NBR['0'][NBR['0']==1].index) + list(NBR['10'][NBR['10']==1].index)))\n",
    "gene_sets_MSigDB_dict['JOOST_uHF'] = list(set(list(NBR['6'][NBR['6']==1].index) + list(NBR['3'][NBR['3']==1].index) + list(NBR['4'][NBR['4']==1].index)))\n",
    "gene_sets_MSigDB_dict['JOOST_SG'] = list(NBR['5'][NBR['5']==1].index)\n",
    "gene_sets_MSigDB_dict['JOOST_OB'] = list(NBR['7'][NBR['7']==1].index)\n",
    "gene_sets_MSigDB_dict['JOOST_IB'] = list(NBR['9'][NBR['9']==1].index)\n",
    "gene_sets_MSigDB_dict['JOOST_Immune'] = list(set(list(NBR['11'][NBR['11']==1].index) + list(NBR['12'][NBR['12']==1].index)))"
   ]
  },
  {
   "cell_type": "code",
   "execution_count": 160,
   "metadata": {
    "scrolled": false
   },
   "outputs": [
    {
     "name": "stdout",
     "output_type": "stream",
     "text": [
      "REACTOME_METABOLISM_OF_PROTEINS\n",
      "KEGG_RIBOSOME\n",
      "REACTOME_3_UTR_MEDIATED_TRANSLATIONAL_REGULATION\n",
      "REACTOME_SRP_DEPENDENT_COTRANSLATIONAL_PROTEIN_TARGETING_TO_MEMBRANE\n",
      "REACTOME_ER_PHAGOSOME_PATHWAY\n",
      "KEGG_PROTEASOME\n",
      "REACTOME_PROTEIN_FOLDING\n",
      "REACTOME_METABOLISM_OF_RNA\n",
      "REACTOME_NONSENSE_MEDIATED_DECAY_ENHANCED_BY_THE_EXON_JUNCTION_COMPLEX\n",
      "REACTOME_ACTIVATION_OF_THE_MRNA_UPON_BINDING_OF_THE_CAP_BINDING_COMPLEX_AND_EIFS_AND_SUBSEQUENT_BINDING_TO_43S\n",
      "REACTOME_DESTABILIZATION_OF_MRNA_BY_AUF1_HNRNP_D0\n",
      "REACTOME_MRNA_SPLICING\n",
      "REACTOME_PROCESSING_OF_CAPPED_INTRON_CONTAINING_PRE_MRNA\n",
      "REACTOME_MRNA_PROCESSING\n",
      "KEGG_OXIDATIVE_PHOSPHORYLATION\n",
      "REACTOME_TCA_CYCLE_AND_RESPIRATORY_ELECTRON_TRANSPORT\n",
      "REACTOME_RESPIRATORY_ELECTRON_TRANSPORT_ATP_SYNTHESIS_BY_CHEMIOSMOTIC_COUPLING_AND_HEAT_PRODUCTION_BY_UNCOUPLING_PROTEINS_\n",
      "REACTOME_IMMUNE_SYSTEM\n",
      "REACTOME_ADAPTIVE_IMMUNE_SYSTEM\n",
      "REACTOME_ANTIGEN_PROCESSING_CROSS_PRESENTATION\n",
      "REACTOME_ACTIVATION_OF_NF_KAPPAB_IN_B_CELLS\n",
      "REACTOME_SIGNALING_BY_THE_B_CELL_RECEPTOR_BCR\n",
      "REACTOME_CLASS_I_MHC_MEDIATED_ANTIGEN_PROCESSING_PRESENTATION\n",
      "REACTOME_PLATELET_ACTIVATION_SIGNALING_AND_AGGREGATION\n",
      "REACTOME_CELL_CYCLE_MITOTIC\n",
      "REACTOME_G1_S_TRANSITION\n",
      "REACTOME_S_PHASE\n",
      "REACTOME_DNA_REPLICATION\n",
      "REACTOME_M_G1_TRANSITION\n",
      "REACTOME_REGULATION_OF_ORNITHINE_DECARBOXYLASE_ODC\n",
      "REACTOME_CYTOSOLIC_TRNA_AMINOACYLATION\n",
      "REACTOME_METABOLISM_OF_AMINO_ACIDS_AND_DERIVATIVES\n",
      "KEGG_PURINE_METABOLISM\n",
      "KEGG_PYRIMIDINE_METABOLISM\n",
      "REACTOME_SIGNALING_BY_WNT\n",
      "KEGG_FOCAL_ADHESION\n",
      "KEGG_REGULATION_OF_ACTIN_CYTOSKELETON\n",
      "REACTOME_PREFOLDIN_MEDIATED_TRANSFER_OF_SUBSTRATE_TO_CCT_TRIC\n",
      "KEGG_CARDIAC_MUSCLE_CONTRACTION\n",
      "KEGG_TIGHT_JUNCTION\n",
      "REACTOME_AXON_GUIDANCE\n",
      "REACTOME_MUSCLE_CONTRACTION\n",
      "REACTOME_SEMAPHORIN_INTERACTIONS\n",
      "REACTOME_INTEGRIN_CELL_SURFACE_INTERACTIONS\n",
      "REACTOME_RESPONSE_TO_ELEVATED_PLATELET_CYTOSOLIC_CA2_\n",
      "REACTOME_HEMOSTASIS\n",
      "REACTOME_PLATELET_ACTIVATION_SIGNALING_AND_AGGREGATION.1\n",
      "REACTOME_ASSEMBLY_OF_THE_PRE_REPLICATIVE_COMPLEX\n",
      "REACTOME_P53_INDEPENDENT_G1_S_DNA_DAMAGE_CHECKPOINT\n",
      "REACTOME_SYNTHESIS_OF_DNA\n",
      "REACTOME_DOWNSTREAM_SIGNALING_EVENTS_OF_B_CELL_RECEPTOR_BCR\n",
      "REACTOME_METABOLISM_OF_NUCLEOTIDES\n",
      "KEGG_SPLICEOSOME\n",
      "REACTOME_RNA_POL_III_TRANSCRIPTION\n",
      "REACTOME_TRANSLATION\n",
      "REACTOME_FORMATION_OF_THE_TERNARY_COMPLEX_AND_SUBSEQUENTLY_THE_43S_COMPLEX\n",
      "REACTOME_RNA_POL_II_TRANSCRIPTION\n",
      "REACTOME_CHOLESTEROL_BIOSYNTHESIS\n",
      "REACTOME_MITOCHONDRIAL_PROTEIN_IMPORT\n",
      "REACTOME_DNA_REPAIR\n",
      "REACTOME_INTERFERON_SIGNALING\n",
      "REACTOME_METABOLISM_OF_CARBOHYDRATES\n",
      "REACTOME_CYTOKINE_SIGNALING_IN_IMMUNE_SYSTEM\n",
      "REACTOME_SMOOTH_MUSCLE_CONTRACTION\n",
      "REACTOME_MITOTIC_M_M_G1_PHASES\n",
      "REACTOME_EXTENSION_OF_TELOMERES\n",
      "GO_REGULATION_OF_EPITHELIAL_CELL_MIGRATION\n",
      "GO_CELL_PROLIFERATION\n",
      "REACTOME_APOPTOSIS\n",
      "REACTOME_MEMBRANE_TRAFFICKING\n",
      "REACTOME_DEADENYLATION_DEPENDENT_MRNA_DECAY\n",
      "KEGG_GLYCOLYSIS_GLUCONEOGENESIS\n",
      "KEGG_CITRATE_CYCLE_TCA_CYCLE\n",
      "GO_POSITIVE_REGULATION_OF_EPITHELIAL_CELL_MIGRATION\n",
      "GO_CELL_CYCLE_G1_S_PHASE_TRANSITION\n",
      "GO_CELL_CYCLE_G2_M_PHASE_TRANSITION\n",
      "KEGG_DNA_REPLICATION\n",
      "KEGG_AMINOACYL_TRNA_BIOSYNTHESIS\n",
      "KEGG_MISMATCH_REPAIR\n",
      "KEGG_NUCLEOTIDE_EXCISION_REPAIR\n",
      "KEGG_CELL_CYCLE\n",
      "KEGG_PROTEIN_EXPORT\n",
      "KEGG_RNA_DEGRADATION\n",
      "KEGG_GLUTATHIONE_METABOLISM\n",
      "KEGG_STEROID_BIOSYNTHESIS\n",
      "KEGG_CITRATE_CYCLE_TCA_CYCLE.1\n",
      "KEGG_BASE_EXCISION_REPAIR\n",
      "KEGG_ENDOCYTOSIS\n",
      "KEGG_P53_SIGNALING_PATHWAY\n",
      "HALLMARK_MYC_TARGETS_V1\n",
      "HALLMARK_OXIDATIVE_PHOSPHORYLATION\n",
      "HALLMARK_MTORC1_SIGNALING\n",
      "HALLMARK_UNFOLDED_PROTEIN_RESPONSE\n",
      "HALLMARK_G2M_CHECKPOINT\n",
      "HALLMARK_DNA_REPAIR\n",
      "HALLMARK_CHOLESTEROL_HOMEOSTASIS\n",
      "HALLMARK_P53_PATHWAY\n",
      "HALLMARK_EPITHELIAL_MESENCHYMAL_TRANSITION\n",
      "HALLMARK_GLYCOLYSIS\n",
      "HALLMARK_HYPOXIA\n",
      "HALLMARK_APOPTOSIS\n",
      "HALLMARK_PROTEIN_SECRETION\n",
      "HALLMARK_REACTIVE_OXIGEN_SPECIES_PATHWAY\n",
      "HALLMARK_COAGULATION\n",
      "HALLMARK_TNFA_SIGNALING_VIA_NFKB\n",
      "KEGG_AMINO_SUGAR_AND_NUCLEOTIDE_SUGAR_METABOLISM\n",
      "KEGG_CYSTEINE_AND_METHIONINE_METABOLISM\n",
      "KEGG_GLYCINE_SERINE_AND_THREONINE_METABOLISM\n",
      "JOOST_IFE B\n",
      "JOOST_IFE D\n",
      "JOOST_IFE K\n",
      "JOOST_uHF\n",
      "JOOST_SG\n",
      "JOOST_OB\n",
      "JOOST_IB\n",
      "JOOST_Immune\n"
     ]
    }
   ],
   "source": [
    "for k in gene_sets_MSigDB_dict.keys():\n",
    "    print(k)"
   ]
  },
  {
   "cell_type": "markdown",
   "metadata": {},
   "source": [
    "# Condensed visualization"
   ]
  },
  {
   "cell_type": "markdown",
   "metadata": {},
   "source": [
    "### Get count of significant genes and q-vals"
   ]
  },
  {
   "cell_type": "code",
   "execution_count": 161,
   "metadata": {
    "collapsed": true
   },
   "outputs": [],
   "source": [
    "N = len(NBR_states_Lgr5_pval_0d.index)\n",
    "B = {'REACTOME':674,'KEGG':186,'HALLMARK':50,'JOOST':8,'GO':5917}"
   ]
  },
  {
   "cell_type": "code",
   "execution_count": 162,
   "metadata": {},
   "outputs": [
    {
     "data": {
      "text/plain": [
       "['ctrl - IFE', 'ctrl - IST', '5', '1', '4', '2', '0']"
      ]
     },
     "execution_count": 162,
     "metadata": {},
     "output_type": "execute_result"
    }
   ],
   "source": [
    "return_unique(cl_Lgr6_wnd_ctrl_sel)"
   ]
  },
  {
   "cell_type": "code",
   "execution_count": 163,
   "metadata": {
    "scrolled": false
   },
   "outputs": [
    {
     "name": "stderr",
     "output_type": "stream",
     "text": [
      "/Users/simjoo/anaconda/lib/python3.6/site-packages/ipykernel_launcher.py:24: DeprecationWarning: \n",
      ".ix is deprecated. Please use\n",
      ".loc for label based indexing or\n",
      ".iloc for positional indexing\n",
      "\n",
      "See the documentation here:\n",
      "http://pandas.pydata.org/pandas-docs/stable/indexing.html#ix-indexer-is-deprecated\n",
      "/Users/simjoo/anaconda/lib/python3.6/site-packages/ipykernel_launcher.py:25: DeprecationWarning: \n",
      ".ix is deprecated. Please use\n",
      ".loc for label based indexing or\n",
      ".iloc for positional indexing\n",
      "\n",
      "See the documentation here:\n",
      "http://pandas.pydata.org/pandas-docs/stable/indexing.html#ix-indexer-is-deprecated\n"
     ]
    }
   ],
   "source": [
    "groups = {'PrC - Lgr5':['Lgr5 - 3'],\n",
    "          'WF - Lgr5':['Lgr5 - 2', 'Lgr5 - 0'],\n",
    "          'WEpB - Lgr5':['Lgr5 - 1', 'Lgr5 - 4'],\n",
    "          'WF - Lgr6':['Lgr6 - 5', 'Lgr6 - 1'],\n",
    "          'WEpB - Lgr6':['Lgr6 - 4'],\n",
    "          'WEpD - Lgr6':['Lgr6 - 0', 'Lgr6 - 2']}\n",
    "\n",
    "NBR = NBR_states_pval_0d_sel\n",
    "cutoff = 0.001\n",
    "\n",
    "count_sig = pd.DataFrame(0, index = gene_sets_MSigDB_dict.keys(), columns = ['all'] + list(groups.keys()))\n",
    "pvals_sig = pd.DataFrame(1, index = gene_sets_MSigDB_dict.keys(), columns = ['all'] + list(groups.keys()))\n",
    "\n",
    "for sig in gene_sets_MSigDB_dict.keys():\n",
    "    for gr in groups.keys():\n",
    "        \n",
    "        #cell states\n",
    "        \n",
    "        gsig_tmp = gene_sets_MSigDB_dict[sig]\n",
    "        K_tmp = len(gsig_tmp)\n",
    "        ggr_tmp = NBR[groups[gr]][NBR[groups[gr]].min(axis=1)<cutoff].index\n",
    "        n_tmp = len(ggr_tmp)\n",
    "        k_tmp = len(set(gsig_tmp) & set(ggr_tmp))\n",
    "        count_sig.ix[sig,gr] = k_tmp\n",
    "        pvals_sig.ix[sig,gr] = get_hypergeometric_distribution_R(k_tmp,K_tmp,N,n_tmp) #* B[sig.split('_')[0]]\n",
    "        \n",
    "    # all wnd cells\n",
    "        \n",
    "    ggr_tmp = genes_sign\n",
    "    n_tmp = len(ggr_tmp)\n",
    "    k_tmp = len(set(gsig_tmp) & set(ggr_tmp))\n",
    "    count_sig.ix[sig,'all'] = k_tmp\n",
    "    pvals_sig.ix[sig,'all'] = get_hypergeometric_distribution_R(k_tmp,K_tmp,N,n_tmp) #* B[sig.split('_')[0]]\n",
    "        \n",
    "pvals_sig[pvals_sig>1] = 1"
   ]
  },
  {
   "cell_type": "code",
   "execution_count": 164,
   "metadata": {
    "collapsed": true
   },
   "outputs": [],
   "source": [
    "pvals_sig_BH = pvals_sig.copy()\n",
    "for gr in pvals_sig_BH.columns: pvals_sig_BH[gr] = stats.p_adjust(FloatVector(pvals_sig_BH[gr]), method = 'BH')"
   ]
  },
  {
   "cell_type": "code",
   "execution_count": 165,
   "metadata": {
    "scrolled": false
   },
   "outputs": [
    {
     "name": "stderr",
     "output_type": "stream",
     "text": [
      "/Users/simjoo/anaconda/lib/python3.6/site-packages/ipykernel_launcher.py:11: DeprecationWarning: \n",
      ".ix is deprecated. Please use\n",
      ".loc for label based indexing or\n",
      ".iloc for positional indexing\n",
      "\n",
      "See the documentation here:\n",
      "http://pandas.pydata.org/pandas-docs/stable/indexing.html#ix-indexer-is-deprecated\n",
      "  # This is added back by InteractiveShellApp.init_path()\n"
     ]
    }
   ],
   "source": [
    "groups = ['PrC - Lgr5','WF - Lgr5','WEpB - Lgr5','WF - Lgr6','WEpB - Lgr6','WEpD - Lgr6',]\n",
    "\n",
    "sig_max_gr = {}\n",
    "for gr in groups: sig_max_gr[gr] = []\n",
    "\n",
    "data = pvals_sig_BH[groups].astype(float)\n",
    "data[data==0] = 1e-15\n",
    "data = -np.log10(data)\n",
    "\n",
    "for sig in data.index:\n",
    "    sig_max_gr[data.ix[sig].sort_values().index[-1]] += [sig]"
   ]
  },
  {
   "cell_type": "code",
   "execution_count": 41,
   "metadata": {
    "scrolled": false
   },
   "outputs": [
    {
     "data": {
      "text/plain": [
       "{'PrC - Lgr5': ['REACTOME_CYTOKINE_SIGNALING_IN_IMMUNE_SYSTEM',\n",
       "  'KEGG_ENDOCYTOSIS',\n",
       "  'HALLMARK_HYPOXIA',\n",
       "  'HALLMARK_APOPTOSIS',\n",
       "  'HALLMARK_TNFA_SIGNALING_VIA_NFKB',\n",
       "  'JOOST_OB'],\n",
       " 'WEpB - Lgr5': ['REACTOME_MRNA_SPLICING',\n",
       "  'KEGG_PURINE_METABOLISM',\n",
       "  'KEGG_SPLICEOSOME',\n",
       "  'REACTOME_RNA_POL_II_TRANSCRIPTION',\n",
       "  'KEGG_CELL_CYCLE',\n",
       "  'HALLMARK_G2M_CHECKPOINT',\n",
       "  'HALLMARK_P53_PATHWAY',\n",
       "  'HALLMARK_EPITHELIAL_MESENCHYMAL_TRANSITION'],\n",
       " 'WEpB - Lgr6': ['REACTOME_METABOLISM_OF_PROTEINS',\n",
       "  'KEGG_RIBOSOME',\n",
       "  'REACTOME_3_UTR_MEDIATED_TRANSLATIONAL_REGULATION',\n",
       "  'REACTOME_SRP_DEPENDENT_COTRANSLATIONAL_PROTEIN_TARGETING_TO_MEMBRANE',\n",
       "  'REACTOME_METABOLISM_OF_RNA',\n",
       "  'REACTOME_NONSENSE_MEDIATED_DECAY_ENHANCED_BY_THE_EXON_JUNCTION_COMPLEX',\n",
       "  'REACTOME_ACTIVATION_OF_THE_MRNA_UPON_BINDING_OF_THE_CAP_BINDING_COMPLEX_AND_EIFS_AND_SUBSEQUENT_BINDING_TO_43S',\n",
       "  'REACTOME_TRANSLATION',\n",
       "  'REACTOME_FORMATION_OF_THE_TERNARY_COMPLEX_AND_SUBSEQUENTLY_THE_43S_COMPLEX'],\n",
       " 'WEpD - Lgr6': ['KEGG_P53_SIGNALING_PATHWAY',\n",
       "  'HALLMARK_REACTIVE_OXIGEN_SPECIES_PATHWAY',\n",
       "  'JOOST_IFE D',\n",
       "  'JOOST_IFE K',\n",
       "  'JOOST_uHF'],\n",
       " 'WF - Lgr5': ['KEGG_PROTEASOME',\n",
       "  'REACTOME_PROTEIN_FOLDING',\n",
       "  'REACTOME_DESTABILIZATION_OF_MRNA_BY_AUF1_HNRNP_D0',\n",
       "  'REACTOME_ACTIVATION_OF_NF_KAPPAB_IN_B_CELLS',\n",
       "  'REACTOME_SIGNALING_BY_THE_B_CELL_RECEPTOR_BCR',\n",
       "  'REACTOME_CLASS_I_MHC_MEDIATED_ANTIGEN_PROCESSING_PRESENTATION',\n",
       "  'REACTOME_PLATELET_ACTIVATION_SIGNALING_AND_AGGREGATION',\n",
       "  'REACTOME_REGULATION_OF_ORNITHINE_DECARBOXYLASE_ODC',\n",
       "  'REACTOME_METABOLISM_OF_AMINO_ACIDS_AND_DERIVATIVES',\n",
       "  'REACTOME_SIGNALING_BY_WNT',\n",
       "  'KEGG_FOCAL_ADHESION',\n",
       "  'KEGG_REGULATION_OF_ACTIN_CYTOSKELETON',\n",
       "  'REACTOME_PREFOLDIN_MEDIATED_TRANSFER_OF_SUBSTRATE_TO_CCT_TRIC',\n",
       "  'REACTOME_MUSCLE_CONTRACTION',\n",
       "  'REACTOME_SEMAPHORIN_INTERACTIONS',\n",
       "  'REACTOME_RESPONSE_TO_ELEVATED_PLATELET_CYTOSOLIC_CA2_',\n",
       "  'REACTOME_PLATELET_ACTIVATION_SIGNALING_AND_AGGREGATION.1',\n",
       "  'REACTOME_P53_INDEPENDENT_G1_S_DNA_DAMAGE_CHECKPOINT',\n",
       "  'REACTOME_DOWNSTREAM_SIGNALING_EVENTS_OF_B_CELL_RECEPTOR_BCR',\n",
       "  'REACTOME_RNA_POL_III_TRANSCRIPTION',\n",
       "  'REACTOME_CHOLESTEROL_BIOSYNTHESIS',\n",
       "  'REACTOME_MITOCHONDRIAL_PROTEIN_IMPORT',\n",
       "  'REACTOME_METABOLISM_OF_CARBOHYDRATES',\n",
       "  'REACTOME_SMOOTH_MUSCLE_CONTRACTION',\n",
       "  'GO_REGULATION_OF_EPITHELIAL_CELL_MIGRATION',\n",
       "  'REACTOME_APOPTOSIS',\n",
       "  'REACTOME_DEADENYLATION_DEPENDENT_MRNA_DECAY',\n",
       "  'KEGG_STEROID_BIOSYNTHESIS',\n",
       "  'HALLMARK_MYC_TARGETS_V1',\n",
       "  'HALLMARK_MTORC1_SIGNALING',\n",
       "  'HALLMARK_UNFOLDED_PROTEIN_RESPONSE',\n",
       "  'HALLMARK_CHOLESTEROL_HOMEOSTASIS',\n",
       "  'HALLMARK_COAGULATION',\n",
       "  'KEGG_CYSTEINE_AND_METHIONINE_METABOLISM',\n",
       "  'KEGG_GLYCINE_SERINE_AND_THREONINE_METABOLISM',\n",
       "  'JOOST_IFE B',\n",
       "  'JOOST_IB'],\n",
       " 'WF - Lgr6': ['REACTOME_ER_PHAGOSOME_PATHWAY',\n",
       "  'REACTOME_PROCESSING_OF_CAPPED_INTRON_CONTAINING_PRE_MRNA',\n",
       "  'REACTOME_MRNA_PROCESSING',\n",
       "  'KEGG_OXIDATIVE_PHOSPHORYLATION',\n",
       "  'REACTOME_TCA_CYCLE_AND_RESPIRATORY_ELECTRON_TRANSPORT',\n",
       "  'REACTOME_RESPIRATORY_ELECTRON_TRANSPORT_ATP_SYNTHESIS_BY_CHEMIOSMOTIC_COUPLING_AND_HEAT_PRODUCTION_BY_UNCOUPLING_PROTEINS_',\n",
       "  'REACTOME_IMMUNE_SYSTEM',\n",
       "  'REACTOME_ADAPTIVE_IMMUNE_SYSTEM',\n",
       "  'REACTOME_ANTIGEN_PROCESSING_CROSS_PRESENTATION',\n",
       "  'REACTOME_CELL_CYCLE_MITOTIC',\n",
       "  'REACTOME_G1_S_TRANSITION',\n",
       "  'REACTOME_S_PHASE',\n",
       "  'REACTOME_DNA_REPLICATION',\n",
       "  'REACTOME_M_G1_TRANSITION',\n",
       "  'REACTOME_CYTOSOLIC_TRNA_AMINOACYLATION',\n",
       "  'KEGG_PYRIMIDINE_METABOLISM',\n",
       "  'KEGG_CARDIAC_MUSCLE_CONTRACTION',\n",
       "  'KEGG_TIGHT_JUNCTION',\n",
       "  'REACTOME_AXON_GUIDANCE',\n",
       "  'REACTOME_INTEGRIN_CELL_SURFACE_INTERACTIONS',\n",
       "  'REACTOME_HEMOSTASIS',\n",
       "  'REACTOME_ASSEMBLY_OF_THE_PRE_REPLICATIVE_COMPLEX',\n",
       "  'REACTOME_SYNTHESIS_OF_DNA',\n",
       "  'REACTOME_METABOLISM_OF_NUCLEOTIDES',\n",
       "  'REACTOME_DNA_REPAIR',\n",
       "  'REACTOME_INTERFERON_SIGNALING',\n",
       "  'REACTOME_MITOTIC_M_M_G1_PHASES',\n",
       "  'REACTOME_EXTENSION_OF_TELOMERES',\n",
       "  'GO_CELL_PROLIFERATION',\n",
       "  'REACTOME_MEMBRANE_TRAFFICKING',\n",
       "  'KEGG_GLYCOLYSIS_GLUCONEOGENESIS',\n",
       "  'KEGG_CITRATE_CYCLE_TCA_CYCLE',\n",
       "  'GO_POSITIVE_REGULATION_OF_EPITHELIAL_CELL_MIGRATION',\n",
       "  'GO_CELL_CYCLE_G1_S_PHASE_TRANSITION',\n",
       "  'GO_CELL_CYCLE_G2_M_PHASE_TRANSITION',\n",
       "  'KEGG_DNA_REPLICATION',\n",
       "  'KEGG_AMINOACYL_TRNA_BIOSYNTHESIS',\n",
       "  'KEGG_MISMATCH_REPAIR',\n",
       "  'KEGG_NUCLEOTIDE_EXCISION_REPAIR',\n",
       "  'KEGG_PROTEIN_EXPORT',\n",
       "  'KEGG_RNA_DEGRADATION',\n",
       "  'KEGG_GLUTATHIONE_METABOLISM',\n",
       "  'KEGG_CITRATE_CYCLE_TCA_CYCLE.1',\n",
       "  'KEGG_BASE_EXCISION_REPAIR',\n",
       "  'HALLMARK_OXIDATIVE_PHOSPHORYLATION',\n",
       "  'HALLMARK_DNA_REPAIR',\n",
       "  'HALLMARK_GLYCOLYSIS',\n",
       "  'HALLMARK_PROTEIN_SECRETION',\n",
       "  'KEGG_AMINO_SUGAR_AND_NUCLEOTIDE_SUGAR_METABOLISM',\n",
       "  'JOOST_SG',\n",
       "  'JOOST_Immune']}"
      ]
     },
     "execution_count": 41,
     "metadata": {},
     "output_type": "execute_result"
    }
   ],
   "source": [
    "sig_max_gr"
   ]
  },
  {
   "cell_type": "markdown",
   "metadata": {},
   "source": [
    "### Plot number of significant genes"
   ]
  },
  {
   "cell_type": "code",
   "execution_count": 148,
   "metadata": {
    "collapsed": true
   },
   "outputs": [],
   "source": [
    "gsets_ordered = ['HALLMARK_TNFA_SIGNALING_VIA_NFKB',\n",
    " 'KEGG_STEROID_BIOSYNTHESIS',\n",
    " 'REACTOME_RNA_POL_III_TRANSCRIPTION',\n",
    " 'HALLMARK_MYC_TARGETS_V1',\n",
    " 'HALLMARK_MTORC1_SIGNALING',\n",
    " 'KEGG_PROTEASOME',\n",
    " 'JOOST_IFE B',\n",
    " 'REACTOME_DESTABILIZATION_OF_MRNA_BY_AUF1_HNRNP_D0',\n",
    " 'REACTOME_PREFOLDIN_MEDIATED_TRANSFER_OF_SUBSTRATE_TO_CCT_TRIC',\n",
    " 'REACTOME_PROTEIN_FOLDING',\n",
    " 'REACTOME_REGULATION_OF_ORNITHINE_DECARBOXYLASE_ODC',\n",
    " 'REACTOME_METABOLISM_OF_AMINO_ACIDS_AND_DERIVATIVES',\n",
    " 'REACTOME_SIGNALING_BY_WNT',\n",
    " 'REACTOME_ER_PHAGOSOME_PATHWAY',\n",
    " 'KEGG_CARDIAC_MUSCLE_CONTRACTION',\n",
    " 'REACTOME_CYTOSOLIC_TRNA_AMINOACYLATION', \n",
    " 'REACTOME_M_G1_TRANSITION',\n",
    " 'REACTOME_MITOTIC_M_M_G1_PHASES',\n",
    " 'REACTOME_S_PHASE',\n",
    " 'REACTOME_TCA_CYCLE_AND_RESPIRATORY_ELECTRON_TRANSPORT',\n",
    " 'REACTOME_MRNA_SPLICING',\n",
    " 'REACTOME_METABOLISM_OF_NUCLEOTIDES',\n",
    " 'REACTOME_PROCESSING_OF_CAPPED_INTRON_CONTAINING_PRE_MRNA',\n",
    " 'KEGG_MISMATCH_REPAIR',\n",
    " 'REACTOME_ACTIVATION_OF_THE_MRNA_UPON_BINDING_OF_THE_CAP_BINDING_COMPLEX_AND_EIFS_AND_SUBSEQUENT_BINDING_TO_43S',\n",
    " 'REACTOME_SRP_DEPENDENT_COTRANSLATIONAL_PROTEIN_TARGETING_TO_MEMBRANE',\n",
    " 'REACTOME_3_UTR_MEDIATED_TRANSLATIONAL_REGULATION',\n",
    " 'REACTOME_TRANSLATION',\n",
    " 'HALLMARK_REACTIVE_OXIGEN_SPECIES_PATHWAY',\n",
    " 'JOOST_IFE D']"
   ]
  },
  {
   "cell_type": "code",
   "execution_count": 201,
   "metadata": {
    "scrolled": false
   },
   "outputs": [
    {
     "name": "stderr",
     "output_type": "stream",
     "text": [
      "/Users/simjoo/anaconda/lib/python3.6/site-packages/ipykernel_launcher.py:8: DeprecationWarning: \n",
      ".ix is deprecated. Please use\n",
      ".loc for label based indexing or\n",
      ".iloc for positional indexing\n",
      "\n",
      "See the documentation here:\n",
      "http://pandas.pydata.org/pandas-docs/stable/indexing.html#ix-indexer-is-deprecated\n",
      "  \n",
      "/Users/simjoo/anaconda/lib/python3.6/site-packages/ipykernel_launcher.py:33: DeprecationWarning: \n",
      ".ix is deprecated. Please use\n",
      ".loc for label based indexing or\n",
      ".iloc for positional indexing\n",
      "\n",
      "See the documentation here:\n",
      "http://pandas.pydata.org/pandas-docs/stable/indexing.html#ix-indexer-is-deprecated\n",
      "/Users/simjoo/anaconda/lib/python3.6/site-packages/ipykernel_launcher.py:37: DeprecationWarning: \n",
      ".ix is deprecated. Please use\n",
      ".loc for label based indexing or\n",
      ".iloc for positional indexing\n",
      "\n",
      "See the documentation here:\n",
      "http://pandas.pydata.org/pandas-docs/stable/indexing.html#ix-indexer-is-deprecated\n"
     ]
    },
    {
     "data": {
      "image/png": "[encoded data removed]",
      "text/plain": [
       "<matplotlib.figure.Figure at 0x11e0b79b0>"
      ]
     },
     "metadata": {},
     "output_type": "display_data"
    }
   ],
   "source": [
    "gene_sets = gsets_ordered\n",
    "groups = ['PrC - Lgr5','WF - Lgr5','WEpB - Lgr5','WF - Lgr6','WEpB - Lgr6','WEpD - Lgr6',]\n",
    "gr_Lgr5 = ['PrC - Lgr5','WF - Lgr5','WEpB - Lgr5']\n",
    "gr_Lgr6 = ['WF - Lgr6','WEpB - Lgr6','WEpD - Lgr6']\n",
    "alpha = -np.log10(0.05)\n",
    "data1 = pvals_sig_BH.astype(float)\n",
    "data1 = -np.log10(data1)\n",
    "data1 = data1.ix[gene_sets, groups]\n",
    "data2 = data1.copy()\n",
    "data2[gr_Lgr5] = data1.apply(lambda x: (x[gr_Lgr5] - alpha) / (np.max(x[gr_Lgr5]) - alpha), axis = 1)\n",
    "data2[gr_Lgr6] = data1.apply(lambda x: (x[gr_Lgr6] - alpha) / (np.max(x[gr_Lgr6]) - alpha), axis = 1)\n",
    "cmap1 = plt.cm.Blues\n",
    "cmap2 = plt.cm.Oranges\n",
    "\n",
    "#initialize figure\n",
    "\n",
    "height = 1 * len(data1.index)\n",
    "width = 2 * len(data1.columns)\n",
    "\n",
    "plt.figure(facecolor = 'w', figsize = (width, height))\n",
    "\n",
    "gs = plt.GridSpec(len(data1.index), \n",
    "                  len(data1.columns), \n",
    "                  hspace=0.0, \n",
    "                  wspace = 0.0)\n",
    "\n",
    "#plot heatmap\n",
    "\n",
    "for c, gr in enumerate(['PrC - Lgr5','WF - Lgr5','WEpB - Lgr5','WF - Lgr6','WEpB - Lgr6','WEpD - Lgr6',]):\n",
    "    for r, sig in enumerate(data1.index):\n",
    "        ax = plt.subplot(gs[r,c])\n",
    "        ax.set_xlim(0,1)\n",
    "        v = data1.ix[sig,gr]\n",
    "        if v < alpha:\n",
    "            col = '#ffffff'\n",
    "        elif gr in gr_Lgr5:\n",
    "            col = cmap1(data2.ix[r,c]/1.2)\n",
    "        elif gr in gr_Lgr6:\n",
    "            col = cmap2(data2.ix[r,c]/1.2)\n",
    "        ax.axvspan(0,1, color = col)\n",
    "        clean_axis(ax)\n",
    "\n",
    "\n",
    "figname = 'v2.6_3_Lgr5_Lgr6_functional_sig_count_cond.pdf'\n",
    "plt.savefig('%s/%s' % (path_figures, figname), \n",
    "            format = 'pdf', \n",
    "            transparent = True, \n",
    "            bbox_inches = 'tight', \n",
    "            pad_inches = 0, \n",
    "            rasterized = True)"
   ]
  },
  {
   "cell_type": "code",
   "execution_count": 99,
   "metadata": {},
   "outputs": [
    {
     "data": {
      "image/png": "[encoded data removed]",
      "text/plain": [
       "<matplotlib.figure.Figure at 0x124b9e748>"
      ]
     },
     "metadata": {},
     "output_type": "display_data"
    }
   ],
   "source": [
    "cmap = plt.cm.Blues\n",
    "     \n",
    "height = 1\n",
    "width = 10\n",
    "\n",
    "fig = plt.figure(facecolor = 'w', figsize = (width, height))\n",
    "\n",
    "#draw\n",
    "\n",
    "axLabel = plt.subplot()\n",
    "axLabel.set_xlim(0.0, 1.0 / 1.2)\n",
    "\n",
    "for pos in np.arange(0.0, 1.0, 0.001):\n",
    "    axLabel.axvspan(pos, pos + 0.001, color = cmap(pos))\n",
    "    \n",
    "remove_ticks(axLabel)\n",
    "\n",
    "\n",
    "figname = 'v2.6_3_pval_Legend1.pdf'\n",
    "plt.savefig('%s/%s' % (path_figures, figname), \n",
    "            format = 'pdf', \n",
    "            transparent = True, \n",
    "            bbox_inches = 'tight', \n",
    "            pad_inches = 0, \n",
    "            rasterized = True)"
   ]
  },
  {
   "cell_type": "code",
   "execution_count": 100,
   "metadata": {},
   "outputs": [
    {
     "data": {
      "image/png": "[encoded data removed]",
      "text/plain": [
       "<matplotlib.figure.Figure at 0x132a95940>"
      ]
     },
     "metadata": {},
     "output_type": "display_data"
    }
   ],
   "source": [
    "cmap = plt.cm.Oranges\n",
    "     \n",
    "height = 1\n",
    "width = 10\n",
    "\n",
    "fig = plt.figure(facecolor = 'w', figsize = (width, height))\n",
    "\n",
    "#draw\n",
    "\n",
    "axLabel = plt.subplot()\n",
    "axLabel.set_xlim(0.0, 1.0 / 1.2)\n",
    "\n",
    "for pos in np.arange(0.0, 1.0, 0.001):\n",
    "    axLabel.axvspan(pos, pos + 0.001, color = cmap(pos))\n",
    "    \n",
    "remove_ticks(axLabel)\n",
    "\n",
    "figname = 'v2.6_3_pval_Legend2.pdf'\n",
    "plt.savefig('%s/%s' % (path_figures, figname), \n",
    "            format = 'pdf', \n",
    "            transparent = True, \n",
    "            bbox_inches = 'tight', \n",
    "            pad_inches = 0, \n",
    "            rasterized = True)"
   ]
  },
  {
   "cell_type": "markdown",
   "metadata": {},
   "source": [
    "## Plot q-values (absolute)"
   ]
  },
  {
   "cell_type": "code",
   "execution_count": 173,
   "metadata": {
    "scrolled": false
   },
   "outputs": [
    {
     "name": "stderr",
     "output_type": "stream",
     "text": [
      "/Users/simjoo/anaconda/lib/python3.6/site-packages/ipykernel_launcher.py:6: DeprecationWarning: \n",
      ".ix is deprecated. Please use\n",
      ".loc for label based indexing or\n",
      ".iloc for positional indexing\n",
      "\n",
      "See the documentation here:\n",
      "http://pandas.pydata.org/pandas-docs/stable/indexing.html#ix-indexer-is-deprecated\n",
      "  \n",
      "/Users/simjoo/anaconda/lib/python3.6/site-packages/ipykernel_launcher.py:29: DeprecationWarning: \n",
      ".ix is deprecated. Please use\n",
      ".loc for label based indexing or\n",
      ".iloc for positional indexing\n",
      "\n",
      "See the documentation here:\n",
      "http://pandas.pydata.org/pandas-docs/stable/indexing.html#ix-indexer-is-deprecated\n"
     ]
    },
    {
     "data": {
      "image/png": "[encoded data removed]",
      "text/plain": [
       "<matplotlib.figure.Figure at 0x12040e080>"
      ]
     },
     "metadata": {},
     "output_type": "display_data"
    }
   ],
   "source": [
    "gene_sets = gsets_ordered\n",
    "groups = ['PrC - Lgr5','WF - Lgr5','WEpB - Lgr5','WF - Lgr6','WEpB - Lgr6','WEpD - Lgr6',]\n",
    "alpha = -np.log10(0.05)\n",
    "data1 = pvals_sig_BH.astype(float)\n",
    "data1 = -np.log10(data1)\n",
    "data1 = data1.ix[gene_sets, groups]\n",
    "cmap1 = plt.cm.Spectral_r\n",
    "vmin = alpha\n",
    "vmax = 50\n",
    "\n",
    "#initialize figure\n",
    "\n",
    "height = 1 * len(data1.index)\n",
    "width = 2 * len(data1.columns)\n",
    "\n",
    "plt.figure(facecolor = 'w', figsize = (width, height))\n",
    "\n",
    "gs = plt.GridSpec(len(data1.index), \n",
    "                  len(data1.columns), \n",
    "                  hspace=0.0, \n",
    "                  wspace = 0.0)\n",
    "\n",
    "#plot heatmap\n",
    "\n",
    "for c, gr in enumerate(['PrC - Lgr5','WF - Lgr5','WEpB - Lgr5','WF - Lgr6','WEpB - Lgr6','WEpD - Lgr6',]):\n",
    "    for r, sig in enumerate(data1.index):\n",
    "        ax = plt.subplot(gs[r,c])\n",
    "        ax.set_xlim(0,1)\n",
    "        v = data1.ix[sig,gr]\n",
    "        if v < alpha:\n",
    "            col = '#ffffff'\n",
    "        else:\n",
    "            col = cmap1((data1.ix[r,c]-vmin)/(vmax-vmin))\n",
    "        ax.axvspan(0,1, color = col)\n",
    "        clean_axis(ax)\n",
    "\n",
    "\n",
    "figname = 'v2.6_3_Lgr5_Lgr6_functional_sig_count_cond_abs.pdf'\n",
    "plt.savefig('%s/%s' % (path_figures, figname), \n",
    "            format = 'pdf', \n",
    "            transparent = True, \n",
    "            bbox_inches = 'tight', \n",
    "            pad_inches = 0, \n",
    "            rasterized = True)"
   ]
  },
  {
   "cell_type": "code",
   "execution_count": 178,
   "metadata": {},
   "outputs": [
    {
     "data": {
      "image/png": "[encoded data removed]",
      "text/plain": [
       "<matplotlib.figure.Figure at 0x11c388d30>"
      ]
     },
     "metadata": {},
     "output_type": "display_data"
    }
   ],
   "source": [
    "cmap = plt.cm.Spectral_r\n",
    "     \n",
    "height = 1\n",
    "width = 10\n",
    "\n",
    "fig = plt.figure(facecolor = 'w', figsize = (width, height))\n",
    "\n",
    "#draw\n",
    "\n",
    "axLabel = plt.subplot()\n",
    "axLabel.set_xlim(vmin,vmax)\n",
    "axLabel.set_xticks([1.3, 10,20,30,40,50])\n",
    "axLabel.set_xticklabels([1.3, 10,20,30,40,50], family = 'Arial', fontsize = 25)\n",
    "axLabel.set_yticks([])\n",
    "\n",
    "\n",
    "for pos in np.arange(vmin, vmax, 1):\n",
    "    axLabel.axvspan(pos, pos + 1, color = cmap((pos-vmin)/(vmax-vmin)))\n",
    "    \n",
    "#remove_ticks(axLabel)\n",
    "\n",
    "\n",
    "figname = 'v2.6_3_pval_Legend_abs.pdf'\n",
    "plt.savefig('%s/%s' % (path_figures, figname), \n",
    "            format = 'pdf', \n",
    "            transparent = True, \n",
    "            bbox_inches = 'tight', \n",
    "            pad_inches = 0, \n",
    "            rasterized = True)"
   ]
  },
  {
   "cell_type": "markdown",
   "metadata": {},
   "source": [
    "## Plot counts (absolute)"
   ]
  },
  {
   "cell_type": "code",
   "execution_count": 185,
   "metadata": {},
   "outputs": [
    {
     "name": "stderr",
     "output_type": "stream",
     "text": [
      "/Users/simjoo/anaconda/lib/python3.6/site-packages/ipykernel_launcher.py:26: DeprecationWarning: \n",
      ".ix is deprecated. Please use\n",
      ".loc for label based indexing or\n",
      ".iloc for positional indexing\n",
      "\n",
      "See the documentation here:\n",
      "http://pandas.pydata.org/pandas-docs/stable/indexing.html#ix-indexer-is-deprecated\n"
     ]
    },
    {
     "data": {
      "image/png": "[encoded data removed]",
      "text/plain": [
       "<matplotlib.figure.Figure at 0x11c954668>"
      ]
     },
     "metadata": {},
     "output_type": "display_data"
    }
   ],
   "source": [
    "gene_sets = gsets_ordered\n",
    "groups = ['PrC - Lgr5','WF - Lgr5','WEpB - Lgr5','WF - Lgr6','WEpB - Lgr6','WEpD - Lgr6',]\n",
    "data1 = count_sig.ix[gene_sets, groups]\n",
    "cmap1 = plt.cm.viridis\n",
    "vmin = 0\n",
    "vmax = 50\n",
    "\n",
    "#initialize figure\n",
    "\n",
    "height = 1 * len(data1.index)\n",
    "width = 2 * len(data1.columns)\n",
    "\n",
    "plt.figure(facecolor = 'w', figsize = (width, height))\n",
    "\n",
    "gs = plt.GridSpec(len(data1.index), \n",
    "                  len(data1.columns), \n",
    "                  hspace=0.0, \n",
    "                  wspace = 0.0)\n",
    "\n",
    "#plot heatmap\n",
    "\n",
    "for c, gr in enumerate(['PrC - Lgr5','WF - Lgr5','WEpB - Lgr5','WF - Lgr6','WEpB - Lgr6','WEpD - Lgr6',]):\n",
    "    for r, sig in enumerate(data1.index):\n",
    "        ax = plt.subplot(gs[r,c])\n",
    "        ax.set_xlim(0,1)\n",
    "        col = cmap1((data1.ix[r,c]-vmin)/(vmax-vmin))\n",
    "        ax.axvspan(0,1, color = col)\n",
    "        clean_axis(ax)\n",
    "\n",
    "\n",
    "figname = 'v2.6_3_Lgr5_Lgr6_functional_count_abs.pdf'\n",
    "plt.savefig('%s/%s' % (path_figures, figname), \n",
    "            format = 'pdf', \n",
    "            transparent = True, \n",
    "            bbox_inches = 'tight', \n",
    "            pad_inches = 0, \n",
    "            rasterized = True)"
   ]
  },
  {
   "cell_type": "code",
   "execution_count": 187,
   "metadata": {},
   "outputs": [
    {
     "data": {
      "image/png": "[encoded data removed]",
      "text/plain": [
       "<matplotlib.figure.Figure at 0x125017f98>"
      ]
     },
     "metadata": {},
     "output_type": "display_data"
    }
   ],
   "source": [
    "cmap = plt.cm.viridis\n",
    "     \n",
    "height = 1\n",
    "width = 10\n",
    "\n",
    "fig = plt.figure(facecolor = 'w', figsize = (width, height))\n",
    "\n",
    "#draw\n",
    "\n",
    "axLabel = plt.subplot()\n",
    "axLabel.set_xlim(vmin,vmax)\n",
    "axLabel.set_xticks([0, 10,20,30,40,50])\n",
    "axLabel.set_xticklabels([0, 10,20,30,40,50], family = 'Arial', fontsize = 25)\n",
    "axLabel.set_yticks([])\n",
    "\n",
    "\n",
    "for pos in np.arange(vmin, vmax, 1):\n",
    "    axLabel.axvspan(pos, pos + 1, color = cmap((pos-vmin)/(vmax-vmin)))\n",
    "    \n",
    "#remove_ticks(axLabel)\n",
    "\n",
    "\n",
    "figname = 'v2.6_3_pval_Legend_count.pdf'\n",
    "plt.savefig('%s/%s' % (path_figures, figname), \n",
    "            format = 'pdf', \n",
    "            transparent = True, \n",
    "            bbox_inches = 'tight', \n",
    "            pad_inches = 0, \n",
    "            rasterized = True)"
   ]
  },
  {
   "cell_type": "markdown",
   "metadata": {},
   "source": [
    "# Interaction between Lgr5 and Lgr6 WF cells and wound environment"
   ]
  },
  {
   "cell_type": "code",
   "execution_count": 21,
   "metadata": {},
   "outputs": [
    {
     "name": "stderr",
     "output_type": "stream",
     "text": [
      "/Users/simjoo/Projects/STRT_wound/scripts/WND_misc_scripts_v2_0.py:240: FutureWarning: from_csv is deprecated. Please use read_csv(...) instead. Note that some of the default arguments are different, so please refer to the documentation for from_csv when changing your function calls\n",
      "  dataset = pd.DataFrame.from_csv('%s/%s_%s.txt' % (path, id_, name), sep = '\\t', header = 0, index_col = 0)\n"
     ]
    }
   ],
   "source": [
    "PairsLigRec_mm = loadData_v1(path_input, exp_id, 'PairsLigRec_mm', 'DataFrame')"
   ]
  },
  {
   "cell_type": "code",
   "execution_count": 22,
   "metadata": {},
   "outputs": [],
   "source": [
    "ligands = list(set(PairsLigRec_mm['Ligand.ApprovedSymbol_mm'].values))\n",
    "receptors = list(set(PairsLigRec_mm['Receptor.ApprovedSymbol_mm'].values))"
   ]
  },
  {
   "cell_type": "markdown",
   "metadata": {},
   "source": [
    "### Define genes expressed in Lgr5 and Lgr6 WF and ctrl (lower 0-day control serves as Baseline)"
   ]
  },
  {
   "cell_type": "code",
   "execution_count": 23,
   "metadata": {
    "collapsed": true
   },
   "outputs": [],
   "source": [
    "NBR_states_pval_Lgr5_0d = neg_binom_estimate_prob_v1P(NBR_states_traces, 'Lgr5 - ctrl', dview)\n",
    "NBR_states_pval_Lgr6_0d = neg_binom_estimate_prob_v1P(NBR_states_traces, 'Lgr6 - ctrl - IFE', dview)"
   ]
  },
  {
   "cell_type": "code",
   "execution_count": 24,
   "metadata": {
    "collapsed": true
   },
   "outputs": [],
   "source": [
    "#saveData_to_pickle_v1(NBR_states_pval_Lgr5_0d, path_output, exp_id, 'NBR_states_pval_Lgr5_0d')\n",
    "#saveData_to_pickle_v1(NBR_states_pval_Lgr6_0d, path_output, exp_id, 'NBR_states_pval_Lgr6_0d')"
   ]
  },
  {
   "cell_type": "code",
   "execution_count": 23,
   "metadata": {},
   "outputs": [],
   "source": [
    "NBR_states_pval_Lgr5_0d = loadData_from_pickle_v1(path_output, exp_id, 'NBR_states_pval_Lgr5_0d')\n",
    "NBR_states_pval_Lgr6_0d = loadData_from_pickle_v1(path_output, exp_id, 'NBR_states_pval_Lgr6_0d')"
   ]
  },
  {
   "cell_type": "code",
   "execution_count": 24,
   "metadata": {},
   "outputs": [],
   "source": [
    "NBR_states_pval_Lgr5_0d_bin = neg_binom_get_binarized(NBR_states_pval_Lgr5_0d, 0.01)\n",
    "NBR_states_pval_Lgr5_0d_bin['Lgr5 - ctrl'] = 0 \n",
    "NBR_states_pval_Lgr6_0d_bin = neg_binom_get_binarized(NBR_states_pval_Lgr6_0d, 0.01)\n",
    "NBR_states_pval_Lgr6_0d_bin['Lgr6 - ctrl - IFE'] = 0"
   ]
  },
  {
   "cell_type": "code",
   "execution_count": 25,
   "metadata": {},
   "outputs": [],
   "source": [
    "NBR_states_pval_0d_bin = NBR_states_pval_Lgr5_0d_bin + NBR_states_pval_Lgr6_0d_bin"
   ]
  },
  {
   "cell_type": "code",
   "execution_count": 26,
   "metadata": {},
   "outputs": [],
   "source": [
    "genes_expr_ctrl_Lgr5 = NBR_states_pval_0d_bin['Lgr5 - ctrl'][NBR_states_pval_0d_bin['Lgr5 - ctrl']>0].index\n",
    "genes_expr_ctrl_Lgr6 = NBR_states_pval_0d_bin['Lgr6 - ctrl - IFE'][NBR_states_pval_0d_bin['Lgr6 - ctrl - IFE']>0].index"
   ]
  },
  {
   "cell_type": "code",
   "execution_count": 27,
   "metadata": {},
   "outputs": [
    {
     "name": "stdout",
     "output_type": "stream",
     "text": [
      "527 1537\n"
     ]
    }
   ],
   "source": [
    "print(len(genes_expr_ctrl_Lgr5), len(genes_expr_ctrl_Lgr6))"
   ]
  },
  {
   "cell_type": "code",
   "execution_count": 28,
   "metadata": {},
   "outputs": [],
   "source": [
    "gr_WF_Lgr5 = ['Lgr5 - 2', 'Lgr5 - 0']\n",
    "genes_expr_WF_Lgr5 = NBR_states_pval_0d_bin[gr_WF_Lgr5].sum(axis=1)[NBR_states_pval_0d_bin[gr_WF_Lgr5].sum(axis=1)>0].index\n",
    "\n",
    "gr_WF_Lgr6 = ['Lgr6 - 5', 'Lgr6 - 1']\n",
    "genes_expr_WF_Lgr6 = NBR_states_pval_0d_bin[gr_WF_Lgr6].sum(axis=1)[NBR_states_pval_0d_bin[gr_WF_Lgr6].sum(axis=1)>0].index"
   ]
  },
  {
   "cell_type": "code",
   "execution_count": 29,
   "metadata": {},
   "outputs": [
    {
     "name": "stdout",
     "output_type": "stream",
     "text": [
      "1662 2400\n"
     ]
    }
   ],
   "source": [
    "print(len(genes_expr_WF_Lgr5), len(genes_expr_WF_Lgr6))"
   ]
  },
  {
   "cell_type": "markdown",
   "metadata": {},
   "source": [
    "### Define receptors / ligands expressed in Lgr5 and Lgr6 WF and ctrl "
   ]
  },
  {
   "cell_type": "code",
   "execution_count": 30,
   "metadata": {},
   "outputs": [],
   "source": [
    "ligands_expr_ctrl_Lgr5 = [g for g in genes_expr_ctrl_Lgr5 if g in ligands]\n",
    "ligands_expr_ctrl_Lgr6  = [g for g in genes_expr_ctrl_Lgr6 if g in ligands]\n",
    "\n",
    "receptors_expr_ctrl_Lgr5  = [g for g in genes_expr_ctrl_Lgr5 if g in receptors]\n",
    "receptors_expr_ctrl_Lgr6  = [g for g in genes_expr_ctrl_Lgr6 if g in receptors]"
   ]
  },
  {
   "cell_type": "code",
   "execution_count": 31,
   "metadata": {},
   "outputs": [
    {
     "name": "stdout",
     "output_type": "stream",
     "text": [
      "38 43 33 60\n"
     ]
    }
   ],
   "source": [
    "print(len(ligands_expr_ctrl_Lgr5), len(ligands_expr_ctrl_Lgr6), len(receptors_expr_ctrl_Lgr5), len(receptors_expr_ctrl_Lgr6))"
   ]
  },
  {
   "cell_type": "code",
   "execution_count": 32,
   "metadata": {},
   "outputs": [],
   "source": [
    "ligands_expr_WF_Lgr5 = [g for g in genes_expr_WF_Lgr5 if g in ligands]\n",
    "ligands_expr_WF_Lgr6  = [g for g in genes_expr_WF_Lgr6 if g in ligands]\n",
    "\n",
    "receptors_expr_WF_Lgr5  = [g for g in genes_expr_WF_Lgr5 if g in receptors]\n",
    "receptors_expr_WF_Lgr6  = [g for g in genes_expr_WF_Lgr6 if g in receptors]"
   ]
  },
  {
   "cell_type": "code",
   "execution_count": 33,
   "metadata": {},
   "outputs": [
    {
     "name": "stdout",
     "output_type": "stream",
     "text": [
      "50 55 54 67\n"
     ]
    }
   ],
   "source": [
    "print(len(ligands_expr_WF_Lgr5), len(ligands_expr_WF_Lgr6), len(receptors_expr_WF_Lgr5), len(receptors_expr_WF_Lgr6))"
   ]
  },
  {
   "cell_type": "markdown",
   "metadata": {},
   "source": [
    "### Define genes induced in Lgr5 and Lgr6 WF (compared to 0-day control of same background)"
   ]
  },
  {
   "cell_type": "code",
   "execution_count": 34,
   "metadata": {},
   "outputs": [],
   "source": [
    "NBR_states_pval_0d = pd.concat([NBR_states_Lgr5_pval_0d,NBR_states_Lgr6_pval_0d],axis=1)"
   ]
  },
  {
   "cell_type": "code",
   "execution_count": 35,
   "metadata": {},
   "outputs": [],
   "source": [
    "gr_WF = ['Lgr5 - 2','Lgr5 - 0','Lgr6 - 1','Lgr6 - 5']\n",
    "genes_WF = NBR_states_pval_0d[gr_WF].min(axis=1)[NBR_states_pval_0d[gr_WF].min(axis=1)<0.01].index"
   ]
  },
  {
   "cell_type": "code",
   "execution_count": 36,
   "metadata": {},
   "outputs": [
    {
     "data": {
      "text/plain": [
       "2025"
      ]
     },
     "execution_count": 36,
     "metadata": {},
     "output_type": "execute_result"
    }
   ],
   "source": [
    "len(genes_WF)"
   ]
  },
  {
   "cell_type": "code",
   "execution_count": 37,
   "metadata": {},
   "outputs": [],
   "source": [
    "ligands_WF = [g for g in genes_WF if g in ligands]\n",
    "receptors_WF = [g for g in genes_WF if g in receptors]"
   ]
  },
  {
   "cell_type": "code",
   "execution_count": 38,
   "metadata": {},
   "outputs": [
    {
     "name": "stdout",
     "output_type": "stream",
     "text": [
      "38 45\n"
     ]
    }
   ],
   "source": [
    "print(len(ligands_WF), len(receptors_WF))"
   ]
  },
  {
   "cell_type": "markdown",
   "metadata": {},
   "source": [
    "### Define ligands and receptors upregulated in epidermis + stroma (based on bulk-seq data, 1 day p.w.)"
   ]
  },
  {
   "cell_type": "code",
   "execution_count": 39,
   "metadata": {},
   "outputs": [],
   "source": [
    "reclig = list(ligands) + list(receptors) "
   ]
  },
  {
   "cell_type": "code",
   "execution_count": 40,
   "metadata": {},
   "outputs": [],
   "source": [
    "bulk_2h = pd.read_csv('%s/gene_exp_2hr.diff' % path_input, sep = '\\t', index_col = 0)\n",
    "bulk_6h = pd.read_csv('%s/gene_exp_6hr.diff' % path_input, sep = '\\t', index_col = 0)\n",
    "bulk_24h = pd.read_csv('%s/gene_exp_24hr.diff' % path_input, sep = '\\t', index_col = 0)"
   ]
  },
  {
   "cell_type": "code",
   "execution_count": 41,
   "metadata": {},
   "outputs": [],
   "source": [
    "genes_reclig_diff = [g for g in bulk_2h.index if g in reclig]"
   ]
  },
  {
   "cell_type": "code",
   "execution_count": 42,
   "metadata": {},
   "outputs": [
    {
     "name": "stderr",
     "output_type": "stream",
     "text": [
      "/Users/simjoo/anaconda/lib/python3.6/site-packages/ipykernel_launcher.py:1: DeprecationWarning: \n",
      ".ix is deprecated. Please use\n",
      ".loc for label based indexing or\n",
      ".iloc for positional indexing\n",
      "\n",
      "See the documentation here:\n",
      "http://pandas.pydata.org/pandas-docs/stable/indexing.html#ix-indexer-is-deprecated\n",
      "  \"\"\"Entry point for launching an IPython kernel.\n",
      "/Users/simjoo/anaconda/lib/python3.6/site-packages/ipykernel_launcher.py:4: DeprecationWarning: \n",
      ".ix is deprecated. Please use\n",
      ".loc for label based indexing or\n",
      ".iloc for positional indexing\n",
      "\n",
      "See the documentation here:\n",
      "http://pandas.pydata.org/pandas-docs/stable/indexing.html#ix-indexer-is-deprecated\n",
      "  after removing the cwd from sys.path.\n",
      "/Users/simjoo/anaconda/lib/python3.6/site-packages/ipykernel_launcher.py:7: DeprecationWarning: \n",
      ".ix is deprecated. Please use\n",
      ".loc for label based indexing or\n",
      ".iloc for positional indexing\n",
      "\n",
      "See the documentation here:\n",
      "http://pandas.pydata.org/pandas-docs/stable/indexing.html#ix-indexer-is-deprecated\n",
      "  import sys\n"
     ]
    }
   ],
   "source": [
    "bulk_2h_reclig = bulk_2h.ix[reclig]\n",
    "bulk_2h_reclig['q_value'] = stats.p_adjust(FloatVector(bulk_2h_reclig['p_value']), method = 'BH')\n",
    "\n",
    "bulk_6h_reclig = bulk_6h.ix[reclig]\n",
    "bulk_6h_reclig['q_value'] = stats.p_adjust(FloatVector(bulk_6h_reclig['p_value']), method = 'BH')\n",
    "\n",
    "bulk_24h_reclig = bulk_24h.ix[reclig]\n",
    "bulk_24h_reclig['q_value'] = stats.p_adjust(FloatVector(bulk_24h_reclig['p_value']), method = 'BH')"
   ]
  },
  {
   "cell_type": "code",
   "execution_count": 43,
   "metadata": {},
   "outputs": [
    {
     "name": "stderr",
     "output_type": "stream",
     "text": [
      "/Users/simjoo/anaconda/lib/python3.6/site-packages/ipykernel_launcher.py:2: DeprecationWarning: \n",
      ".ix is deprecated. Please use\n",
      ".loc for label based indexing or\n",
      ".iloc for positional indexing\n",
      "\n",
      "See the documentation here:\n",
      "http://pandas.pydata.org/pandas-docs/stable/indexing.html#ix-indexer-is-deprecated\n",
      "  \n",
      "/Users/simjoo/anaconda/lib/python3.6/site-packages/ipykernel_launcher.py:5: DeprecationWarning: \n",
      ".ix is deprecated. Please use\n",
      ".loc for label based indexing or\n",
      ".iloc for positional indexing\n",
      "\n",
      "See the documentation here:\n",
      "http://pandas.pydata.org/pandas-docs/stable/indexing.html#ix-indexer-is-deprecated\n",
      "  \"\"\"\n",
      "/Users/simjoo/anaconda/lib/python3.6/site-packages/ipykernel_launcher.py:8: DeprecationWarning: \n",
      ".ix is deprecated. Please use\n",
      ".loc for label based indexing or\n",
      ".iloc for positional indexing\n",
      "\n",
      "See the documentation here:\n",
      "http://pandas.pydata.org/pandas-docs/stable/indexing.html#ix-indexer-is-deprecated\n",
      "  \n"
     ]
    }
   ],
   "source": [
    "genes_up_reclig_bulk_2h = bulk_2h_reclig['test_stat'][bulk_2h_reclig['test_stat']>0].index\n",
    "genes_up_reclig_bulk_2h = bulk_2h_reclig.ix[genes_up_reclig_bulk_2h, 'q_value'][bulk_2h_reclig.ix[genes_up_reclig_bulk_2h, 'q_value']<=0.01].index\n",
    "\n",
    "genes_up_reclig_bulk_6h = bulk_6h_reclig['test_stat'][bulk_6h_reclig['test_stat']>0].index\n",
    "genes_up_reclig_bulk_6h = bulk_6h_reclig.ix[genes_up_reclig_bulk_6h, 'q_value'][bulk_6h_reclig.ix[genes_up_reclig_bulk_6h, 'q_value']<=0.01].index\n",
    "\n",
    "genes_up_reclig_bulk_24h = bulk_24h_reclig['test_stat'][bulk_24h_reclig['test_stat']>0].index\n",
    "genes_up_reclig_bulk_24h = bulk_24h_reclig.ix[genes_up_reclig_bulk_24h, 'q_value'][bulk_24h_reclig.ix[genes_up_reclig_bulk_24h, 'q_value']<=0.01].index"
   ]
  },
  {
   "cell_type": "code",
   "execution_count": 44,
   "metadata": {},
   "outputs": [
    {
     "name": "stdout",
     "output_type": "stream",
     "text": [
      "91 143 130\n"
     ]
    }
   ],
   "source": [
    "print(len(genes_up_reclig_bulk_2h), len(genes_up_reclig_bulk_6h), len(genes_up_reclig_bulk_24h))"
   ]
  },
  {
   "cell_type": "code",
   "execution_count": 45,
   "metadata": {},
   "outputs": [],
   "source": [
    "genes_up_rec_bulk_2h = [g for g in genes_up_reclig_bulk_2h if g in receptors]\n",
    "genes_up_lig_bulk_2h = [g for g in genes_up_reclig_bulk_2h if g in ligands]\n",
    "\n",
    "genes_up_rec_bulk_6h = [g for g in genes_up_reclig_bulk_6h if g in receptors]\n",
    "genes_up_lig_bulk_6h = [g for g in genes_up_reclig_bulk_6h if g in ligands]\n",
    "\n",
    "genes_up_rec_bulk_24h = [g for g in genes_up_reclig_bulk_24h if g in receptors]\n",
    "genes_up_lig_bulk_24h = [g for g in genes_up_reclig_bulk_24h if g in ligands]"
   ]
  },
  {
   "cell_type": "code",
   "execution_count": 46,
   "metadata": {},
   "outputs": [
    {
     "data": {
      "text/plain": [
       "(43, 48, 76, 67, 62, 68)"
      ]
     },
     "execution_count": 46,
     "metadata": {},
     "output_type": "execute_result"
    }
   ],
   "source": [
    "len(genes_up_rec_bulk_2h), len(genes_up_lig_bulk_2h), len(genes_up_rec_bulk_6h), len(genes_up_lig_bulk_6h), len(genes_up_rec_bulk_24h), len(genes_up_lig_bulk_24h)"
   ]
  },
  {
   "cell_type": "markdown",
   "metadata": {},
   "source": [
    "### Screen for potential ligand / receptor interactions in WF vs. stroma"
   ]
  },
  {
   "cell_type": "code",
   "execution_count": 52,
   "metadata": {},
   "outputs": [],
   "source": [
    "PairsLigRec_mm_S = pd.Series(PairsLigRec_mm['Receptor.ApprovedSymbol_mm'].values, index = PairsLigRec_mm['Ligand.ApprovedSymbol_mm'].values)"
   ]
  },
  {
   "cell_type": "code",
   "execution_count": 53,
   "metadata": {},
   "outputs": [],
   "source": [
    "dict_lig_WF_vs_bulk = {'WF_Lgr5':ligands_expr_WF_Lgr5,\n",
    "                       'WF_Lgr6':ligands_expr_WF_Lgr6,\n",
    "                       'ctrl_Lgr5':ligands_expr_ctrl_Lgr5,\n",
    "                       'ctrl_Lgr6':ligands_expr_ctrl_Lgr6,\n",
    "                       'bulk_2h':genes_up_lig_bulk_2h,\n",
    "                       'bulk_6h':genes_up_lig_bulk_6h,\n",
    "                       'bulk_24h':genes_up_lig_bulk_24h}\n",
    "\n",
    "dict_rec_WF_vs_bulk = {'WF_Lgr5':receptors_expr_WF_Lgr5,\n",
    "                       'WF_Lgr6':receptors_expr_WF_Lgr6,\n",
    "                       'ctrl_Lgr5':receptors_expr_ctrl_Lgr5,\n",
    "                       'ctrl_Lgr6':receptors_expr_ctrl_Lgr6,\n",
    "                       'bulk_2h':genes_up_rec_bulk_2h,\n",
    "                       'bulk_6h':genes_up_rec_bulk_6h,\n",
    "                       'bulk_24h':genes_up_rec_bulk_24h}"
   ]
  },
  {
   "cell_type": "code",
   "execution_count": 54,
   "metadata": {},
   "outputs": [
    {
     "name": "stderr",
     "output_type": "stream",
     "text": [
      "/Users/simjoo/anaconda/lib/python3.6/site-packages/ipykernel_launcher.py:19: DeprecationWarning: \n",
      ".ix is deprecated. Please use\n",
      ".loc for label based indexing or\n",
      ".iloc for positional indexing\n",
      "\n",
      "See the documentation here:\n",
      "http://pandas.pydata.org/pandas-docs/stable/indexing.html#ix-indexer-is-deprecated\n",
      "/Users/simjoo/anaconda/lib/python3.6/site-packages/ipykernel_launcher.py:22: DeprecationWarning: \n",
      ".ix is deprecated. Please use\n",
      ".loc for label based indexing or\n",
      ".iloc for positional indexing\n",
      "\n",
      "See the documentation here:\n",
      "http://pandas.pydata.org/pandas-docs/stable/indexing.html#ix-indexer-is-deprecated\n",
      "/Users/simjoo/anaconda/lib/python3.6/site-packages/ipykernel_launcher.py:25: DeprecationWarning: \n",
      ".ix is deprecated. Please use\n",
      ".loc for label based indexing or\n",
      ".iloc for positional indexing\n",
      "\n",
      "See the documentation here:\n",
      "http://pandas.pydata.org/pandas-docs/stable/indexing.html#ix-indexer-is-deprecated\n"
     ]
    }
   ],
   "source": [
    "LigReg_WF_vs_bulk_df, LigReg_WF_vs_bulk_dict, quant_LigReg_WF_vs_bulk_df, quant_LigReg_WF_vs_bulk_dict = quantify_LigRec(dict_lig_WF_vs_bulk, \n",
    "                                                             dict_rec_WF_vs_bulk, \n",
    "                                                             PairsLigRec_mm_S)"
   ]
  },
  {
   "cell_type": "code",
   "execution_count": 55,
   "metadata": {},
   "outputs": [
    {
     "data": {
      "text/html": [
       "<div>\n",
       "<style scoped>\n",
       "    .dataframe tbody tr th:only-of-type {\n",
       "        vertical-align: middle;\n",
       "    }\n",
       "\n",
       "    .dataframe tbody tr th {\n",
       "        vertical-align: top;\n",
       "    }\n",
       "\n",
       "    .dataframe thead th {\n",
       "        text-align: right;\n",
       "    }\n",
       "</style>\n",
       "<table border=\"1\" class=\"dataframe\">\n",
       "  <thead>\n",
       "    <tr style=\"text-align: right;\">\n",
       "      <th></th>\n",
       "      <th>WF_Lgr5</th>\n",
       "      <th>WF_Lgr6</th>\n",
       "      <th>ctrl_Lgr5</th>\n",
       "      <th>ctrl_Lgr6</th>\n",
       "      <th>bulk_2h</th>\n",
       "      <th>bulk_6h</th>\n",
       "      <th>bulk_24h</th>\n",
       "    </tr>\n",
       "  </thead>\n",
       "  <tbody>\n",
       "    <tr>\n",
       "      <th>WF_Lgr5</th>\n",
       "      <td>42</td>\n",
       "      <td>38</td>\n",
       "      <td>17</td>\n",
       "      <td>39</td>\n",
       "      <td>28</td>\n",
       "      <td>32</td>\n",
       "      <td>16</td>\n",
       "    </tr>\n",
       "    <tr>\n",
       "      <th>WF_Lgr6</th>\n",
       "      <td>38</td>\n",
       "      <td>38</td>\n",
       "      <td>13</td>\n",
       "      <td>31</td>\n",
       "      <td>27</td>\n",
       "      <td>37</td>\n",
       "      <td>19</td>\n",
       "    </tr>\n",
       "    <tr>\n",
       "      <th>ctrl_Lgr5</th>\n",
       "      <td>35</td>\n",
       "      <td>32</td>\n",
       "      <td>15</td>\n",
       "      <td>34</td>\n",
       "      <td>20</td>\n",
       "      <td>30</td>\n",
       "      <td>16</td>\n",
       "    </tr>\n",
       "    <tr>\n",
       "      <th>ctrl_Lgr6</th>\n",
       "      <td>31</td>\n",
       "      <td>34</td>\n",
       "      <td>8</td>\n",
       "      <td>34</td>\n",
       "      <td>19</td>\n",
       "      <td>26</td>\n",
       "      <td>12</td>\n",
       "    </tr>\n",
       "    <tr>\n",
       "      <th>bulk_2h</th>\n",
       "      <td>26</td>\n",
       "      <td>33</td>\n",
       "      <td>7</td>\n",
       "      <td>32</td>\n",
       "      <td>17</td>\n",
       "      <td>40</td>\n",
       "      <td>19</td>\n",
       "    </tr>\n",
       "    <tr>\n",
       "      <th>bulk_6h</th>\n",
       "      <td>34</td>\n",
       "      <td>51</td>\n",
       "      <td>8</td>\n",
       "      <td>49</td>\n",
       "      <td>28</td>\n",
       "      <td>64</td>\n",
       "      <td>34</td>\n",
       "    </tr>\n",
       "    <tr>\n",
       "      <th>bulk_24h</th>\n",
       "      <td>39</td>\n",
       "      <td>48</td>\n",
       "      <td>10</td>\n",
       "      <td>45</td>\n",
       "      <td>32</td>\n",
       "      <td>51</td>\n",
       "      <td>27</td>\n",
       "    </tr>\n",
       "  </tbody>\n",
       "</table>\n",
       "</div>"
      ],
      "text/plain": [
       "           WF_Lgr5  WF_Lgr6  ctrl_Lgr5  ctrl_Lgr6  bulk_2h  bulk_6h  bulk_24h\n",
       "WF_Lgr5         42       38         17         39       28       32        16\n",
       "WF_Lgr6         38       38         13         31       27       37        19\n",
       "ctrl_Lgr5       35       32         15         34       20       30        16\n",
       "ctrl_Lgr6       31       34          8         34       19       26        12\n",
       "bulk_2h         26       33          7         32       17       40        19\n",
       "bulk_6h         34       51          8         49       28       64        34\n",
       "bulk_24h        39       48         10         45       32       51        27"
      ]
     },
     "execution_count": 55,
     "metadata": {},
     "output_type": "execute_result"
    }
   ],
   "source": [
    "quant_LigReg_WF_vs_bulk_df"
   ]
  },
  {
   "cell_type": "code",
   "execution_count": 175,
   "metadata": {},
   "outputs": [],
   "source": [
    "g_sel = LigReg_WF_vs_bulk_dict['WF_Lgr6 - WF_Lgr6']"
   ]
  },
  {
   "cell_type": "code",
   "execution_count": 177,
   "metadata": {},
   "outputs": [
    {
     "name": "stdout",
     "output_type": "stream",
     "text": [
      "Celsr1\n",
      "Traf2\n",
      "Sdc1\n",
      "Il2rg\n",
      "Itga3\n",
      "Ptprz1\n",
      "Sdc1\n",
      "Itgb1\n",
      "Erap1\n",
      "Erbb2\n",
      "Maged1\n",
      "Itga3\n",
      "Itga6\n",
      "Itgb4\n",
      "Itgb1\n",
      "Tfrc\n",
      "Erbb2\n",
      "Il1r2\n",
      "Itga6\n",
      "Notch3\n",
      "Itgb1\n",
      "Notch3\n",
      "Erbb2\n",
      "Plxnb2\n",
      "Tyro3\n",
      "Gpc1\n",
      "Itgb1\n",
      "Cd44\n",
      "Cd44\n",
      "Itga3\n",
      "Igf2r\n",
      "Itgb1\n",
      "Plaur\n",
      "Itga3\n",
      "Itga6\n",
      "Itgb4\n",
      "Itgb1\n",
      "Plaur\n"
     ]
    }
   ],
   "source": [
    "for g in g_sel: print(g[1])"
   ]
  },
  {
   "cell_type": "code",
   "execution_count": 59,
   "metadata": {
    "scrolled": false
   },
   "outputs": [
    {
     "data": {
      "text/plain": [
       "{'WF_Lgr5 - WF_Lgr5': [('Fgf18', 'Fgfr1'),\n",
       "  ('Timp2', 'Itga3'),\n",
       "  ('Timp2', 'Itgb1'),\n",
       "  ('Col18a1', 'Itgb1'),\n",
       "  ('Col5a2', 'Itgb1'),\n",
       "  ('Hmgb1', 'Sdc1'),\n",
       "  ('Calr', 'Itga3'),\n",
       "  ('Sema6a', 'Plxna2'),\n",
       "  ('Tnc', 'Sdc1'),\n",
       "  ('Tnc', 'Nt5e'),\n",
       "  ('Tnc', 'Itgb1'),\n",
       "  ('Fbln1', 'Itgb1'),\n",
       "  ('Lamc2', 'Itga3'),\n",
       "  ('Lamc2', 'Itga6'),\n",
       "  ('Lamc2', 'Itgb1'),\n",
       "  ('Sfrp1', 'Fzd2'),\n",
       "  ('Spint1', 'St14'),\n",
       "  ('Ptgs2', 'Cav1'),\n",
       "  ('App', 'Cav1'),\n",
       "  ('Cxcl12', 'Itgb1'),\n",
       "  ('Ctgf', 'Lrp6'),\n",
       "  ('Fn1', 'Itga3'),\n",
       "  ('Fn1', 'Itga6'),\n",
       "  ('Fn1', 'Itgb6'),\n",
       "  ('Fn1', 'Cd44'),\n",
       "  ('Fn1', 'Nt5e'),\n",
       "  ('Fn1', 'Itgb1'),\n",
       "  ('Fn1', 'Plaur'),\n",
       "  ('Gnai2', 'Cav1'),\n",
       "  ('Gnai2', 'Ednra'),\n",
       "  ('Gnai2', 'Adcy1'),\n",
       "  ('Gnai2', 'Igf1r'),\n",
       "  ('Fgf1', 'Fgfr1'),\n",
       "  ('Fgf1', 'Cd44'),\n",
       "  ('Col6a1', 'Itga6'),\n",
       "  ('Col6a1', 'Itgb1'),\n",
       "  ('Myoc', 'Fzd7'),\n",
       "  ('Myoc', 'Fzd1'),\n",
       "  ('Myoc', 'Fzd3'),\n",
       "  ('Pkm', 'Cd44'),\n",
       "  ('Ptn', 'Sdc1'),\n",
       "  ('Ptn', 'Sdc3')],\n",
       " 'WF_Lgr5 - WF_Lgr6': [('Inhba', 'Tgfbr3'),\n",
       "  ('Timp2', 'Itga3'),\n",
       "  ('Timp2', 'Itgb1'),\n",
       "  ('Col18a1', 'Gpc1'),\n",
       "  ('Col18a1', 'Itgb1'),\n",
       "  ('Col5a2', 'Itgb1'),\n",
       "  ('Gstp1', 'Traf2'),\n",
       "  ('Hmgb1', 'Sdc1'),\n",
       "  ('Calr', 'Itga3'),\n",
       "  ('Tnc', 'Ptprz1'),\n",
       "  ('Tnc', 'Sdc1'),\n",
       "  ('Tnc', 'Itgb1'),\n",
       "  ('Fbln1', 'Itgb1'),\n",
       "  ('Jag1', 'Notch3'),\n",
       "  ('Ngf', 'Maged1'),\n",
       "  ('Lamc2', 'Itga3'),\n",
       "  ('Lamc2', 'Itga6'),\n",
       "  ('Lamc2', 'Itgb4'),\n",
       "  ('Lamc2', 'Itgb1'),\n",
       "  ('Efnb1', 'Erbb2'),\n",
       "  ('App', 'Gpc1'),\n",
       "  ('App', 'Tnfrsf21'),\n",
       "  ('Cxcl12', 'Ackr3'),\n",
       "  ('Cxcl12', 'Itgb1'),\n",
       "  ('Fn1', 'Itga3'),\n",
       "  ('Fn1', 'Itga6'),\n",
       "  ('Fn1', 'Il17rc'),\n",
       "  ('Fn1', 'Cd44'),\n",
       "  ('Fn1', 'Itgb1'),\n",
       "  ('Fn1', 'Plaur'),\n",
       "  ('Fgf1', 'Cd44'),\n",
       "  ('Col6a1', 'Itga6'),\n",
       "  ('Col6a1', 'Itgb1'),\n",
       "  ('Myoc', 'Fzd10'),\n",
       "  ('Pkm', 'Cd44'),\n",
       "  ('Ptn', 'Ptprz1'),\n",
       "  ('Ptn', 'Plxnb2'),\n",
       "  ('Ptn', 'Sdc1')],\n",
       " 'WF_Lgr5 - ctrl_Lgr5': [('Fgf18', 'Fgfr1'),\n",
       "  ('Sema6a', 'Plxna2'),\n",
       "  ('Tnc', 'Nt5e'),\n",
       "  ('Ngf', 'Maged1'),\n",
       "  ('Lamc2', 'Col17a1'),\n",
       "  ('Sfrp1', 'Fzd2'),\n",
       "  ('Efnb1', 'Ephb4'),\n",
       "  ('Ctgf', 'Lrp6'),\n",
       "  ('Fn1', 'Sdc2'),\n",
       "  ('Fn1', 'Nt5e'),\n",
       "  ('Gnai2', 'Ednra'),\n",
       "  ('Gnai2', 'Adcy1'),\n",
       "  ('Fgf1', 'Fgfr1'),\n",
       "  ('Myoc', 'Fzd7'),\n",
       "  ('Myoc', 'Fzd1'),\n",
       "  ('Myoc', 'Fzd3'),\n",
       "  ('Ptn', 'Sdc3')],\n",
       " 'WF_Lgr5 - ctrl_Lgr6': [('Inhba', 'Tgfbr3'),\n",
       "  ('Fgf18', 'Fgfr2'),\n",
       "  ('Timp2', 'Itga3'),\n",
       "  ('Timp2', 'Itgb1'),\n",
       "  ('Col18a1', 'Gpc1'),\n",
       "  ('Col18a1', 'Itgb1'),\n",
       "  ('Col5a2', 'Itgb1'),\n",
       "  ('Calr', 'Itga3'),\n",
       "  ('Tnc', 'Ptprz1'),\n",
       "  ('Tnc', 'Sdc4'),\n",
       "  ('Tnc', 'Itgb1'),\n",
       "  ('Fbln1', 'Itgb1'),\n",
       "  ('Jag1', 'Notch3'),\n",
       "  ('Ngf', 'Ngfr'),\n",
       "  ('Lamc2', 'Itga3'),\n",
       "  ('Lamc2', 'Itga6'),\n",
       "  ('Lamc2', 'Itgb1'),\n",
       "  ('Efnb1', 'Erbb2'),\n",
       "  ('App', 'Cd74'),\n",
       "  ('App', 'Ngfr'),\n",
       "  ('App', 'Gpc1'),\n",
       "  ('Cxcl12', 'Ackr3'),\n",
       "  ('Cxcl12', 'Sdc4'),\n",
       "  ('Cxcl12', 'Itgb1'),\n",
       "  ('Fn1', 'Itga3'),\n",
       "  ('Fn1', 'Itga6'),\n",
       "  ('Fn1', 'Cd44'),\n",
       "  ('Fn1', 'Itgb1'),\n",
       "  ('Gnai2', 'Igf1r'),\n",
       "  ('Fgf1', 'Fgfr2'),\n",
       "  ('Fgf1', 'Cd44'),\n",
       "  ('Col6a1', 'Itga6'),\n",
       "  ('Col6a1', 'Itgb1'),\n",
       "  ('Myoc', 'Fzd10'),\n",
       "  ('Pkm', 'Cd44'),\n",
       "  ('Efna5', 'Epha2'),\n",
       "  ('Efna1', 'Epha2'),\n",
       "  ('Ptn', 'Ptprz1'),\n",
       "  ('Ptn', 'Plxnb2')],\n",
       " 'WF_Lgr5 - bulk_2h': [('Timp2', 'Itga3'),\n",
       "  ('Col18a1', 'Itga5'),\n",
       "  ('Hmgb1', 'Thbd'),\n",
       "  ('Cd34', 'Selp'),\n",
       "  ('Cd34', 'Sell'),\n",
       "  ('Calr', 'Itga3'),\n",
       "  ('Tnc', 'Sdc4'),\n",
       "  ('Tnc', 'Itga5'),\n",
       "  ('Anxa1', 'Fpr1'),\n",
       "  ('Lamc2', 'Itga6'),\n",
       "  ('Lamc2', 'Itga3'),\n",
       "  ('Spint1', 'St14'),\n",
       "  ('Cxcl12', 'Sdc4'),\n",
       "  ('Ctgf', 'Itga5'),\n",
       "  ('Fn1', 'Itga6'),\n",
       "  ('Fn1', 'Itga5'),\n",
       "  ('Fn1', 'Plaur'),\n",
       "  ('Fn1', 'Cd44'),\n",
       "  ('Fn1', 'Itga3'),\n",
       "  ('Gnai2', 'Fpr1'),\n",
       "  ('Gnai2', 'S1pr3'),\n",
       "  ('Gnai2', 'F2r'),\n",
       "  ('Fgf1', 'Cd44'),\n",
       "  ('Cd24a', 'Selp'),\n",
       "  ('Col6a1', 'Itga6'),\n",
       "  ('Pkm', 'Cd44'),\n",
       "  ('Efna5', 'Epha2'),\n",
       "  ('Efna1', 'Epha2')],\n",
       " 'WF_Lgr5 - bulk_6h': [('Timp2', 'Itga3'),\n",
       "  ('Col18a1', 'Itga5'),\n",
       "  ('Hmgb1', 'Thbd'),\n",
       "  ('Cd34', 'Sell'),\n",
       "  ('Calr', 'Itga3'),\n",
       "  ('Tnc', 'Itga5'),\n",
       "  ('Tnc', 'Itga7'),\n",
       "  ('Anxa1', 'Fpr2'),\n",
       "  ('Anxa1', 'Fpr1'),\n",
       "  ('Lamc2', 'Itga6'),\n",
       "  ('Lamc2', 'Itga3'),\n",
       "  ('App', 'Fpr2'),\n",
       "  ('Cxcl12', 'Cxcr4'),\n",
       "  ('Ctgf', 'Itgb2'),\n",
       "  ('Ctgf', 'Itga5'),\n",
       "  ('Ctgf', 'Itgam'),\n",
       "  ('Fn1', 'Itga6'),\n",
       "  ('Fn1', 'C5ar1'),\n",
       "  ('Fn1', 'Itgb7'),\n",
       "  ('Fn1', 'Itga5'),\n",
       "  ('Fn1', 'Plaur'),\n",
       "  ('Fn1', 'Cd44'),\n",
       "  ('Fn1', 'Itga3'),\n",
       "  ('Gnai2', 'C5ar1'),\n",
       "  ('Gnai2', 'Fpr1'),\n",
       "  ('Gnai2', 'Cxcr1'),\n",
       "  ('Gnai2', 'S1pr3'),\n",
       "  ('Fgf1', 'Cd44'),\n",
       "  ('Col6a1', 'Itga6'),\n",
       "  ('Pkm', 'Cd44'),\n",
       "  ('Efna5', 'Epha2'),\n",
       "  ('Efna1', 'Epha2')],\n",
       " 'WF_Lgr5 - bulk_24h': [('Hmgb1', 'Thbd'),\n",
       "  ('Cd34', 'Sell'),\n",
       "  ('Tnc', 'Itga7'),\n",
       "  ('Anxa1', 'Fpr2'),\n",
       "  ('Anxa1', 'Fpr1'),\n",
       "  ('App', 'Fpr2'),\n",
       "  ('Cxcl12', 'Cxcr4'),\n",
       "  ('Fn1', 'C5ar1'),\n",
       "  ('Fn1', 'Itgb7'),\n",
       "  ('Fn1', 'Plaur'),\n",
       "  ('Fn1', 'Cd44'),\n",
       "  ('Gnai2', 'C5ar1'),\n",
       "  ('Gnai2', 'Fpr1'),\n",
       "  ('Gnai2', 'S1pr3'),\n",
       "  ('Fgf1', 'Cd44'),\n",
       "  ('Pkm', 'Cd44')],\n",
       " 'WF_Lgr6 - WF_Lgr5': [('Wnt4', 'Fzd2'),\n",
       "  ('Hmgb1', 'Sdc1'),\n",
       "  ('Cyr61', 'Cav1'),\n",
       "  ('Wnt3', 'Fzd7'),\n",
       "  ('Wnt3', 'Lrp6'),\n",
       "  ('Wnt3', 'Fzd1'),\n",
       "  ('Wnt3', 'Fzd5'),\n",
       "  ('Icam1', 'Cav1'),\n",
       "  ('Calr', 'Itga3'),\n",
       "  ('Tnc', 'Sdc1'),\n",
       "  ('Tnc', 'Nt5e'),\n",
       "  ('Tnc', 'Itgb1'),\n",
       "  ('Lamc2', 'Itga3'),\n",
       "  ('Lamc2', 'Itga6'),\n",
       "  ('Lamc2', 'Itgb1'),\n",
       "  ('B2m', 'Tfrc'),\n",
       "  ('Ptgs2', 'Cav1'),\n",
       "  ('Wnt5a', 'Fzd7'),\n",
       "  ('Wnt5a', 'Fzd1'),\n",
       "  ('Wnt5a', 'Fzd2'),\n",
       "  ('Wnt5a', 'Fzd5'),\n",
       "  ('Gpi1', 'Amfr'),\n",
       "  ('Thbs2', 'Itga6'),\n",
       "  ('Thbs2', 'Itgb1'),\n",
       "  ('Vegfa', 'Nrp2'),\n",
       "  ('Vegfa', 'Itgb1'),\n",
       "  ('Has2', 'Cd44'),\n",
       "  ('Pkm', 'Cd44'),\n",
       "  ('Plau', 'Itga3'),\n",
       "  ('Plau', 'St14'),\n",
       "  ('Plau', 'Itgb1'),\n",
       "  ('Plau', 'Plaur'),\n",
       "  ('Lamb3', 'Itga3'),\n",
       "  ('Lamb3', 'Itga6'),\n",
       "  ('Lamb3', 'Itgb1'),\n",
       "  ('Sema3c', 'Nrp2'),\n",
       "  ('Sema3f', 'Nrp2'),\n",
       "  ('Serpine1', 'Plaur')],\n",
       " 'WF_Lgr6 - WF_Lgr6': [('Psap', 'Celsr1'),\n",
       "  ('Gstp1', 'Traf2'),\n",
       "  ('Hmgb1', 'Sdc1'),\n",
       "  ('Icam1', 'Il2rg'),\n",
       "  ('Calr', 'Itga3'),\n",
       "  ('Tnc', 'Ptprz1'),\n",
       "  ('Tnc', 'Sdc1'),\n",
       "  ('Tnc', 'Itgb1'),\n",
       "  ('Nucb2', 'Erap1'),\n",
       "  ('Tgfa', 'Erbb2'),\n",
       "  ('Ngf', 'Maged1'),\n",
       "  ('Lamc2', 'Itga3'),\n",
       "  ('Lamc2', 'Itga6'),\n",
       "  ('Lamc2', 'Itgb4'),\n",
       "  ('Lamc2', 'Itgb1'),\n",
       "  ('B2m', 'Tfrc'),\n",
       "  ('Efnb1', 'Erbb2'),\n",
       "  ('Il1rn', 'Il1r2'),\n",
       "  ('Thbs2', 'Itga6'),\n",
       "  ('Thbs2', 'Notch3'),\n",
       "  ('Thbs2', 'Itgb1'),\n",
       "  ('Dll1', 'Notch3'),\n",
       "  ('Sema4d', 'Erbb2'),\n",
       "  ('Sema4d', 'Plxnb2'),\n",
       "  ('Vegfa', 'Tyro3'),\n",
       "  ('Vegfa', 'Gpc1'),\n",
       "  ('Vegfa', 'Itgb1'),\n",
       "  ('Has2', 'Cd44'),\n",
       "  ('Pkm', 'Cd44'),\n",
       "  ('Plau', 'Itga3'),\n",
       "  ('Plau', 'Igf2r'),\n",
       "  ('Plau', 'Itgb1'),\n",
       "  ('Plau', 'Plaur'),\n",
       "  ('Lamb3', 'Itga3'),\n",
       "  ('Lamb3', 'Itga6'),\n",
       "  ('Lamb3', 'Itgb4'),\n",
       "  ('Lamb3', 'Itgb1'),\n",
       "  ('Serpine1', 'Plaur')],\n",
       " 'WF_Lgr6 - ctrl_Lgr5': [('Wnt4', 'Fzd2'),\n",
       "  ('Wnt3', 'Fzd7'),\n",
       "  ('Wnt3', 'Lrp6'),\n",
       "  ('Wnt3', 'Fzd1'),\n",
       "  ('Tnc', 'Nt5e'),\n",
       "  ('Ngf', 'Maged1'),\n",
       "  ('Lamc2', 'Col17a1'),\n",
       "  ('Lama3', 'Sdc2'),\n",
       "  ('Efnb1', 'Ephb4'),\n",
       "  ('Wnt5a', 'Fzd7'),\n",
       "  ('Wnt5a', 'Fzd1'),\n",
       "  ('Wnt5a', 'Fzd2'),\n",
       "  ('Lamb3', 'Col17a1')],\n",
       " 'WF_Lgr6 - ctrl_Lgr6': [('Psap', 'Celsr1'),\n",
       "  ('Calr', 'Itga3'),\n",
       "  ('Tnc', 'Ptprz1'),\n",
       "  ('Tnc', 'Sdc4'),\n",
       "  ('Tnc', 'Itgb1'),\n",
       "  ('Mst1', 'Mst1r'),\n",
       "  ('Tgfa', 'Erbb2'),\n",
       "  ('Ngf', 'Ngfr'),\n",
       "  ('Lamc2', 'Itga3'),\n",
       "  ('Lamc2', 'Itga6'),\n",
       "  ('Lamc2', 'Itgb1'),\n",
       "  ('B2m', 'Tfrc'),\n",
       "  ('Efnb1', 'Erbb2'),\n",
       "  ('Il1rn', 'Il1r2'),\n",
       "  ('Il1rn', 'Il1r1'),\n",
       "  ('Thbs2', 'Itga6'),\n",
       "  ('Thbs2', 'Notch3'),\n",
       "  ('Thbs2', 'Itgb1'),\n",
       "  ('Dll1', 'Notch3'),\n",
       "  ('Sema4d', 'Erbb2'),\n",
       "  ('Sema4d', 'Plxnb2'),\n",
       "  ('Sema4d', 'Plxnb1'),\n",
       "  ('Vegfa', 'Gpc1'),\n",
       "  ('Vegfa', 'Itgb1'),\n",
       "  ('Has2', 'Cd44'),\n",
       "  ('Pkm', 'Cd44'),\n",
       "  ('Plau', 'Itga3'),\n",
       "  ('Plau', 'Itgb1'),\n",
       "  ('Lamb3', 'Itga3'),\n",
       "  ('Lamb3', 'Itga6'),\n",
       "  ('Lamb3', 'Itgb1')],\n",
       " 'WF_Lgr6 - bulk_2h': [('Hmgb1', 'Thbd'),\n",
       "  ('Cyr61', 'Itga5'),\n",
       "  ('Wnt3', 'Fzd5'),\n",
       "  ('Icam1', 'Itgal'),\n",
       "  ('Calr', 'Itga3'),\n",
       "  ('Tnc', 'Sdc4'),\n",
       "  ('Tnc', 'Itga5'),\n",
       "  ('Anxa1', 'Fpr1'),\n",
       "  ('Mst1', 'Mst1r'),\n",
       "  ('Lamc2', 'Itga6'),\n",
       "  ('Lamc2', 'Itga3'),\n",
       "  ('Calm3', 'Sell'),\n",
       "  ('Wnt5a', 'Fzd5'),\n",
       "  ('Il1rn', 'Il1r1'),\n",
       "  ('Thbs2', 'Itga6'),\n",
       "  ('Cd24a', 'Selp'),\n",
       "  ('Vegfa', 'Tyro3'),\n",
       "  ('Has2', 'Cd44'),\n",
       "  ('Pkm', 'Cd44'),\n",
       "  ('Plau', 'St14'),\n",
       "  ('Plau', 'Itga5'),\n",
       "  ('Plau', 'Plaur'),\n",
       "  ('Plau', 'Itga3'),\n",
       "  ('Tslp', 'Il7r'),\n",
       "  ('Lamb3', 'Itga6'),\n",
       "  ('Lamb3', 'Itga3'),\n",
       "  ('Serpine1', 'Plaur')],\n",
       " 'WF_Lgr6 - bulk_6h': [('Hmgb1', 'Thbd'),\n",
       "  ('Cyr61', 'Itgb2'),\n",
       "  ('Cyr61', 'Itga5'),\n",
       "  ('Cyr61', 'Itgam'),\n",
       "  ('Icam1', 'Itgax'),\n",
       "  ('Icam1', 'Itgb2'),\n",
       "  ('Icam1', 'Itgal'),\n",
       "  ('Icam1', 'Itgam'),\n",
       "  ('Calr', 'Itga3'),\n",
       "  ('Tnc', 'Itga5'),\n",
       "  ('Tnc', 'Itga7'),\n",
       "  ('Anxa1', 'Fpr2'),\n",
       "  ('Anxa1', 'Fpr1'),\n",
       "  ('Lamc2', 'Itga6'),\n",
       "  ('Lamc2', 'Itga3'),\n",
       "  ('B2m', 'Tfrc'),\n",
       "  ('Calm3', 'Pde1b'),\n",
       "  ('Calm3', 'Sell'),\n",
       "  ('Il1rn', 'Il1r1'),\n",
       "  ('Il1rn', 'Il1r2'),\n",
       "  ('Thbs2', 'Itga6'),\n",
       "  ('Vegfa', 'Sirpb1a'),\n",
       "  ('Vegfa', 'Gm9733'),\n",
       "  ('Vegfa', 'Tyro3'),\n",
       "  ('Vegfa', 'Sirpb1b'),\n",
       "  ('Rps19', 'C5ar1'),\n",
       "  ('Has2', 'Cd44'),\n",
       "  ('Pkm', 'Cd44'),\n",
       "  ('Plau', 'Itgb2'),\n",
       "  ('Plau', 'Itga5'),\n",
       "  ('Plau', 'Itgam'),\n",
       "  ('Plau', 'Plaur'),\n",
       "  ('Plau', 'Itga3'),\n",
       "  ('Tslp', 'Il7r'),\n",
       "  ('Lamb3', 'Itga6'),\n",
       "  ('Lamb3', 'Itga3'),\n",
       "  ('Serpine1', 'Plaur')],\n",
       " 'WF_Lgr6 - bulk_24h': [('Hmgb1', 'Thbd'),\n",
       "  ('Icam1', 'Itgal'),\n",
       "  ('Tnc', 'Itga7'),\n",
       "  ('Anxa1', 'Fpr2'),\n",
       "  ('Anxa1', 'Fpr1'),\n",
       "  ('B2m', 'Klrd1'),\n",
       "  ('B2m', 'Tfrc'),\n",
       "  ('Calm3', 'Pde1b'),\n",
       "  ('Calm3', 'Sell'),\n",
       "  ('Il1rn', 'Il1r1'),\n",
       "  ('Vegfa', 'Sirpb1a'),\n",
       "  ('Vegfa', 'Gm9733'),\n",
       "  ('Vegfa', 'Sirpb1b'),\n",
       "  ('Rps19', 'C5ar1'),\n",
       "  ('Has2', 'Cd44'),\n",
       "  ('Pkm', 'Cd44'),\n",
       "  ('Plau', 'Plaur'),\n",
       "  ('Tslp', 'Il7r'),\n",
       "  ('Serpine1', 'Plaur')],\n",
       " 'ctrl_Lgr5 - WF_Lgr5': [('Fgf18', 'Fgfr1'),\n",
       "  ('Col6a2', 'Itgb1'),\n",
       "  ('Igfbp4', 'Lrp6'),\n",
       "  ('Timp2', 'Itga3'),\n",
       "  ('Timp2', 'Itgb1'),\n",
       "  ('Col18a1', 'Itgb1'),\n",
       "  ('Col5a2', 'Itgb1'),\n",
       "  ('Tnc', 'Sdc1'),\n",
       "  ('Tnc', 'Nt5e'),\n",
       "  ('Tnc', 'Itgb1'),\n",
       "  ('Fbln1', 'Itgb1'),\n",
       "  ('Apoe', 'Ldlr'),\n",
       "  ('Sfrp1', 'Fzd2'),\n",
       "  ('App', 'Cav1'),\n",
       "  ('Cxcl12', 'Itgb1'),\n",
       "  ('Ctgf', 'Lrp6'),\n",
       "  ('Fn1', 'Itga3'),\n",
       "  ('Fn1', 'Itga6'),\n",
       "  ('Fn1', 'Itgb6'),\n",
       "  ('Fn1', 'Cd44'),\n",
       "  ('Fn1', 'Nt5e'),\n",
       "  ('Fn1', 'Itgb1'),\n",
       "  ('Fn1', 'Plaur'),\n",
       "  ('Fgf1', 'Fgfr1'),\n",
       "  ('Fgf1', 'Cd44'),\n",
       "  ('Col6a1', 'Itga6'),\n",
       "  ('Col6a1', 'Itgb1'),\n",
       "  ('Vegfa', 'Nrp2'),\n",
       "  ('Vegfa', 'Itgb1'),\n",
       "  ('Myoc', 'Fzd7'),\n",
       "  ('Myoc', 'Fzd1'),\n",
       "  ('Myoc', 'Fzd3'),\n",
       "  ('Ptn', 'Sdc1'),\n",
       "  ('Ptn', 'Sdc3'),\n",
       "  ('Nrtn', 'Gfra1')],\n",
       " 'ctrl_Lgr5 - WF_Lgr6': [('Col6a2', 'Itgb1'),\n",
       "  ('Timp2', 'Itga3'),\n",
       "  ('Timp2', 'Itgb1'),\n",
       "  ('Col18a1', 'Gpc1'),\n",
       "  ('Col18a1', 'Itgb1'),\n",
       "  ('Col5a2', 'Itgb1'),\n",
       "  ('Tnc', 'Ptprz1'),\n",
       "  ('Tnc', 'Sdc1'),\n",
       "  ('Tnc', 'Itgb1'),\n",
       "  ('Sema4g', 'Plxnb2'),\n",
       "  ('Fbln1', 'Itgb1'),\n",
       "  ('Apoe', 'Ldlr'),\n",
       "  ('App', 'Gpc1'),\n",
       "  ('App', 'Tnfrsf21'),\n",
       "  ('Cxcl12', 'Ackr3'),\n",
       "  ('Cxcl12', 'Itgb1'),\n",
       "  ('Fn1', 'Itga3'),\n",
       "  ('Fn1', 'Itga6'),\n",
       "  ('Fn1', 'Il17rc'),\n",
       "  ('Fn1', 'Cd44'),\n",
       "  ('Fn1', 'Itgb1'),\n",
       "  ('Fn1', 'Plaur'),\n",
       "  ('Fgf1', 'Cd44'),\n",
       "  ('Col6a1', 'Itga6'),\n",
       "  ('Col6a1', 'Itgb1'),\n",
       "  ('Vegfa', 'Tyro3'),\n",
       "  ('Vegfa', 'Gpc1'),\n",
       "  ('Vegfa', 'Itgb1'),\n",
       "  ('Myoc', 'Fzd10'),\n",
       "  ('Ptn', 'Ptprz1'),\n",
       "  ('Ptn', 'Plxnb2'),\n",
       "  ('Ptn', 'Sdc1')],\n",
       " 'ctrl_Lgr5 - ctrl_Lgr5': [('Fgf18', 'Fgfr1'),\n",
       "  ('Igfbp4', 'Lrp6'),\n",
       "  ('Tnc', 'Nt5e'),\n",
       "  ('Apoe', 'Sorl1'),\n",
       "  ('Sfrp1', 'Fzd2'),\n",
       "  ('Ctgf', 'Lrp6'),\n",
       "  ('Fn1', 'Sdc2'),\n",
       "  ('Fn1', 'Nt5e'),\n",
       "  ('Fgf1', 'Fgfr1'),\n",
       "  ('Myoc', 'Fzd7'),\n",
       "  ('Myoc', 'Fzd1'),\n",
       "  ('Myoc', 'Fzd3'),\n",
       "  ('Ptn', 'Sdc3'),\n",
       "  ('Nrtn', 'Gfra1'),\n",
       "  ('Nrtn', 'Gfra2')],\n",
       " 'ctrl_Lgr5 - ctrl_Lgr6': [('Fgf18', 'Fgfr2'),\n",
       "  ('Col6a2', 'Itgb1'),\n",
       "  ('Timp2', 'Itga3'),\n",
       "  ('Timp2', 'Itgb1'),\n",
       "  ('Col18a1', 'Gpc1'),\n",
       "  ('Col18a1', 'Itgb1'),\n",
       "  ('Col5a2', 'Itgb1'),\n",
       "  ('Agrn', 'Lrp4'),\n",
       "  ('Tnc', 'Ptprz1'),\n",
       "  ('Tnc', 'Sdc4'),\n",
       "  ('Tnc', 'Itgb1'),\n",
       "  ('Sema4g', 'Plxnb2'),\n",
       "  ('Fbln1', 'Itgb1'),\n",
       "  ('Apoe', 'Ldlr'),\n",
       "  ('App', 'Cd74'),\n",
       "  ('App', 'Ngfr'),\n",
       "  ('App', 'Gpc1'),\n",
       "  ('Cxcl12', 'Ackr3'),\n",
       "  ('Cxcl12', 'Sdc4'),\n",
       "  ('Cxcl12', 'Itgb1'),\n",
       "  ('Fn1', 'Itga3'),\n",
       "  ('Fn1', 'Itga6'),\n",
       "  ('Fn1', 'Cd44'),\n",
       "  ('Fn1', 'Itgb1'),\n",
       "  ('Fgf1', 'Fgfr2'),\n",
       "  ('Fgf1', 'Cd44'),\n",
       "  ('Col6a1', 'Itga6'),\n",
       "  ('Col6a1', 'Itgb1'),\n",
       "  ('Vegfa', 'Gpc1'),\n",
       "  ('Vegfa', 'Itgb1'),\n",
       "  ('Myoc', 'Fzd10'),\n",
       "  ('Efna5', 'Epha2'),\n",
       "  ('Ptn', 'Ptprz1'),\n",
       "  ('Ptn', 'Plxnb2')],\n",
       " 'ctrl_Lgr5 - bulk_2h': [('Timp2', 'Itga3'),\n",
       "  ('Col18a1', 'Itga5'),\n",
       "  ('Cd34', 'Selp'),\n",
       "  ('Cd34', 'Sell'),\n",
       "  ('Tnc', 'Sdc4'),\n",
       "  ('Tnc', 'Itga5'),\n",
       "  ('Apoe', 'Ldlr'),\n",
       "  ('Apoe', 'Sorl1'),\n",
       "  ('Cxcl12', 'Sdc4'),\n",
       "  ('Ctgf', 'Itga5'),\n",
       "  ('Fn1', 'Itga6'),\n",
       "  ('Fn1', 'Itga5'),\n",
       "  ('Fn1', 'Plaur'),\n",
       "  ('Fn1', 'Cd44'),\n",
       "  ('Fn1', 'Itga3'),\n",
       "  ('Fgf1', 'Cd44'),\n",
       "  ('Cd24a', 'Selp'),\n",
       "  ('Col6a1', 'Itga6'),\n",
       "  ('Vegfa', 'Tyro3'),\n",
       "  ('Efna5', 'Epha2')],\n",
       " 'ctrl_Lgr5 - bulk_6h': [('Timp2', 'Itga3'),\n",
       "  ('Col18a1', 'Itga5'),\n",
       "  ('Cd34', 'Sell'),\n",
       "  ('Agrn', 'Atp1a3'),\n",
       "  ('Tnc', 'Itga5'),\n",
       "  ('Tnc', 'Itga7'),\n",
       "  ('Apoe', 'Ldlr'),\n",
       "  ('Apoe', 'Lrp8'),\n",
       "  ('Apoe', 'Sorl1'),\n",
       "  ('App', 'Fpr2'),\n",
       "  ('Cxcl12', 'Cxcr4'),\n",
       "  ('Ctgf', 'Itgb2'),\n",
       "  ('Ctgf', 'Itga5'),\n",
       "  ('Ctgf', 'Itgam'),\n",
       "  ('Fn1', 'Itga6'),\n",
       "  ('Fn1', 'C5ar1'),\n",
       "  ('Fn1', 'Itgb7'),\n",
       "  ('Fn1', 'Itga5'),\n",
       "  ('Fn1', 'Plaur'),\n",
       "  ('Fn1', 'Cd44'),\n",
       "  ('Fn1', 'Itga3'),\n",
       "  ('Fgf1', 'Cd44'),\n",
       "  ('Col6a1', 'Itga6'),\n",
       "  ('Vegfa', 'Sirpb1a'),\n",
       "  ('Vegfa', 'Gm9733'),\n",
       "  ('Vegfa', 'Tyro3'),\n",
       "  ('Vegfa', 'Sirpb1b'),\n",
       "  ('Rps19', 'C5ar1'),\n",
       "  ('Efna5', 'Epha2'),\n",
       "  ('Nrtn', 'Gfra1')],\n",
       " 'ctrl_Lgr5 - bulk_24h': [('Cd34', 'Sell'),\n",
       "  ('Tnc', 'Itga7'),\n",
       "  ('Apoe', 'Lrp8'),\n",
       "  ('Apoe', 'Sorl1'),\n",
       "  ('App', 'Fpr2'),\n",
       "  ('Cxcl12', 'Cxcr4'),\n",
       "  ('Fn1', 'C5ar1'),\n",
       "  ('Fn1', 'Itgb7'),\n",
       "  ('Fn1', 'Plaur'),\n",
       "  ('Fn1', 'Cd44'),\n",
       "  ('Fgf1', 'Cd44'),\n",
       "  ('Vegfa', 'Sirpb1a'),\n",
       "  ('Vegfa', 'Gm9733'),\n",
       "  ('Vegfa', 'Sirpb1b'),\n",
       "  ('Rps19', 'C5ar1'),\n",
       "  ('Nrtn', 'Gfra1')],\n",
       " 'ctrl_Lgr6 - WF_Lgr5': [('Wnt4', 'Fzd2'),\n",
       "  ('Wnt7b', 'Fzd1'),\n",
       "  ('Lamc1', 'Itga3'),\n",
       "  ('Lamc1', 'Itga6'),\n",
       "  ('Lamc1', 'Itgb1'),\n",
       "  ('Col4a6', 'Itgb1'),\n",
       "  ('Wnt3', 'Fzd7'),\n",
       "  ('Wnt3', 'Lrp6'),\n",
       "  ('Wnt3', 'Fzd1'),\n",
       "  ('Wnt3', 'Fzd5'),\n",
       "  ('Icam1', 'Cav1'),\n",
       "  ('Calr', 'Itga3'),\n",
       "  ('Lamc2', 'Itga3'),\n",
       "  ('Lamc2', 'Itga6'),\n",
       "  ('Lamc2', 'Itgb1'),\n",
       "  ('B2m', 'Tfrc'),\n",
       "  ('Ptgs2', 'Cav1'),\n",
       "  ('Col7a1', 'Itgb1'),\n",
       "  ('Thbs2', 'Itga6'),\n",
       "  ('Thbs2', 'Itgb1'),\n",
       "  ('Thbs1', 'Itga3'),\n",
       "  ('Thbs1', 'Itga6'),\n",
       "  ('Thbs1', 'Sdc1'),\n",
       "  ('Thbs1', 'Itgb1'),\n",
       "  ('Adam9', 'Itga3'),\n",
       "  ('Adam9', 'Itga6'),\n",
       "  ('Adam9', 'Itgb1'),\n",
       "  ('Cdh1', 'Igf1r'),\n",
       "  ('Pkm', 'Cd44'),\n",
       "  ('Sema3c', 'Nrp2'),\n",
       "  ('Sema3f', 'Nrp2')],\n",
       " 'ctrl_Lgr6 - WF_Lgr6': [('Psap', 'Celsr1'),\n",
       "  ('Rtn4', 'Tnfrsf19'),\n",
       "  ('Rtn4', 'Gjb2'),\n",
       "  ('Gas6', 'Tyro3'),\n",
       "  ('Wnt7b', 'Fzd10'),\n",
       "  ('Lamc1', 'Itga3'),\n",
       "  ('Lamc1', 'Itga6'),\n",
       "  ('Lamc1', 'Itgb4'),\n",
       "  ('Lamc1', 'Itgb1'),\n",
       "  ('Col4a6', 'Itgb1'),\n",
       "  ('Icam1', 'Il2rg'),\n",
       "  ('Calr', 'Itga3'),\n",
       "  ('Tgfa', 'Erbb2'),\n",
       "  ('Lamc2', 'Itga3'),\n",
       "  ('Lamc2', 'Itga6'),\n",
       "  ('Lamc2', 'Itgb4'),\n",
       "  ('Lamc2', 'Itgb1'),\n",
       "  ('B2m', 'Tfrc'),\n",
       "  ('Col7a1', 'Itgb1'),\n",
       "  ('Il1rn', 'Il1r2'),\n",
       "  ('Thbs2', 'Itga6'),\n",
       "  ('Thbs2', 'Notch3'),\n",
       "  ('Thbs2', 'Itgb1'),\n",
       "  ('Thbs1', 'Itga3'),\n",
       "  ('Thbs1', 'Itga6'),\n",
       "  ('Thbs1', 'Sdc1'),\n",
       "  ('Thbs1', 'Itgb1'),\n",
       "  ('Dll1', 'Notch3'),\n",
       "  ('Sema4d', 'Erbb2'),\n",
       "  ('Sema4d', 'Plxnb2'),\n",
       "  ('Adam9', 'Itga3'),\n",
       "  ('Adam9', 'Itga6'),\n",
       "  ('Adam9', 'Itgb1'),\n",
       "  ('Pkm', 'Cd44')],\n",
       " 'ctrl_Lgr6 - ctrl_Lgr5': [('Wnt4', 'Fzd2'),\n",
       "  ('Wnt7b', 'Fzd1'),\n",
       "  ('Wnt3', 'Fzd7'),\n",
       "  ('Wnt3', 'Lrp6'),\n",
       "  ('Wnt3', 'Fzd1'),\n",
       "  ('Lamc2', 'Col17a1'),\n",
       "  ('Lama3', 'Sdc2'),\n",
       "  ('Cdh1', 'Ptprf')],\n",
       " 'ctrl_Lgr6 - ctrl_Lgr6': [('Psap', 'Celsr1'),\n",
       "  ('Rtn4', 'Ngfr'),\n",
       "  ('Rtn4', 'Tnfrsf19'),\n",
       "  ('Wnt7b', 'Fzd10'),\n",
       "  ('Lamc1', 'Itga3'),\n",
       "  ('Lamc1', 'Itga6'),\n",
       "  ('Lamc1', 'Itgb1'),\n",
       "  ('Col4a6', 'Itgb1'),\n",
       "  ('Calr', 'Itga3'),\n",
       "  ('Mst1', 'Mst1r'),\n",
       "  ('Tgfa', 'Erbb2'),\n",
       "  ('Lamc2', 'Itga3'),\n",
       "  ('Lamc2', 'Itga6'),\n",
       "  ('Lamc2', 'Itgb1'),\n",
       "  ('B2m', 'Tfrc'),\n",
       "  ('Col7a1', 'Itgb1'),\n",
       "  ('Il1rn', 'Il1r2'),\n",
       "  ('Il1rn', 'Il1r1'),\n",
       "  ('Thbs2', 'Itga6'),\n",
       "  ('Thbs2', 'Notch3'),\n",
       "  ('Thbs2', 'Itgb1'),\n",
       "  ('Thbs1', 'Itga3'),\n",
       "  ('Thbs1', 'Itga6'),\n",
       "  ('Thbs1', 'Sdc4'),\n",
       "  ('Thbs1', 'Itgb1'),\n",
       "  ('Dll1', 'Notch3'),\n",
       "  ('Sema4d', 'Erbb2'),\n",
       "  ('Sema4d', 'Plxnb2'),\n",
       "  ('Sema4d', 'Plxnb1'),\n",
       "  ('Adam9', 'Itga3'),\n",
       "  ('Adam9', 'Itga6'),\n",
       "  ('Adam9', 'Itgb1'),\n",
       "  ('Cdh1', 'Igf1r'),\n",
       "  ('Pkm', 'Cd44')],\n",
       " 'ctrl_Lgr6 - bulk_2h': [('Gas6', 'Tyro3'),\n",
       "  ('Lamc1', 'Itga6'),\n",
       "  ('Lamc1', 'Itga3'),\n",
       "  ('Wnt3', 'Fzd5'),\n",
       "  ('Icam1', 'Itgal'),\n",
       "  ('Calr', 'Itga3'),\n",
       "  ('Anxa1', 'Fpr1'),\n",
       "  ('Mst1', 'Mst1r'),\n",
       "  ('Lamc2', 'Itga6'),\n",
       "  ('Lamc2', 'Itga3'),\n",
       "  ('Il1rn', 'Il1r1'),\n",
       "  ('Thbs2', 'Itga6'),\n",
       "  ('Thbs1', 'Sdc4'),\n",
       "  ('Thbs1', 'Itga6'),\n",
       "  ('Thbs1', 'Itga3'),\n",
       "  ('Adam9', 'Itga6'),\n",
       "  ('Adam9', 'Itga3'),\n",
       "  ('Pkm', 'Cd44'),\n",
       "  ('Tslp', 'Il7r')],\n",
       " 'ctrl_Lgr6 - bulk_6h': [('Rtn4', 'Gjb2'),\n",
       "  ('Gas6', 'Tyro3'),\n",
       "  ('Lamc1', 'Itga6'),\n",
       "  ('Lamc1', 'Itga3'),\n",
       "  ('Lamc1', 'Itga7'),\n",
       "  ('Col4a6', 'Cd93'),\n",
       "  ('Icam1', 'Itgax'),\n",
       "  ('Icam1', 'Itgb2'),\n",
       "  ('Icam1', 'Itgal'),\n",
       "  ('Icam1', 'Itgam'),\n",
       "  ('Calr', 'Itga3'),\n",
       "  ('Anxa1', 'Fpr2'),\n",
       "  ('Anxa1', 'Fpr1'),\n",
       "  ('Lamc2', 'Itga6'),\n",
       "  ('Lamc2', 'Itga3'),\n",
       "  ('B2m', 'Tfrc'),\n",
       "  ('Il1rn', 'Il1r1'),\n",
       "  ('Il1rn', 'Il1r2'),\n",
       "  ('Thbs2', 'Itga6'),\n",
       "  ('Thbs1', 'Itga6'),\n",
       "  ('Thbs1', 'Itga3'),\n",
       "  ('Adam9', 'Itga6'),\n",
       "  ('Adam9', 'Itga3'),\n",
       "  ('Cdh1', 'Itgb7'),\n",
       "  ('Pkm', 'Cd44'),\n",
       "  ('Tslp', 'Il7r')],\n",
       " 'ctrl_Lgr6 - bulk_24h': [('Rtn4', 'Gjb2'),\n",
       "  ('Lamc1', 'Itga7'),\n",
       "  ('Col4a6', 'Cd93'),\n",
       "  ('Icam1', 'Itgal'),\n",
       "  ('Anxa1', 'Fpr2'),\n",
       "  ('Anxa1', 'Fpr1'),\n",
       "  ('B2m', 'Klrd1'),\n",
       "  ('B2m', 'Tfrc'),\n",
       "  ('Il1rn', 'Il1r1'),\n",
       "  ('Cdh1', 'Itgb7'),\n",
       "  ('Pkm', 'Cd44'),\n",
       "  ('Tslp', 'Il7r')],\n",
       " 'bulk_2h - WF_Lgr5': [('Calca', 'Ramp1'),\n",
       "  ('Serpine1', 'Plaur'),\n",
       "  ('Ptgs2', 'Cav1'),\n",
       "  ('Lamc2', 'Itga3'),\n",
       "  ('Lamc2', 'Itga6'),\n",
       "  ('Lamc2', 'Itgb1'),\n",
       "  ('Ctgf', 'Lrp6'),\n",
       "  ('Calcb', 'Ramp1'),\n",
       "  ('Cyr61', 'Cav1'),\n",
       "  ('Icam1', 'Cav1'),\n",
       "  ('Thbs1', 'Itga3'),\n",
       "  ('Thbs1', 'Itga6'),\n",
       "  ('Thbs1', 'Sdc1'),\n",
       "  ('Thbs1', 'Itgb1'),\n",
       "  ('Ccl7', 'Ackr4'),\n",
       "  ('Ccl11', 'Ackr4'),\n",
       "  ('Spint1', 'St14'),\n",
       "  ('Ccl2', 'Ackr4'),\n",
       "  ('Hbegf', 'Cd9'),\n",
       "  ('Hbegf', 'Cd44'),\n",
       "  ('Fgf23', 'Fgfr1'),\n",
       "  ('Tnf', 'Tnfrsf1a'),\n",
       "  ('Tnf', 'Ltbr'),\n",
       "  ('Tnc', 'Sdc1'),\n",
       "  ('Tnc', 'Nt5e'),\n",
       "  ('Tnc', 'Itgb1')],\n",
       " 'bulk_2h - WF_Lgr6': [('Osm', 'Osmr'),\n",
       "  ('Sema4c', 'Plxnb2'),\n",
       "  ('Il1b', 'Adrb2'),\n",
       "  ('Il1b', 'Il1r2'),\n",
       "  ('Serpine1', 'Plaur'),\n",
       "  ('Lamc2', 'Itga3'),\n",
       "  ('Lamc2', 'Itga6'),\n",
       "  ('Lamc2', 'Itgb4'),\n",
       "  ('Lamc2', 'Itgb1'),\n",
       "  ('Tgfa', 'Erbb2'),\n",
       "  ('Dll1', 'Notch3'),\n",
       "  ('Icam1', 'Il2rg'),\n",
       "  ('Thbs1', 'Itga3'),\n",
       "  ('Thbs1', 'Itga6'),\n",
       "  ('Thbs1', 'Sdc1'),\n",
       "  ('Thbs1', 'Itgb1'),\n",
       "  ('Il6', 'Il6ra'),\n",
       "  ('Il6', 'F3'),\n",
       "  ('Ccl7', 'Ackr4'),\n",
       "  ('Ccl11', 'Ackr4'),\n",
       "  ('Ccl2', 'Ackr4'),\n",
       "  ('Hbegf', 'Erbb2'),\n",
       "  ('Hbegf', 'Cd9'),\n",
       "  ('Hbegf', 'Cd44'),\n",
       "  ('Ereg', 'Erbb2'),\n",
       "  ('Ccl3', '0610007P14Rik'),\n",
       "  ('Ngf', 'Maged1'),\n",
       "  ('Tnf', 'Traf2'),\n",
       "  ('Tnf', 'Tnfrsf21'),\n",
       "  ('Tnf', 'Ltbr'),\n",
       "  ('Tnc', 'Ptprz1'),\n",
       "  ('Tnc', 'Sdc1'),\n",
       "  ('Tnc', 'Itgb1')],\n",
       " 'bulk_2h - ctrl_Lgr5': [('Calca', 'Ramp1'),\n",
       "  ('Lamc2', 'Col17a1'),\n",
       "  ('Ctgf', 'Lrp6'),\n",
       "  ('Calcb', 'Ramp1'),\n",
       "  ('Fgf23', 'Fgfr1'),\n",
       "  ('Ngf', 'Maged1'),\n",
       "  ('Tnc', 'Nt5e')],\n",
       " 'bulk_2h - ctrl_Lgr6': [('Osm', 'Il6st'),\n",
       "  ('Sema4c', 'Plxnb2'),\n",
       "  ('Il1b', 'Adrb2'),\n",
       "  ('Il1b', 'Il1r2'),\n",
       "  ('Il1b', 'Il1r1'),\n",
       "  ('Lamc2', 'Itga3'),\n",
       "  ('Lamc2', 'Itga6'),\n",
       "  ('Lamc2', 'Itgb1'),\n",
       "  ('Tgfa', 'Erbb2'),\n",
       "  ('Dll1', 'Notch3'),\n",
       "  ('Clcf1', 'Il6st'),\n",
       "  ('Nts', 'Ngfr'),\n",
       "  ('Thbs1', 'Itga3'),\n",
       "  ('Thbs1', 'Itga6'),\n",
       "  ('Thbs1', 'Sdc4'),\n",
       "  ('Thbs1', 'Itgb1'),\n",
       "  ('Il6', 'Il6ra'),\n",
       "  ('Il6', 'Il6st'),\n",
       "  ('Il6', 'F3'),\n",
       "  ('Ccl7', 'Ackr4'),\n",
       "  ('Ccl11', 'Ackr4'),\n",
       "  ('Lif', 'Il6st'),\n",
       "  ('Ccl2', 'Ackr4'),\n",
       "  ('Hbegf', 'Erbb2'),\n",
       "  ('Hbegf', 'Cd9'),\n",
       "  ('Hbegf', 'Cd44'),\n",
       "  ('Ereg', 'Erbb2'),\n",
       "  ('Fgf23', 'Fgfr2'),\n",
       "  ('Ngf', 'Ngfr'),\n",
       "  ('Tnc', 'Ptprz1'),\n",
       "  ('Tnc', 'Sdc4'),\n",
       "  ('Tnc', 'Itgb1')],\n",
       " 'bulk_2h - bulk_2h': [('Osm', 'Osmr'),\n",
       "  ('Il1b', 'Il1r1'),\n",
       "  ('Il1b', 'Adrb2'),\n",
       "  ('Serpine1', 'Plaur'),\n",
       "  ('Lamc2', 'Itga6'),\n",
       "  ('Lamc2', 'Itga3'),\n",
       "  ('Csf3', 'Csf3r'),\n",
       "  ('Ctgf', 'Itga5'),\n",
       "  ('Cyr61', 'Itga5'),\n",
       "  ('Icam1', 'Itgal'),\n",
       "  ('Thbs1', 'Sdc4'),\n",
       "  ('Thbs1', 'Itga6'),\n",
       "  ('Thbs1', 'Itga3'),\n",
       "  ('Spint1', 'St14'),\n",
       "  ('Hbegf', 'Cd44'),\n",
       "  ('Tnc', 'Sdc4'),\n",
       "  ('Tnc', 'Itga5')],\n",
       " 'bulk_2h - bulk_6h': [('Osm', 'Osmr'),\n",
       "  ('Il1b', 'Il1r1'),\n",
       "  ('Il1b', 'Il1r2'),\n",
       "  ('Il1b', 'Il1rap'),\n",
       "  ('Cxcl2', 'Cxcr1'),\n",
       "  ('Serpine1', 'Plaur'),\n",
       "  ('Lamc2', 'Itga6'),\n",
       "  ('Lamc2', 'Itga3'),\n",
       "  ('Csf3', 'Csf3r'),\n",
       "  ('Ctgf', 'Itgb2'),\n",
       "  ('Ctgf', 'Itga5'),\n",
       "  ('Ctgf', 'Itgam'),\n",
       "  ('Ccl4', 'Ccr1'),\n",
       "  ('Hdc', 'Hrh2'),\n",
       "  ('Cyr61', 'Itgb2'),\n",
       "  ('Cyr61', 'Itga5'),\n",
       "  ('Cyr61', 'Itgam'),\n",
       "  ('Icam1', 'Itgax'),\n",
       "  ('Icam1', 'Itgb2'),\n",
       "  ('Icam1', 'Itgal'),\n",
       "  ('Icam1', 'Itgam'),\n",
       "  ('Thbs1', 'Itga6'),\n",
       "  ('Thbs1', 'Itga3'),\n",
       "  ('S100a8', 'Tlr4'),\n",
       "  ('Ccl7', 'Ccr1'),\n",
       "  ('Ccl7', 'Ccr2'),\n",
       "  ('Ccl7', 'Ccr5'),\n",
       "  ('Ccl11', 'Ccr2'),\n",
       "  ('Ccl11', 'Ccr5'),\n",
       "  ('Cxcl5', 'Cxcr1'),\n",
       "  ('Ccl2', 'Ccr1'),\n",
       "  ('Ccl2', 'Ccr2'),\n",
       "  ('Ccl2', 'Ccr5'),\n",
       "  ('Hbegf', 'Cd44'),\n",
       "  ('Cxcl1', 'Cxcr1'),\n",
       "  ('Ccl3', 'Ccr1'),\n",
       "  ('Cxcl3', 'Cxcr1'),\n",
       "  ('S100a9', 'Tlr4'),\n",
       "  ('Tnc', 'Itga5'),\n",
       "  ('Tnc', 'Itga7')],\n",
       " 'bulk_2h - bulk_24h': [('Il1b', 'Il1r1'),\n",
       "  ('Il1b', 'Il1rap'),\n",
       "  ('Serpine1', 'Plaur'),\n",
       "  ('Csf3', 'Csf3r'),\n",
       "  ('Ccl4', 'Ccr1'),\n",
       "  ('Hdc', 'Hrh2'),\n",
       "  ('Icam1', 'Itgal'),\n",
       "  ('Ccl7', 'Ccr1'),\n",
       "  ('Ccl7', 'Ccr2'),\n",
       "  ('Ccl7', 'Ccr5'),\n",
       "  ('Ccl11', 'Ccr2'),\n",
       "  ('Ccl11', 'Ccr5'),\n",
       "  ('Ccl2', 'Ccr1'),\n",
       "  ('Ccl2', 'Ccr2'),\n",
       "  ('Ccl2', 'Ccr5'),\n",
       "  ('Hbegf', 'Cd44'),\n",
       "  ('Ccl3', 'Ccr1'),\n",
       "  ('Ccl3', '0610007P14Rik'),\n",
       "  ('Tnc', 'Itga7')],\n",
       " 'bulk_6h - WF_Lgr5': [('Mmp9', 'Cd44'),\n",
       "  ('Calca', 'Ramp1'),\n",
       "  ('Serpine1', 'Plaur'),\n",
       "  ('Ptgs2', 'Cav1'),\n",
       "  ('Lamc2', 'Itga3'),\n",
       "  ('Lamc2', 'Itga6'),\n",
       "  ('Lamc2', 'Itgb1'),\n",
       "  ('Tnfsf14', 'Ltbr'),\n",
       "  ('Cyr61', 'Cav1'),\n",
       "  ('Thbs1', 'Itga3'),\n",
       "  ('Thbs1', 'Itga6'),\n",
       "  ('Thbs1', 'Sdc1'),\n",
       "  ('Thbs1', 'Itgb1'),\n",
       "  ('Cd14', 'Itgb1'),\n",
       "  ('Ccl7', 'Ackr4'),\n",
       "  ('Ltb', 'Tnfrsf1a'),\n",
       "  ('Ltb', 'Ltbr'),\n",
       "  ('Csf2', 'Itgb1'),\n",
       "  ('Ccl11', 'Ackr4'),\n",
       "  ('Vcan', 'Cd44'),\n",
       "  ('Vcan', 'Itgb1'),\n",
       "  ('Pgf', 'Nrp2'),\n",
       "  ('Ccl2', 'Ackr4'),\n",
       "  ('Spp1', 'Cd44'),\n",
       "  ('Spp1', 'Itgb1'),\n",
       "  ('Hbegf', 'Cd9'),\n",
       "  ('Hbegf', 'Cd44'),\n",
       "  ('Gdnf', 'Gfra1'),\n",
       "  ('Fgf23', 'Fgfr1'),\n",
       "  ('Tnf', 'Tnfrsf1a'),\n",
       "  ('Tnf', 'Ltbr'),\n",
       "  ('Tnc', 'Sdc1'),\n",
       "  ('Tnc', 'Nt5e'),\n",
       "  ('Tnc', 'Itgb1')],\n",
       " 'bulk_6h - WF_Lgr6': [('Osm', 'Osmr'),\n",
       "  ('Il1b', 'Adrb2'),\n",
       "  ('Il1b', 'Il1r2'),\n",
       "  ('Mmp9', 'Cd44'),\n",
       "  ('Serpine1', 'Plaur'),\n",
       "  ('Lamc2', 'Itga3'),\n",
       "  ('Lamc2', 'Itga6'),\n",
       "  ('Lamc2', 'Itgb4'),\n",
       "  ('Lamc2', 'Itgb1'),\n",
       "  ('F10', 'F3'),\n",
       "  ('Tgfa', 'Erbb2'),\n",
       "  ('Tnfsf14', 'Ltbr'),\n",
       "  ('Il1rn', 'Il1r2'),\n",
       "  ('Thbs1', 'Itga3'),\n",
       "  ('Thbs1', 'Itga6'),\n",
       "  ('Thbs1', 'Sdc1'),\n",
       "  ('Thbs1', 'Itgb1'),\n",
       "  ('Cd14', 'Itgb1'),\n",
       "  ('Il6', 'Il6ra'),\n",
       "  ('Il6', 'F3'),\n",
       "  ('Nrg1', 'Erbb2'),\n",
       "  ('Nrg1', 'Gpc1'),\n",
       "  ('Ccl7', 'Ackr4'),\n",
       "  ('Inhba', 'Tgfbr3'),\n",
       "  ('Ltb', 'Ltbr'),\n",
       "  ('Csf2', 'Itgb1'),\n",
       "  ('Ccl11', 'Ackr4'),\n",
       "  ('Il1a', 'Il1r2'),\n",
       "  ('Vcan', 'Cd44'),\n",
       "  ('Vcan', 'Itgb1'),\n",
       "  ('Il24', 'Il20ra'),\n",
       "  ('Il24', 'Il20rb'),\n",
       "  ('Gzmb', 'Igf2r'),\n",
       "  ('Gzmb', 'Pgrmc1'),\n",
       "  ('Ccl2', 'Ackr4'),\n",
       "  ('Spp1', 'Cd44'),\n",
       "  ('Spp1', 'Itgb1'),\n",
       "  ('Hbegf', 'Erbb2'),\n",
       "  ('Hbegf', 'Cd9'),\n",
       "  ('Hbegf', 'Cd44'),\n",
       "  ('Ereg', 'Erbb2'),\n",
       "  ('Sema4d', 'Erbb2'),\n",
       "  ('Sema4d', 'Plxnb2'),\n",
       "  ('Ccl3', '0610007P14Rik'),\n",
       "  ('Ngf', 'Maged1'),\n",
       "  ('Tnf', 'Traf2'),\n",
       "  ('Tnf', 'Tnfrsf21'),\n",
       "  ('Tnf', 'Ltbr'),\n",
       "  ('Tnc', 'Ptprz1'),\n",
       "  ('Tnc', 'Sdc1'),\n",
       "  ('Tnc', 'Itgb1')],\n",
       " 'bulk_6h - ctrl_Lgr5': [('Calca', 'Ramp1'),\n",
       "  ('Lamc2', 'Col17a1'),\n",
       "  ('Csf2', 'Sdc2'),\n",
       "  ('Gdnf', 'Gfra1'),\n",
       "  ('Gdnf', 'Gfra2'),\n",
       "  ('Fgf23', 'Fgfr1'),\n",
       "  ('Ngf', 'Maged1'),\n",
       "  ('Tnc', 'Nt5e')],\n",
       " 'bulk_6h - ctrl_Lgr6': [('Osm', 'Il6st'),\n",
       "  ('Il1b', 'Adrb2'),\n",
       "  ('Il1b', 'Il1r2'),\n",
       "  ('Il1b', 'Il1r1'),\n",
       "  ('Mmp9', 'Cd44'),\n",
       "  ('Lamc2', 'Itga3'),\n",
       "  ('Lamc2', 'Itga6'),\n",
       "  ('Lamc2', 'Itgb1'),\n",
       "  ('F10', 'F3'),\n",
       "  ('Tgfa', 'Erbb2'),\n",
       "  ('Il1rn', 'Il1r2'),\n",
       "  ('Il1rn', 'Il1r1'),\n",
       "  ('Clcf1', 'Il6st'),\n",
       "  ('Thbs1', 'Itga3'),\n",
       "  ('Thbs1', 'Itga6'),\n",
       "  ('Thbs1', 'Sdc4'),\n",
       "  ('Thbs1', 'Itgb1'),\n",
       "  ('Cd14', 'Itgb1'),\n",
       "  ('Il6', 'Il6ra'),\n",
       "  ('Il6', 'Il6st'),\n",
       "  ('Il6', 'F3'),\n",
       "  ('Nrg1', 'Erbb2'),\n",
       "  ('Nrg1', 'Gpc1'),\n",
       "  ('Ccl7', 'Ackr4'),\n",
       "  ('Inhba', 'Tgfbr3'),\n",
       "  ('Csf2', 'Itgb1'),\n",
       "  ('Ccl11', 'Ackr4'),\n",
       "  ('Il1a', 'Il1r2'),\n",
       "  ('Il1a', 'Il1r1'),\n",
       "  ('Vcan', 'Cd44'),\n",
       "  ('Vcan', 'Itgb1'),\n",
       "  ('Il24', 'Il20ra'),\n",
       "  ('Il24', 'Il20rb'),\n",
       "  ('Lif', 'Il6st'),\n",
       "  ('Ccl2', 'Ackr4'),\n",
       "  ('Spp1', 'Cd44'),\n",
       "  ('Spp1', 'Itgb1'),\n",
       "  ('Hbegf', 'Erbb2'),\n",
       "  ('Hbegf', 'Cd9'),\n",
       "  ('Hbegf', 'Cd44'),\n",
       "  ('Ereg', 'Erbb2'),\n",
       "  ('Sema4d', 'Erbb2'),\n",
       "  ('Sema4d', 'Plxnb2'),\n",
       "  ('Sema4d', 'Plxnb1'),\n",
       "  ('Fgf23', 'Fgfr2'),\n",
       "  ('Ngf', 'Ngfr'),\n",
       "  ('Tnc', 'Ptprz1'),\n",
       "  ('Tnc', 'Sdc4'),\n",
       "  ('Tnc', 'Itgb1')],\n",
       " 'bulk_6h - bulk_2h': [('Osm', 'Osmr'),\n",
       "  ('Il1b', 'Il1r1'),\n",
       "  ('Il1b', 'Adrb2'),\n",
       "  ('Mmp9', 'Cd44'),\n",
       "  ('Serpine1', 'Plaur'),\n",
       "  ('Lamc2', 'Itga6'),\n",
       "  ('Lamc2', 'Itga3'),\n",
       "  ('Selplg', 'Selp'),\n",
       "  ('Selplg', 'Sele'),\n",
       "  ('Selplg', 'Sell'),\n",
       "  ('Csf3', 'Csf3r'),\n",
       "  ('Il1rn', 'Il1r1'),\n",
       "  ('Cyr61', 'Itga5'),\n",
       "  ('Thbs1', 'Sdc4'),\n",
       "  ('Thbs1', 'Itga6'),\n",
       "  ('Thbs1', 'Itga3'),\n",
       "  ('Csf2', 'Csf3r'),\n",
       "  ('Csf2', 'Csf2rb'),\n",
       "  ('Csf2', 'Csf2rb2'),\n",
       "  ('Il1a', 'Il1r1'),\n",
       "  ('Vcan', 'Selp'),\n",
       "  ('Vcan', 'Cd44'),\n",
       "  ('Vcan', 'Sell'),\n",
       "  ('Spp1', 'Itga5'),\n",
       "  ('Spp1', 'Cd44'),\n",
       "  ('Hbegf', 'Cd44'),\n",
       "  ('Tnc', 'Sdc4'),\n",
       "  ('Tnc', 'Itga5')],\n",
       " 'bulk_6h - bulk_6h': [('Osm', 'Osmr'),\n",
       "  ('Vasp', 'Cxcr1'),\n",
       "  ('Il1b', 'Il1r1'),\n",
       "  ('Il1b', 'Il1r2'),\n",
       "  ('Il1b', 'Il1rap'),\n",
       "  ('Mmp9', 'Itgb2'),\n",
       "  ('Mmp9', 'Itgam'),\n",
       "  ('Mmp9', 'Cd44'),\n",
       "  ('Cxcl2', 'Cxcr1'),\n",
       "  ('Serpine1', 'Plaur'),\n",
       "  ('Lamc2', 'Itga6'),\n",
       "  ('Lamc2', 'Itga3'),\n",
       "  ('Selplg', 'Sele'),\n",
       "  ('Selplg', 'Itgb2'),\n",
       "  ('Selplg', 'Itgam'),\n",
       "  ('Selplg', 'Sell'),\n",
       "  ('F10', 'Itgb2'),\n",
       "  ('F10', 'Itgam'),\n",
       "  ('Csf3', 'Csf3r'),\n",
       "  ('Sema6d', 'Tyrobp'),\n",
       "  ('Ccl4', 'Ccr1'),\n",
       "  ('Il1rn', 'Il1r1'),\n",
       "  ('Il1rn', 'Il1r2'),\n",
       "  ('Hdc', 'Hrh2'),\n",
       "  ('Cyr61', 'Itgb2'),\n",
       "  ('Cyr61', 'Itga5'),\n",
       "  ('Cyr61', 'Itgam'),\n",
       "  ('Plat', 'Itgb2'),\n",
       "  ('Plat', 'Itgam'),\n",
       "  ('Thbs1', 'Itga6'),\n",
       "  ('Thbs1', 'Itga3'),\n",
       "  ('S100a8', 'Tlr4'),\n",
       "  ('Ccl7', 'Ccr1'),\n",
       "  ('Ccl7', 'Ccr2'),\n",
       "  ('Ccl7', 'Ccr5'),\n",
       "  ('Csf2', 'Csf3r'),\n",
       "  ('Csf2', 'Csf2ra'),\n",
       "  ('Csf2', 'Csf2rb'),\n",
       "  ('Csf2', 'Csf2rb2'),\n",
       "  ('Ccl11', 'Ccr2'),\n",
       "  ('Ccl11', 'Ccr5'),\n",
       "  ('Il1a', 'Il1r1'),\n",
       "  ('Il1a', 'Il1r2'),\n",
       "  ('Il1a', 'Il1rap'),\n",
       "  ('Vcan', 'Tlr2'),\n",
       "  ('Vcan', 'Cd44'),\n",
       "  ('Vcan', 'Sell'),\n",
       "  ('Defb14', 'Ccr2'),\n",
       "  ('Defb14', 'Ccr5'),\n",
       "  ('Cxcl5', 'Cxcr1'),\n",
       "  ('Ccl2', 'Ccr1'),\n",
       "  ('Ccl2', 'Ccr2'),\n",
       "  ('Ccl2', 'Ccr5'),\n",
       "  ('Ppbp', 'Cxcr1'),\n",
       "  ('Spp1', 'Itga5'),\n",
       "  ('Spp1', 'Cd44'),\n",
       "  ('Hbegf', 'Cd44'),\n",
       "  ('Cxcl1', 'Cxcr1'),\n",
       "  ('Gdnf', 'Gfra1'),\n",
       "  ('Ccl3', 'Ccr1'),\n",
       "  ('Cxcl3', 'Cxcr1'),\n",
       "  ('S100a9', 'Tlr4'),\n",
       "  ('Tnc', 'Itga5'),\n",
       "  ('Tnc', 'Itga7')],\n",
       " 'bulk_6h - bulk_24h': [('Il1b', 'Il1r1'),\n",
       "  ('Il1b', 'Il1rap'),\n",
       "  ('Mmp9', 'Cd44'),\n",
       "  ('Serpine1', 'Plaur'),\n",
       "  ('Selplg', 'Sell'),\n",
       "  ('Csf3', 'Csf3r'),\n",
       "  ('Sema6d', 'Tyrobp'),\n",
       "  ('Ccl4', 'Ccr1'),\n",
       "  ('Il1rn', 'Il1r1'),\n",
       "  ('Hdc', 'Hrh2'),\n",
       "  ('Ccl7', 'Ccr1'),\n",
       "  ('Ccl7', 'Ccr2'),\n",
       "  ('Ccl7', 'Ccr5'),\n",
       "  ('Csf2', 'Csf3r'),\n",
       "  ('Csf2', 'Csf2rb'),\n",
       "  ('Csf2', 'Csf2rb2'),\n",
       "  ('Ccl11', 'Ccr2'),\n",
       "  ('Ccl11', 'Ccr5'),\n",
       "  ('Il1a', 'Il1r1'),\n",
       "  ('Il1a', 'Il1rap'),\n",
       "  ('Vcan', 'Tlr1'),\n",
       "  ('Vcan', 'Cd44'),\n",
       "  ('Vcan', 'Sell'),\n",
       "  ('Defb14', 'Ccr2'),\n",
       "  ('Defb14', 'Ccr5'),\n",
       "  ('Ccl2', 'Ccr1'),\n",
       "  ('Ccl2', 'Ccr2'),\n",
       "  ('Ccl2', 'Ccr5'),\n",
       "  ('Spp1', 'Cd44'),\n",
       "  ('Hbegf', 'Cd44'),\n",
       "  ('Gdnf', 'Gfra1'),\n",
       "  ('Ccl3', 'Ccr1'),\n",
       "  ('Ccl3', '0610007P14Rik'),\n",
       "  ('Tnc', 'Itga7')],\n",
       " 'bulk_24h - WF_Lgr5': [('Mmp9', 'Cd44'),\n",
       "  ('Serpine1', 'Plaur'),\n",
       "  ('Ptgs2', 'Cav1'),\n",
       "  ('Lamc2', 'Itga3'),\n",
       "  ('Lamc2', 'Itga6'),\n",
       "  ('Lamc2', 'Itgb1'),\n",
       "  ('Cthrc1', 'Fzd3'),\n",
       "  ('Cthrc1', 'Fzd5'),\n",
       "  ('Hgf', 'St14'),\n",
       "  ('Hgf', 'Sdc1'),\n",
       "  ('Hgf', 'Cd44'),\n",
       "  ('Thbs1', 'Itga3'),\n",
       "  ('Thbs1', 'Itga6'),\n",
       "  ('Thbs1', 'Sdc1'),\n",
       "  ('Thbs1', 'Itgb1'),\n",
       "  ('Cd14', 'Itgb1'),\n",
       "  ('Mmp12', 'Plaur'),\n",
       "  ('Ltb', 'Tnfrsf1a'),\n",
       "  ('Ltb', 'Ltbr'),\n",
       "  ('Fgf7', 'Fgfr1'),\n",
       "  ('Vcan', 'Cd44'),\n",
       "  ('Vcan', 'Itgb1'),\n",
       "  ('Pgf', 'Nrp2'),\n",
       "  ('Pf4', 'Ldlr'),\n",
       "  ('Il11', 'Il11ra1'),\n",
       "  ('Cxcl12', 'Itgb1'),\n",
       "  ('Timp1', 'Cd63'),\n",
       "  ('Spp1', 'Cd44'),\n",
       "  ('Spp1', 'Itgb1'),\n",
       "  ('Sema3a', 'Plxna2'),\n",
       "  ('Sema3a', 'Nrp2'),\n",
       "  ('Hbegf', 'Cd9'),\n",
       "  ('Hbegf', 'Cd44'),\n",
       "  ('Fgf23', 'Fgfr1'),\n",
       "  ('Tnf', 'Tnfrsf1a'),\n",
       "  ('Tnf', 'Ltbr'),\n",
       "  ('Tnc', 'Sdc1'),\n",
       "  ('Tnc', 'Nt5e'),\n",
       "  ('Tnc', 'Itgb1')],\n",
       " 'bulk_24h - WF_Lgr6': [('Osm', 'Osmr'),\n",
       "  ('Il1b', 'Adrb2'),\n",
       "  ('Il1b', 'Il1r2'),\n",
       "  ('Mmp9', 'Cd44'),\n",
       "  ('Serpine1', 'Plaur'),\n",
       "  ('Lamc2', 'Itga3'),\n",
       "  ('Lamc2', 'Itga6'),\n",
       "  ('Lamc2', 'Itgb4'),\n",
       "  ('Lamc2', 'Itgb1'),\n",
       "  ('F10', 'F3'),\n",
       "  ('Tgfa', 'Erbb2'),\n",
       "  ('F7', 'F3'),\n",
       "  ('Hgf', 'Sdc1'),\n",
       "  ('Hgf', 'Cd44'),\n",
       "  ('Thbs1', 'Itga3'),\n",
       "  ('Thbs1', 'Itga6'),\n",
       "  ('Thbs1', 'Sdc1'),\n",
       "  ('Thbs1', 'Itgb1'),\n",
       "  ('Cd14', 'Itgb1'),\n",
       "  ('Mmp12', 'Plaur'),\n",
       "  ('Inhba', 'Tgfbr3'),\n",
       "  ('Ltb', 'Ltbr'),\n",
       "  ('Il1a', 'Il1r2'),\n",
       "  ('Vcan', 'Cd44'),\n",
       "  ('Vcan', 'Itgb1'),\n",
       "  ('Pf4', 'Ldlr'),\n",
       "  ('Pf4', 'Procr'),\n",
       "  ('Il19', 'Il20ra'),\n",
       "  ('Il19', 'Il20rb'),\n",
       "  ('Gzmb', 'Igf2r'),\n",
       "  ('Gzmb', 'Pgrmc1'),\n",
       "  ('Cxcl12', 'Ackr3'),\n",
       "  ('Cxcl12', 'Itgb1'),\n",
       "  ('Timp1', 'Cd63'),\n",
       "  ('Spp1', 'Cd44'),\n",
       "  ('Spp1', 'Itgb1'),\n",
       "  ('Hbegf', 'Erbb2'),\n",
       "  ('Hbegf', 'Cd9'),\n",
       "  ('Hbegf', 'Cd44'),\n",
       "  ('Sema4d', 'Erbb2'),\n",
       "  ('Sema4d', 'Plxnb2'),\n",
       "  ('Ccl3', '0610007P14Rik'),\n",
       "  ('Tnf', 'Traf2'),\n",
       "  ('Tnf', 'Tnfrsf21'),\n",
       "  ('Tnf', 'Ltbr'),\n",
       "  ('Tnc', 'Ptprz1'),\n",
       "  ('Tnc', 'Sdc1'),\n",
       "  ('Tnc', 'Itgb1')],\n",
       " 'bulk_24h - ctrl_Lgr5': [('Lamc2', 'Col17a1'),\n",
       "  ('Cthrc1', 'Fzd3'),\n",
       "  ('Hgf', 'Sdc2'),\n",
       "  ('Fgf7', 'Fgfr1'),\n",
       "  ('Pf4', 'Sdc2'),\n",
       "  ('Il11', 'Il11ra1'),\n",
       "  ('Timp1', 'Cd63'),\n",
       "  ('Sema3a', 'Plxna2'),\n",
       "  ('Fgf23', 'Fgfr1'),\n",
       "  ('Tnc', 'Nt5e')],\n",
       " 'bulk_24h - ctrl_Lgr6': [('Osm', 'Il6st'),\n",
       "  ('Il1b', 'Adrb2'),\n",
       "  ('Il1b', 'Il1r2'),\n",
       "  ('Il1b', 'Il1r1'),\n",
       "  ('Mmp9', 'Cd44'),\n",
       "  ('Lamc2', 'Itga3'),\n",
       "  ('Lamc2', 'Itga6'),\n",
       "  ('Lamc2', 'Itgb1'),\n",
       "  ('F10', 'F3'),\n",
       "  ('Tgfa', 'Erbb2'),\n",
       "  ('F7', 'F3'),\n",
       "  ('Clcf1', 'Il6st'),\n",
       "  ('Hgf', 'Cd44'),\n",
       "  ('Thbs1', 'Itga3'),\n",
       "  ('Thbs1', 'Itga6'),\n",
       "  ('Thbs1', 'Sdc4'),\n",
       "  ('Thbs1', 'Itgb1'),\n",
       "  ('Rarres2', 'Ccrl2'),\n",
       "  ('Cd14', 'Itgb1'),\n",
       "  ('Inhba', 'Tgfbr3'),\n",
       "  ('Il1a', 'Il1r2'),\n",
       "  ('Il1a', 'Il1r1'),\n",
       "  ('Fgf7', 'Fgfr2'),\n",
       "  ('Vcan', 'Cd44'),\n",
       "  ('Vcan', 'Itgb1'),\n",
       "  ('Pf4', 'Fgfr2'),\n",
       "  ('Pf4', 'Ldlr'),\n",
       "  ('Il19', 'Il20ra'),\n",
       "  ('Il19', 'Il20rb'),\n",
       "  ('Il11', 'Il6st'),\n",
       "  ('Cxcl12', 'Ackr3'),\n",
       "  ('Cxcl12', 'Sdc4'),\n",
       "  ('Cxcl12', 'Itgb1'),\n",
       "  ('Spp1', 'Cd44'),\n",
       "  ('Spp1', 'Itgb1'),\n",
       "  ('Hbegf', 'Erbb2'),\n",
       "  ('Hbegf', 'Cd9'),\n",
       "  ('Hbegf', 'Cd44'),\n",
       "  ('Sema4d', 'Erbb2'),\n",
       "  ('Sema4d', 'Plxnb2'),\n",
       "  ('Sema4d', 'Plxnb1'),\n",
       "  ('Fgf23', 'Fgfr2'),\n",
       "  ('Tnc', 'Ptprz1'),\n",
       "  ('Tnc', 'Sdc4'),\n",
       "  ('Tnc', 'Itgb1')],\n",
       " 'bulk_24h - bulk_2h': [('Osm', 'Osmr'),\n",
       "  ('Il1b', 'Il1r1'),\n",
       "  ('Il1b', 'Adrb2'),\n",
       "  ('Mmp9', 'Cd44'),\n",
       "  ('Serpine1', 'Plaur'),\n",
       "  ('Lamc2', 'Itga6'),\n",
       "  ('Lamc2', 'Itga3'),\n",
       "  ('Selplg', 'Selp'),\n",
       "  ('Selplg', 'Sele'),\n",
       "  ('Selplg', 'Sell'),\n",
       "  ('Csf3', 'Csf3r'),\n",
       "  ('Cd24a', 'Selp'),\n",
       "  ('Cthrc1', 'Fzd5'),\n",
       "  ('Hgf', 'St14'),\n",
       "  ('Hgf', 'Cd44'),\n",
       "  ('Thbs1', 'Sdc4'),\n",
       "  ('Thbs1', 'Itga6'),\n",
       "  ('Thbs1', 'Itga3'),\n",
       "  ('Mmp12', 'Plaur'),\n",
       "  ('Il1a', 'Il1r1'),\n",
       "  ('Vcan', 'Selp'),\n",
       "  ('Vcan', 'Cd44'),\n",
       "  ('Vcan', 'Sell'),\n",
       "  ('Pf4', 'Thbd'),\n",
       "  ('Pf4', 'Ldlr'),\n",
       "  ('Pf4', 'Procr'),\n",
       "  ('Cxcl12', 'Sdc4'),\n",
       "  ('Spp1', 'Itga5'),\n",
       "  ('Spp1', 'Cd44'),\n",
       "  ('Hbegf', 'Cd44'),\n",
       "  ('Tnc', 'Sdc4'),\n",
       "  ('Tnc', 'Itga5')],\n",
       " 'bulk_24h - bulk_6h': [('Hp', 'Itgb2'),\n",
       "  ('Hp', 'Itgam'),\n",
       "  ('Osm', 'Osmr'),\n",
       "  ('Vasp', 'Cxcr1'),\n",
       "  ('Il1b', 'Il1r1'),\n",
       "  ('Il1b', 'Il1r2'),\n",
       "  ('Il1b', 'Il1rap'),\n",
       "  ('Mmp9', 'Itgb2'),\n",
       "  ('Mmp9', 'Itgam'),\n",
       "  ('Mmp9', 'Cd44'),\n",
       "  ('Cxcl2', 'Cxcr1'),\n",
       "  ('Serpine1', 'Plaur'),\n",
       "  ('Lamc2', 'Itga6'),\n",
       "  ('Lamc2', 'Itga3'),\n",
       "  ('Selplg', 'Sele'),\n",
       "  ('Selplg', 'Itgb2'),\n",
       "  ('Selplg', 'Itgam'),\n",
       "  ('Selplg', 'Sell'),\n",
       "  ('F10', 'Itgb2'),\n",
       "  ('F10', 'Itgam'),\n",
       "  ('Csf3', 'Csf3r'),\n",
       "  ('Ccl4', 'Ccr1'),\n",
       "  ('Hdc', 'Hrh2'),\n",
       "  ('Hgf', 'Cd44'),\n",
       "  ('Thbs1', 'Itga6'),\n",
       "  ('Thbs1', 'Itga3'),\n",
       "  ('Rarres2', 'Ccrl2'),\n",
       "  ('S100a8', 'Tlr4'),\n",
       "  ('Mmp12', 'Plaur'),\n",
       "  ('Il1a', 'Il1r1'),\n",
       "  ('Il1a', 'Il1r2'),\n",
       "  ('Il1a', 'Il1rap'),\n",
       "  ('Vcan', 'Tlr2'),\n",
       "  ('Vcan', 'Cd44'),\n",
       "  ('Vcan', 'Sell'),\n",
       "  ('Defb14', 'Ccr2'),\n",
       "  ('Defb14', 'Ccr5'),\n",
       "  ('Pf4', 'Thbd'),\n",
       "  ('Pf4', 'Ldlr'),\n",
       "  ('Pf4', 'Procr'),\n",
       "  ('Cxcl5', 'Cxcr1'),\n",
       "  ('Cxcl12', 'Cxcr4'),\n",
       "  ('Ppbp', 'Cxcr1'),\n",
       "  ('Spp1', 'Itga5'),\n",
       "  ('Spp1', 'Cd44'),\n",
       "  ('Hbegf', 'Cd44'),\n",
       "  ('Ccl3', 'Ccr1'),\n",
       "  ('Cxcl3', 'Cxcr1'),\n",
       "  ('S100a9', 'Tlr4'),\n",
       "  ('Tnc', 'Itga5'),\n",
       "  ('Tnc', 'Itga7')],\n",
       " 'bulk_24h - bulk_24h': [('Il1b', 'Il1r1'),\n",
       "  ('Il1b', 'Il1rap'),\n",
       "  ('Mmp9', 'Cd44'),\n",
       "  ('Serpine1', 'Plaur'),\n",
       "  ('Selplg', 'Sell'),\n",
       "  ('Csf3', 'Csf3r'),\n",
       "  ('Apln', 'Aplnr'),\n",
       "  ('Ccl4', 'Ccr1'),\n",
       "  ('Hdc', 'Hrh2'),\n",
       "  ('Hgf', 'Cd44'),\n",
       "  ('Rarres2', 'Ccrl2'),\n",
       "  ('Mmp12', 'Plaur'),\n",
       "  ('Il1a', 'Il1r1'),\n",
       "  ('Il1a', 'Il1rap'),\n",
       "  ('Vcan', 'Tlr1'),\n",
       "  ('Vcan', 'Cd44'),\n",
       "  ('Vcan', 'Sell'),\n",
       "  ('Defb14', 'Ccr2'),\n",
       "  ('Defb14', 'Ccr5'),\n",
       "  ('Pf4', 'Thbd'),\n",
       "  ('Cxcl12', 'Cxcr4'),\n",
       "  ('Timp1', 'Cd63'),\n",
       "  ('Spp1', 'Cd44'),\n",
       "  ('Hbegf', 'Cd44'),\n",
       "  ('Ccl3', 'Ccr1'),\n",
       "  ('Ccl3', '0610007P14Rik'),\n",
       "  ('Tnc', 'Itga7')]}"
      ]
     },
     "execution_count": 59,
     "metadata": {},
     "output_type": "execute_result"
    }
   ],
   "source": [
    "LigReg_WF_vs_bulk_dict"
   ]
  },
  {
   "cell_type": "code",
   "execution_count": 60,
   "metadata": {},
   "outputs": [
    {
     "data": {
      "text/html": [
       "<div>\n",
       "<style scoped>\n",
       "    .dataframe tbody tr th:only-of-type {\n",
       "        vertical-align: middle;\n",
       "    }\n",
       "\n",
       "    .dataframe tbody tr th {\n",
       "        vertical-align: top;\n",
       "    }\n",
       "\n",
       "    .dataframe thead th {\n",
       "        text-align: right;\n",
       "    }\n",
       "</style>\n",
       "<table border=\"1\" class=\"dataframe\">\n",
       "  <thead>\n",
       "    <tr style=\"text-align: right;\">\n",
       "      <th></th>\n",
       "      <th>WF_Lgr5</th>\n",
       "      <th>WF_Lgr6</th>\n",
       "      <th>ctrl_Lgr5</th>\n",
       "      <th>ctrl_Lgr6</th>\n",
       "      <th>bulk_2h</th>\n",
       "      <th>bulk_6h</th>\n",
       "      <th>bulk_24h</th>\n",
       "    </tr>\n",
       "  </thead>\n",
       "  <tbody>\n",
       "    <tr>\n",
       "      <th>WF_Lgr5</th>\n",
       "      <td>42</td>\n",
       "      <td>38</td>\n",
       "      <td>17</td>\n",
       "      <td>39</td>\n",
       "      <td>28</td>\n",
       "      <td>32</td>\n",
       "      <td>16</td>\n",
       "    </tr>\n",
       "    <tr>\n",
       "      <th>WF_Lgr6</th>\n",
       "      <td>38</td>\n",
       "      <td>38</td>\n",
       "      <td>13</td>\n",
       "      <td>31</td>\n",
       "      <td>27</td>\n",
       "      <td>37</td>\n",
       "      <td>19</td>\n",
       "    </tr>\n",
       "    <tr>\n",
       "      <th>ctrl_Lgr5</th>\n",
       "      <td>35</td>\n",
       "      <td>32</td>\n",
       "      <td>15</td>\n",
       "      <td>34</td>\n",
       "      <td>20</td>\n",
       "      <td>30</td>\n",
       "      <td>16</td>\n",
       "    </tr>\n",
       "    <tr>\n",
       "      <th>ctrl_Lgr6</th>\n",
       "      <td>31</td>\n",
       "      <td>34</td>\n",
       "      <td>8</td>\n",
       "      <td>34</td>\n",
       "      <td>19</td>\n",
       "      <td>26</td>\n",
       "      <td>12</td>\n",
       "    </tr>\n",
       "    <tr>\n",
       "      <th>bulk_2h</th>\n",
       "      <td>26</td>\n",
       "      <td>33</td>\n",
       "      <td>7</td>\n",
       "      <td>32</td>\n",
       "      <td>17</td>\n",
       "      <td>40</td>\n",
       "      <td>19</td>\n",
       "    </tr>\n",
       "    <tr>\n",
       "      <th>bulk_6h</th>\n",
       "      <td>34</td>\n",
       "      <td>51</td>\n",
       "      <td>8</td>\n",
       "      <td>49</td>\n",
       "      <td>28</td>\n",
       "      <td>64</td>\n",
       "      <td>34</td>\n",
       "    </tr>\n",
       "    <tr>\n",
       "      <th>bulk_24h</th>\n",
       "      <td>39</td>\n",
       "      <td>48</td>\n",
       "      <td>10</td>\n",
       "      <td>45</td>\n",
       "      <td>32</td>\n",
       "      <td>51</td>\n",
       "      <td>27</td>\n",
       "    </tr>\n",
       "  </tbody>\n",
       "</table>\n",
       "</div>"
      ],
      "text/plain": [
       "           WF_Lgr5  WF_Lgr6  ctrl_Lgr5  ctrl_Lgr6  bulk_2h  bulk_6h  bulk_24h\n",
       "WF_Lgr5         42       38         17         39       28       32        16\n",
       "WF_Lgr6         38       38         13         31       27       37        19\n",
       "ctrl_Lgr5       35       32         15         34       20       30        16\n",
       "ctrl_Lgr6       31       34          8         34       19       26        12\n",
       "bulk_2h         26       33          7         32       17       40        19\n",
       "bulk_6h         34       51          8         49       28       64        34\n",
       "bulk_24h        39       48         10         45       32       51        27"
      ]
     },
     "execution_count": 60,
     "metadata": {},
     "output_type": "execute_result"
    }
   ],
   "source": [
    "quant_LigReg_WF_vs_bulk_df"
   ]
  },
  {
   "cell_type": "code",
   "execution_count": 338,
   "metadata": {
    "scrolled": false
   },
   "outputs": [],
   "source": [
    "sim_WF_vs_bulk = sim_lig_rec(dict_rec_WF_vs_bulk, dict_lig_WF_vs_bulk, PairsLigRec_mm_S, repeats = 10000)"
   ]
  },
  {
   "cell_type": "code",
   "execution_count": 339,
   "metadata": {
    "scrolled": false
   },
   "outputs": [
    {
     "data": {
      "text/plain": [
       "{'WF_Lgr5 - WF_Lgr5': 0.0,\n",
       " 'WF_Lgr5 - WF_Lgr6': 0.0,\n",
       " 'WF_Lgr5 - ctrl_Lgr5': 0.0119,\n",
       " 'WF_Lgr5 - ctrl_Lgr6': 0.0,\n",
       " 'WF_Lgr5 - bulk_2h': 0.0,\n",
       " 'WF_Lgr5 - bulk_6h': 0.0,\n",
       " 'WF_Lgr5 - bulk_24h': 0.0267,\n",
       " 'WF_Lgr6 - WF_Lgr5': 0.0,\n",
       " 'WF_Lgr6 - WF_Lgr6': 0.0,\n",
       " 'WF_Lgr6 - ctrl_Lgr5': 0.3312,\n",
       " 'WF_Lgr6 - ctrl_Lgr6': 0.0,\n",
       " 'WF_Lgr6 - bulk_2h': 0.0,\n",
       " 'WF_Lgr6 - bulk_6h': 0.0,\n",
       " 'WF_Lgr6 - bulk_24h': 0.0184,\n",
       " 'ctrl_Lgr5 - WF_Lgr5': 0.0,\n",
       " 'ctrl_Lgr5 - WF_Lgr6': 0.0,\n",
       " 'ctrl_Lgr5 - ctrl_Lgr5': 0.0002,\n",
       " 'ctrl_Lgr5 - ctrl_Lgr6': 0.0,\n",
       " 'ctrl_Lgr5 - bulk_2h': 0.0,\n",
       " 'ctrl_Lgr5 - bulk_6h': 0.0,\n",
       " 'ctrl_Lgr5 - bulk_24h': 0.0002,\n",
       " 'ctrl_Lgr6 - WF_Lgr5': 0.0,\n",
       " 'ctrl_Lgr6 - WF_Lgr6': 0.0,\n",
       " 'ctrl_Lgr6 - ctrl_Lgr5': 0.3903,\n",
       " 'ctrl_Lgr6 - ctrl_Lgr6': 0.0,\n",
       " 'ctrl_Lgr6 - bulk_2h': 0.0,\n",
       " 'ctrl_Lgr6 - bulk_6h': 0.0,\n",
       " 'ctrl_Lgr6 - bulk_24h': 0.0492,\n",
       " 'bulk_2h - WF_Lgr5': 0.0,\n",
       " 'bulk_2h - WF_Lgr6': 0.0,\n",
       " 'bulk_2h - ctrl_Lgr5': 0.7477,\n",
       " 'bulk_2h - ctrl_Lgr6': 0.0,\n",
       " 'bulk_2h - bulk_2h': 0.0069,\n",
       " 'bulk_2h - bulk_6h': 0.0,\n",
       " 'bulk_2h - bulk_24h': 0.0013,\n",
       " 'bulk_6h - WF_Lgr5': 0.0,\n",
       " 'bulk_6h - WF_Lgr6': 0.0,\n",
       " 'bulk_6h - ctrl_Lgr5': 0.9946,\n",
       " 'bulk_6h - ctrl_Lgr6': 0.0,\n",
       " 'bulk_6h - bulk_2h': 0.0037,\n",
       " 'bulk_6h - bulk_6h': 0.0,\n",
       " 'bulk_6h - bulk_24h': 0.0,\n",
       " 'bulk_24h - WF_Lgr5': 0.0,\n",
       " 'bulk_24h - WF_Lgr6': 0.0,\n",
       " 'bulk_24h - ctrl_Lgr5': 0.9708,\n",
       " 'bulk_24h - ctrl_Lgr6': 0.0,\n",
       " 'bulk_24h - bulk_2h': 0.0002,\n",
       " 'bulk_24h - bulk_6h': 0.0,\n",
       " 'bulk_24h - bulk_24h': 0.0098}"
      ]
     },
     "execution_count": 339,
     "metadata": {},
     "output_type": "execute_result"
    }
   ],
   "source": [
    "sim_lig_reg_get_p(quant_LigReg_WF_vs_bulk_dict, sim_WF_vs_bulk)"
   ]
  },
  {
   "cell_type": "markdown",
   "metadata": {},
   "source": [
    "## Screen for potential ligand / receptor interactions in whole wound (L) vs. WF (R) (including autocrine signaling between WF)"
   ]
  },
  {
   "cell_type": "code",
   "execution_count": 292,
   "metadata": {},
   "outputs": [],
   "source": [
    "from operator import itemgetter"
   ]
  },
  {
   "cell_type": "code",
   "execution_count": 293,
   "metadata": {},
   "outputs": [],
   "source": [
    "import matplotlib as mpl"
   ]
  },
  {
   "cell_type": "code",
   "execution_count": 294,
   "metadata": {},
   "outputs": [],
   "source": [
    "bulk_vs_WF_Lgr5 = LigReg_WF_vs_bulk_df.ix['bulk_24h','WF_Lgr5']\n",
    "bulk_vs_WF_Lgr6 = LigReg_WF_vs_bulk_df.ix['bulk_24h','WF_Lgr6']"
   ]
  },
  {
   "cell_type": "code",
   "execution_count": 295,
   "metadata": {},
   "outputs": [],
   "source": [
    "bulk_vs_WF_shared = list(set(bulk_vs_WF_Lgr5) & set(bulk_vs_WF_Lgr6))"
   ]
  },
  {
   "cell_type": "code",
   "execution_count": 296,
   "metadata": {},
   "outputs": [],
   "source": [
    "WF_Lgr5_vs_WF_Lgr5 = LigReg_WF_vs_bulk_df.ix['WF_Lgr5','WF_Lgr5']\n",
    "WF_Lgr6_vs_WF_Lgr6 = LigReg_WF_vs_bulk_df.ix['WF_Lgr6','WF_Lgr6']"
   ]
  },
  {
   "cell_type": "code",
   "execution_count": 297,
   "metadata": {},
   "outputs": [],
   "source": [
    "WF_vs_WF_shared = list(set(WF_Lgr5_vs_WF_Lgr5) & set(WF_Lgr6_vs_WF_Lgr6))"
   ]
  },
  {
   "cell_type": "code",
   "execution_count": 298,
   "metadata": {},
   "outputs": [],
   "source": [
    "bulk_vs_WF_shared = list(set(bulk_vs_WF_shared) | set(WF_vs_WF_shared))"
   ]
  },
  {
   "cell_type": "code",
   "execution_count": 299,
   "metadata": {},
   "outputs": [
    {
     "data": {
      "text/plain": [
       "[('Pkm', 'Cd44'),\n",
       " ('Thbs1', 'Itgb1'),\n",
       " ('Thbs1', 'Sdc1'),\n",
       " ('Spp1', 'Cd44'),\n",
       " ('Thbs1', 'Itga6'),\n",
       " ('Cxcl12', 'Itgb1'),\n",
       " ('Serpine1', 'Plaur'),\n",
       " ('Lamc2', 'Itga6'),\n",
       " ('Tnc', 'Itgb1'),\n",
       " ('Spp1', 'Itgb1'),\n",
       " ('Lamc2', 'Itga3'),\n",
       " ('Thbs1', 'Itga3'),\n",
       " ('Tnc', 'Sdc1'),\n",
       " ('Timp1', 'Cd63'),\n",
       " ('Vcan', 'Cd44'),\n",
       " ('Lamc2', 'Itgb1'),\n",
       " ('Pf4', 'Ldlr'),\n",
       " ('Hbegf', 'Cd44'),\n",
       " ('Hgf', 'Sdc1'),\n",
       " ('Cd14', 'Itgb1'),\n",
       " ('Hmgb1', 'Sdc1'),\n",
       " ('Calr', 'Itga3'),\n",
       " ('Vcan', 'Itgb1'),\n",
       " ('Ltb', 'Ltbr'),\n",
       " ('Hgf', 'Cd44'),\n",
       " ('Mmp12', 'Plaur'),\n",
       " ('Tnf', 'Ltbr'),\n",
       " ('Mmp9', 'Cd44'),\n",
       " ('Hbegf', 'Cd9')]"
      ]
     },
     "execution_count": 299,
     "metadata": {},
     "output_type": "execute_result"
    }
   ],
   "source": [
    "bulk_vs_WF_shared"
   ]
  },
  {
   "cell_type": "code",
   "execution_count": 300,
   "metadata": {},
   "outputs": [],
   "source": [
    "L_ordered = sorted(Counter([x[0] for x in bulk_vs_WF_shared]).items(), key=itemgetter(1))[::-1]"
   ]
  },
  {
   "cell_type": "code",
   "execution_count": 301,
   "metadata": {},
   "outputs": [
    {
     "data": {
      "text/plain": [
       "[('Thbs1', 4),\n",
       " ('Lamc2', 3),\n",
       " ('Hgf', 2),\n",
       " ('Hbegf', 2),\n",
       " ('Vcan', 2),\n",
       " ('Tnc', 2),\n",
       " ('Spp1', 2),\n",
       " ('Mmp9', 1),\n",
       " ('Tnf', 1),\n",
       " ('Mmp12', 1),\n",
       " ('Ltb', 1),\n",
       " ('Calr', 1),\n",
       " ('Hmgb1', 1),\n",
       " ('Cd14', 1),\n",
       " ('Pf4', 1),\n",
       " ('Timp1', 1),\n",
       " ('Serpine1', 1),\n",
       " ('Cxcl12', 1),\n",
       " ('Pkm', 1)]"
      ]
     },
     "execution_count": 301,
     "metadata": {},
     "output_type": "execute_result"
    }
   ],
   "source": [
    "L_ordered"
   ]
  },
  {
   "cell_type": "code",
   "execution_count": 302,
   "metadata": {},
   "outputs": [],
   "source": [
    "L_ordered_ix = [l[0] for l in L_ordered]"
   ]
  },
  {
   "cell_type": "code",
   "execution_count": 303,
   "metadata": {},
   "outputs": [],
   "source": [
    "R_ordered = sorted(Counter([x[1] for x in bulk_vs_WF_shared]).items(), key=itemgetter(1))[::-1]"
   ]
  },
  {
   "cell_type": "code",
   "execution_count": 304,
   "metadata": {},
   "outputs": [
    {
     "data": {
      "text/plain": [
       "[('Itgb1', 7),\n",
       " ('Cd44', 6),\n",
       " ('Sdc1', 4),\n",
       " ('Itga3', 3),\n",
       " ('Ltbr', 2),\n",
       " ('Plaur', 2),\n",
       " ('Itga6', 2),\n",
       " ('Cd9', 1),\n",
       " ('Ldlr', 1),\n",
       " ('Cd63', 1)]"
      ]
     },
     "execution_count": 304,
     "metadata": {},
     "output_type": "execute_result"
    }
   ],
   "source": [
    "R_ordered"
   ]
  },
  {
   "cell_type": "code",
   "execution_count": 305,
   "metadata": {},
   "outputs": [],
   "source": [
    "R_ordered_ix = [r[0] for r in R_ordered]"
   ]
  },
  {
   "cell_type": "code",
   "execution_count": 306,
   "metadata": {},
   "outputs": [],
   "source": [
    "cmap_R = {}\n",
    "\n",
    "for i, r in enumerate(set([x[1] for x in bulk_vs_WF_shared])): cmap_R[r] = mpl.colors.rgb2hex(plt.cm.tab20(i/20))"
   ]
  },
  {
   "cell_type": "markdown",
   "metadata": {},
   "source": [
    "### Plot Sankay diagram"
   ]
  },
  {
   "cell_type": "code",
   "execution_count": 307,
   "metadata": {},
   "outputs": [],
   "source": [
    "from ipysankeywidget import SankeyWidget\n",
    "from ipywidgets import Layout"
   ]
  },
  {
   "cell_type": "code",
   "execution_count": 308,
   "metadata": {},
   "outputs": [],
   "source": [
    "from IPython.display import Image, SVG"
   ]
  },
  {
   "cell_type": "code",
   "execution_count": 309,
   "metadata": {},
   "outputs": [],
   "source": [
    "bulk_vs_WF_shared_links = []\n",
    "\n",
    "for x in bulk_vs_WF_shared:\n",
    "    bulk_vs_WF_shared_links += [{'source':x[0],'target':x[1],'value':1, 'color': cmap_R[x[1]]}]"
   ]
  },
  {
   "cell_type": "code",
   "execution_count": 310,
   "metadata": {},
   "outputs": [],
   "source": [
    "bulk_vs_WF_shared_nodes = []\n",
    "\n",
    "for i in R_ordered_ix:\n",
    "    bulk_vs_WF_shared_nodes += [{'id': i,'style': 'process','color':'black'}]\n",
    "for i in L_ordered_ix:\n",
    "    bulk_vs_WF_shared_nodes += [{'id': i,'style': 'process','color':'black'}]"
   ]
  },
  {
   "cell_type": "code",
   "execution_count": 342,
   "metadata": {},
   "outputs": [],
   "source": [
    "layout = Layout(width=\"500\", height=\"600\")\n",
    "w = SankeyWidget(links = bulk_vs_WF_shared_links, \n",
    "                 margins=dict(top=0, bottom=0, left=100, right=100), \n",
    "                 layout = layout,\n",
    "                 nodes = bulk_vs_WF_shared_nodes)"
   ]
  },
  {
   "cell_type": "code",
   "execution_count": 343,
   "metadata": {},
   "outputs": [
    {
     "data": {
      "application/vnd.jupyter.widget-view+json": {
       "model_id": "0424e33c0d0f4034afd8683a094ed30a",
       "version_major": 2,
       "version_minor": 0
      },
      "text/plain": [
       "SankeyWidget(layout=Layout(height='600', width='500'), links=[{'source': 'Pkm', 'target': 'Cd44', 'value': 1, …"
      ]
     },
     "metadata": {},
     "output_type": "display_data"
    }
   ],
   "source": [
    "w"
   ]
  },
  {
   "cell_type": "code",
   "execution_count": 344,
   "metadata": {},
   "outputs": [],
   "source": [
    "w.save_svg('%s/sankay_bulk_vs_WF.svg' % path_figures)"
   ]
  },
  {
   "cell_type": "markdown",
   "metadata": {
    "collapsed": true
   },
   "source": [
    "## Screen for potential ligand / receptor interactions in WF (L) vs. whole wound (R) (including autocrine signaling between WF)"
   ]
  },
  {
   "cell_type": "code",
   "execution_count": 317,
   "metadata": {},
   "outputs": [],
   "source": [
    "WF_Lgr5_vs_bulk = LigReg_WF_vs_bulk_df.ix['WF_Lgr5','bulk_24h']\n",
    "WF_Lgr6_vs_bulk = LigReg_WF_vs_bulk_df.ix['WF_Lgr6','bulk_24h']"
   ]
  },
  {
   "cell_type": "code",
   "execution_count": 318,
   "metadata": {},
   "outputs": [],
   "source": [
    "WF_vs_bulk_shared = list(set(WF_Lgr5_vs_bulk) & set(WF_Lgr6_vs_bulk))"
   ]
  },
  {
   "cell_type": "code",
   "execution_count": 319,
   "metadata": {},
   "outputs": [],
   "source": [
    "WF_Lgr5_vs_WF_Lgr5 = LigReg_WF_vs_bulk_df.ix['WF_Lgr5','WF_Lgr5']\n",
    "WF_Lgr6_vs_WF_Lgr6 = LigReg_WF_vs_bulk_df.ix['WF_Lgr6','WF_Lgr6']"
   ]
  },
  {
   "cell_type": "code",
   "execution_count": 320,
   "metadata": {},
   "outputs": [],
   "source": [
    "WF_vs_WF_shared = list(set(WF_Lgr5_vs_WF_Lgr5) & set(WF_Lgr6_vs_WF_Lgr6))"
   ]
  },
  {
   "cell_type": "code",
   "execution_count": 321,
   "metadata": {},
   "outputs": [],
   "source": [
    "WF_vs_bulk_shared = list(set(WF_vs_bulk_shared) | set(WF_vs_WF_shared))"
   ]
  },
  {
   "cell_type": "code",
   "execution_count": 322,
   "metadata": {},
   "outputs": [
    {
     "data": {
      "text/plain": [
       "[('Tnc', 'Itga7'),\n",
       " ('Pkm', 'Cd44'),\n",
       " ('Lamc2', 'Itgb1'),\n",
       " ('Hmgb1', 'Sdc1'),\n",
       " ('Calr', 'Itga3'),\n",
       " ('Hmgb1', 'Thbd'),\n",
       " ('Lamc2', 'Itga6'),\n",
       " ('Tnc', 'Itgb1'),\n",
       " ('Anxa1', 'Fpr1'),\n",
       " ('Anxa1', 'Fpr2'),\n",
       " ('Tnc', 'Sdc1'),\n",
       " ('Lamc2', 'Itga3')]"
      ]
     },
     "execution_count": 322,
     "metadata": {},
     "output_type": "execute_result"
    }
   ],
   "source": [
    "WF_vs_bulk_shared"
   ]
  },
  {
   "cell_type": "code",
   "execution_count": 323,
   "metadata": {},
   "outputs": [],
   "source": [
    "L_ordered = sorted(Counter([x[0] for x in WF_vs_bulk_shared]).items(), key=itemgetter(1))[::-1]"
   ]
  },
  {
   "cell_type": "code",
   "execution_count": 324,
   "metadata": {},
   "outputs": [
    {
     "data": {
      "text/plain": [
       "[('Lamc2', 3), ('Tnc', 3), ('Anxa1', 2), ('Hmgb1', 2), ('Calr', 1), ('Pkm', 1)]"
      ]
     },
     "execution_count": 324,
     "metadata": {},
     "output_type": "execute_result"
    }
   ],
   "source": [
    "L_ordered"
   ]
  },
  {
   "cell_type": "code",
   "execution_count": 325,
   "metadata": {},
   "outputs": [],
   "source": [
    "L_ordered_ix = [l[0] for l in L_ordered]"
   ]
  },
  {
   "cell_type": "code",
   "execution_count": 326,
   "metadata": {},
   "outputs": [],
   "source": [
    "R_ordered = sorted(Counter([x[1] for x in WF_vs_bulk_shared]).items(), key=itemgetter(1))[::-1]"
   ]
  },
  {
   "cell_type": "code",
   "execution_count": 327,
   "metadata": {},
   "outputs": [
    {
     "data": {
      "text/plain": [
       "[('Itga3', 2),\n",
       " ('Sdc1', 2),\n",
       " ('Itgb1', 2),\n",
       " ('Fpr2', 1),\n",
       " ('Fpr1', 1),\n",
       " ('Itga6', 1),\n",
       " ('Thbd', 1),\n",
       " ('Cd44', 1),\n",
       " ('Itga7', 1)]"
      ]
     },
     "execution_count": 327,
     "metadata": {},
     "output_type": "execute_result"
    }
   ],
   "source": [
    "R_ordered"
   ]
  },
  {
   "cell_type": "code",
   "execution_count": 328,
   "metadata": {},
   "outputs": [],
   "source": [
    "R_ordered_ix = [r[0] for r in R_ordered]"
   ]
  },
  {
   "cell_type": "code",
   "execution_count": 329,
   "metadata": {},
   "outputs": [],
   "source": [
    "cmap_L = {}\n",
    "\n",
    "for i, r in enumerate(set([x[0] for x in WF_vs_bulk_shared])): cmap_L[r] = mpl.colors.rgb2hex(plt.cm.tab10(i/10))"
   ]
  },
  {
   "cell_type": "markdown",
   "metadata": {},
   "source": [
    "### Plot Sankay diagram"
   ]
  },
  {
   "cell_type": "code",
   "execution_count": 330,
   "metadata": {},
   "outputs": [],
   "source": [
    "WF_vs_bulk_shared_links = []\n",
    "\n",
    "for x in WF_vs_bulk_shared:\n",
    "    WF_vs_bulk_shared_links += [{'source':x[0],'target':x[1],'value':1, 'color': cmap_L[x[0]]}]"
   ]
  },
  {
   "cell_type": "code",
   "execution_count": 331,
   "metadata": {},
   "outputs": [],
   "source": [
    "WF_vs_bulk_shared_nodes = []\n",
    "\n",
    "for i in R_ordered_ix:\n",
    "    WF_vs_bulk_shared_nodes += [{'id': i,'style': 'process','color':'black'}]\n",
    "for i in L_ordered_ix:\n",
    "    WF_vs_bulk_shared_nodes += [{'id': i,'style': 'process','color':'black'}]"
   ]
  },
  {
   "cell_type": "code",
   "execution_count": 345,
   "metadata": {},
   "outputs": [],
   "source": [
    "layout = Layout(width=\"500\", height=\"400\")\n",
    "w = SankeyWidget(links = WF_vs_bulk_shared_links, \n",
    "                 margins=dict(top=0, bottom=0, left=100, right=100), \n",
    "                 layout = layout, \n",
    "                 nodes = WF_vs_bulk_shared_nodes)"
   ]
  },
  {
   "cell_type": "code",
   "execution_count": 346,
   "metadata": {},
   "outputs": [
    {
     "data": {
      "application/vnd.jupyter.widget-view+json": {
       "model_id": "dfee8510bcda43b2a24378093b6d9857",
       "version_major": 2,
       "version_minor": 0
      },
      "text/plain": [
       "SankeyWidget(layout=Layout(height='400', width='500'), links=[{'source': 'Tnc', 'target': 'Itga7', 'value': 1,…"
      ]
     },
     "metadata": {},
     "output_type": "display_data"
    }
   ],
   "source": [
    "w"
   ]
  },
  {
   "cell_type": "code",
   "execution_count": 347,
   "metadata": {},
   "outputs": [],
   "source": [
    "w.save_svg('%s/sankay_WF_vs_bulk.svg' % path_figures)"
   ]
  },
  {
   "cell_type": "markdown",
   "metadata": {
    "collapsed": true
   },
   "source": [
    "# Negative binominal regression plots"
   ]
  },
  {
   "cell_type": "code",
   "execution_count": 22,
   "metadata": {},
   "outputs": [
    {
     "data": {
      "text/plain": [
       "['ctrl', '3', '2', '0', '1', '4']"
      ]
     },
     "execution_count": 22,
     "metadata": {},
     "output_type": "execute_result"
    }
   ],
   "source": [
    "return_unique(cl_Lgr5_wnd_ctrl_sel)"
   ]
  },
  {
   "cell_type": "code",
   "execution_count": 23,
   "metadata": {},
   "outputs": [
    {
     "data": {
      "text/plain": [
       "['ctrl - IFE', 'ctrl - IST', '5', '1', '4', '2', '0']"
      ]
     },
     "execution_count": 23,
     "metadata": {},
     "output_type": "execute_result"
    }
   ],
   "source": [
    "return_unique(cl_Lgr6_wnd_ctrl_sel)"
   ]
  },
  {
   "cell_type": "code",
   "execution_count": 169,
   "metadata": {
    "scrolled": false
   },
   "outputs": [
    {
     "name": "stderr",
     "output_type": "stream",
     "text": [
      "/Users/simjoo/anaconda/lib/python3.6/site-packages/ipykernel_launcher.py:42: DeprecationWarning: \n",
      ".ix is deprecated. Please use\n",
      ".loc for label based indexing or\n",
      ".iloc for positional indexing\n",
      "\n",
      "See the documentation here:\n",
      "http://pandas.pydata.org/pandas-docs/stable/indexing.html#ix-indexer-is-deprecated\n"
     ]
    },
    {
     "data": {
      "image/png": "[encoded data removed]",
      "text/plain": [
       "<matplotlib.figure.Figure at 0x1324e92b0>"
      ]
     },
     "metadata": {},
     "output_type": "display_data"
    }
   ],
   "source": [
    "gene = 'Itgb1'\n",
    "traces = NBR_states_traces.ix[gene]\n",
    "groups = ['Lgr5 - ctrl','Lgr5 - 0','Lgr6 - ctrl - IFE','Lgr6 - 5']\n",
    "cmap = {'Lgr5 - ctrl':'dodgerblue','Lgr5 - 0':'dodgerblue',\n",
    "        'Lgr6 - ctrl - IFE':'#ff7f00','Lgr6 - 5':'#ff7f00'}\n",
    "\n",
    "\n",
    "#initialize figure\n",
    "\n",
    "height = 10\n",
    "width = 10\n",
    "plt.figure(facecolor = 'w', figsize = (width, height))\n",
    "gs = plt.GridSpec(1, 1, hspace = 0.15, wspace = 0.0)\n",
    "\n",
    "#create violin plot axis\n",
    "    \n",
    "y_min = np.min([np.log2(np.min(t)) for t in traces])\n",
    "y_max = np.max([np.log2(np.max(t)) for t in traces])\n",
    "\n",
    "ax1 = plt.subplot(gs[0,0])\n",
    "ax1.spines['right'].set_color('none')\n",
    "ax1.spines['top'].set_color('none')\n",
    "ax1.set_xlim(-0.5, len(groups) - 0.5)\n",
    "ax1.yaxis.set_ticks_position('left')\n",
    "ax1.xaxis.set_ticks([])\n",
    "ax1.yaxis.set_ticks(np.arange(np.floor(y_min), np.ceil(y_max),1))\n",
    "\n",
    "#iterate over genes\n",
    "\n",
    "for pos, gr in enumerate(groups):\n",
    "\n",
    "    #print group traces\n",
    "        \n",
    "    perc_min, perc_max = np.percentile(traces[gr], 0.5), np.percentile(traces[gr], 99.5)\n",
    "    violin = ax1.violinplot([np.log2(x) for x in traces[gr] if perc_min < x < perc_max],\n",
    "                        positions = [pos],\n",
    "                        vert=True,\n",
    "                        showextrema=False, \n",
    "                        widths=0.75,)\n",
    "\n",
    "    ax1.scatter(pos, \n",
    "                    np.median([np.log2(x) for x in traces.ix[gr]]),\n",
    "                    color = 'black', marker = '+', s = 500, zorder = 2)\n",
    "\n",
    "    for v in violin['bodies']:\n",
    "        v.set_edgecolor('black')\n",
    "        v.set_facecolor(cmap[gr])\n",
    "        v.set_linewidth(3.0)\n",
    "        v.set_alpha(1.0)\n",
    "\n",
    "    for ix, t in enumerate(ax1.yaxis.get_ticklabels()):\n",
    "        if ix % 1 != 0.5:\n",
    "            t.set_family('Arial')\n",
    "            t.set_fontsize(40)\n",
    "        else:\n",
    "            t.set_fontsize(0)\n",
    "            \n",
    "for x in range(len(groups)):\n",
    "    if x % 2 == 1:\n",
    "        ax1.axvspan(x-0.5,x+0.5,color='#E6E7E8', zorder = 0)\n",
    "    else:\n",
    "         ax1.axvspan(x-0.5,x+0.5,color='#FFFFFF', zorder = 0)\n",
    "            \n",
    "figname = 'v2.6_5_NBR_%s.pdf' % (gene)\n",
    "plt.savefig('%s/%s' % (path_figures, figname), \n",
    "            format = 'pdf', \n",
    "            transparent = True, \n",
    "            bbox_inches = 'tight', \n",
    "            pad_inches = 0, \n",
    "            rasterized = True)"
   ]
  },
  {
   "cell_type": "code",
   "execution_count": 170,
   "metadata": {},
   "outputs": [
    {
     "name": "stderr",
     "output_type": "stream",
     "text": [
      "/Users/simjoo/anaconda/lib/python3.6/site-packages/ipykernel_launcher.py:42: DeprecationWarning: \n",
      ".ix is deprecated. Please use\n",
      ".loc for label based indexing or\n",
      ".iloc for positional indexing\n",
      "\n",
      "See the documentation here:\n",
      "http://pandas.pydata.org/pandas-docs/stable/indexing.html#ix-indexer-is-deprecated\n"
     ]
    },
    {
     "data": {
      "image/png": "[encoded data removed]",
      "text/plain": [
       "<matplotlib.figure.Figure at 0x121859eb8>"
      ]
     },
     "metadata": {},
     "output_type": "display_data"
    }
   ],
   "source": [
    "gene = 'Cd44'\n",
    "traces = NBR_states_traces.ix[gene]\n",
    "groups = ['Lgr5 - ctrl','Lgr5 - 0','Lgr6 - ctrl - IFE','Lgr6 - 5']\n",
    "cmap = {'Lgr5 - ctrl':'dodgerblue','Lgr5 - 0':'dodgerblue',\n",
    "        'Lgr6 - ctrl - IFE':'#ff7f00','Lgr6 - 5':'#ff7f00'}\n",
    "\n",
    "\n",
    "#initialize figure\n",
    "\n",
    "height = 10\n",
    "width = 10\n",
    "plt.figure(facecolor = 'w', figsize = (width, height))\n",
    "gs = plt.GridSpec(1, 1, hspace = 0.15, wspace = 0.0)\n",
    "\n",
    "#create violin plot axis\n",
    "    \n",
    "y_min = np.min([np.log2(np.min(t)) for t in traces])\n",
    "y_max = np.max([np.log2(np.max(t)) for t in traces])\n",
    "\n",
    "ax1 = plt.subplot(gs[0,0])\n",
    "ax1.spines['right'].set_color('none')\n",
    "ax1.spines['top'].set_color('none')\n",
    "ax1.set_xlim(-0.5, len(groups) - 0.5)\n",
    "ax1.yaxis.set_ticks_position('left')\n",
    "ax1.xaxis.set_ticks([])\n",
    "ax1.yaxis.set_ticks(np.arange(np.floor(y_min), np.ceil(y_max),1))\n",
    "\n",
    "#iterate over genes\n",
    "\n",
    "for pos, gr in enumerate(groups):\n",
    "\n",
    "    #print group traces\n",
    "        \n",
    "    perc_min, perc_max = np.percentile(traces[gr], 0.5), np.percentile(traces[gr], 99.5)\n",
    "    violin = ax1.violinplot([np.log2(x) for x in traces[gr] if perc_min < x < perc_max],\n",
    "                        positions = [pos],\n",
    "                        vert=True,\n",
    "                        showextrema=False, \n",
    "                        widths=0.75,)\n",
    "\n",
    "    ax1.scatter(pos, \n",
    "                    np.median([np.log2(x) for x in traces.ix[gr]]),\n",
    "                    color = 'black', marker = '+', s = 500, zorder = 2)\n",
    "\n",
    "    for v in violin['bodies']:\n",
    "        v.set_edgecolor('black')\n",
    "        v.set_facecolor(cmap[gr])\n",
    "        v.set_linewidth(3.0)\n",
    "        v.set_alpha(1.0)\n",
    "\n",
    "    for ix, t in enumerate(ax1.yaxis.get_ticklabels()):\n",
    "        if ix % 1 != 0.5:\n",
    "            t.set_family('Arial')\n",
    "            t.set_fontsize(40)\n",
    "        else:\n",
    "            t.set_fontsize(0)\n",
    "            \n",
    "for x in range(len(groups)):\n",
    "    if x % 2 == 1:\n",
    "        ax1.axvspan(x-0.5,x+0.5,color='#E6E7E8', zorder = 0)\n",
    "    else:\n",
    "         ax1.axvspan(x-0.5,x+0.5,color='#FFFFFF', zorder = 0)\n",
    "            \n",
    "figname = 'v2.6_5_NBR_%s.pdf' % (gene)\n",
    "plt.savefig('%s/%s' % (path_figures, figname), \n",
    "            format = 'pdf', \n",
    "            transparent = True, \n",
    "            bbox_inches = 'tight', \n",
    "            pad_inches = 0, \n",
    "            rasterized = True)"
   ]
  },
  {
   "cell_type": "code",
   "execution_count": 172,
   "metadata": {},
   "outputs": [
    {
     "name": "stderr",
     "output_type": "stream",
     "text": [
      "/Users/simjoo/anaconda/lib/python3.6/site-packages/ipykernel_launcher.py:42: DeprecationWarning: \n",
      ".ix is deprecated. Please use\n",
      ".loc for label based indexing or\n",
      ".iloc for positional indexing\n",
      "\n",
      "See the documentation here:\n",
      "http://pandas.pydata.org/pandas-docs/stable/indexing.html#ix-indexer-is-deprecated\n"
     ]
    },
    {
     "data": {
      "image/png": "[encoded data removed]",
      "text/plain": [
       "<matplotlib.figure.Figure at 0x126246a90>"
      ]
     },
     "metadata": {},
     "output_type": "display_data"
    }
   ],
   "source": [
    "gene = 'Anxa1'\n",
    "traces = NBR_states_traces.ix[gene]\n",
    "groups = ['Lgr5 - ctrl','Lgr5 - 0','Lgr6 - ctrl - IFE','Lgr6 - 5']\n",
    "cmap = {'Lgr5 - ctrl':'dodgerblue','Lgr5 - 0':'dodgerblue',\n",
    "        'Lgr6 - ctrl - IFE':'#ff7f00','Lgr6 - 5':'#ff7f00'}\n",
    "\n",
    "\n",
    "#initialize figure\n",
    "\n",
    "height = 10\n",
    "width = 10\n",
    "plt.figure(facecolor = 'w', figsize = (width, height))\n",
    "gs = plt.GridSpec(1, 1, hspace = 0.15, wspace = 0.0)\n",
    "\n",
    "#create violin plot axis\n",
    "    \n",
    "y_min = np.min([np.log2(np.min(t)) for t in traces])\n",
    "y_max = np.max([np.log2(np.max(t)) for t in traces])\n",
    "\n",
    "ax1 = plt.subplot(gs[0,0])\n",
    "ax1.spines['right'].set_color('none')\n",
    "ax1.spines['top'].set_color('none')\n",
    "ax1.set_xlim(-0.5, len(groups) - 0.5)\n",
    "ax1.yaxis.set_ticks_position('left')\n",
    "ax1.xaxis.set_ticks([])\n",
    "ax1.yaxis.set_ticks(np.arange(np.floor(y_min), np.ceil(y_max),1))\n",
    "\n",
    "#iterate over genes\n",
    "\n",
    "for pos, gr in enumerate(groups):\n",
    "\n",
    "    #print group traces\n",
    "        \n",
    "    perc_min, perc_max = np.percentile(traces[gr], 0.5), np.percentile(traces[gr], 99.5)\n",
    "    violin = ax1.violinplot([np.log2(x) for x in traces[gr] if perc_min < x < perc_max],\n",
    "                        positions = [pos],\n",
    "                        vert=True,\n",
    "                        showextrema=False, \n",
    "                        widths=0.75,)\n",
    "\n",
    "    ax1.scatter(pos, \n",
    "                    np.median([np.log2(x) for x in traces.ix[gr]]),\n",
    "                    color = 'black', marker = '+', s = 500, zorder = 2)\n",
    "\n",
    "    for v in violin['bodies']:\n",
    "        v.set_edgecolor('black')\n",
    "        v.set_facecolor(cmap[gr])\n",
    "        v.set_linewidth(3.0)\n",
    "        v.set_alpha(1.0)\n",
    "\n",
    "    for ix, t in enumerate(ax1.yaxis.get_ticklabels()):\n",
    "        if ix % 1 != 0.5:\n",
    "            t.set_family('Arial')\n",
    "            t.set_fontsize(40)\n",
    "        else:\n",
    "            t.set_fontsize(0)\n",
    "            \n",
    "for x in range(len(groups)):\n",
    "    if x % 2 == 1:\n",
    "        ax1.axvspan(x-0.5,x+0.5,color='#E6E7E8', zorder = 0)\n",
    "    else:\n",
    "         ax1.axvspan(x-0.5,x+0.5,color='#FFFFFF', zorder = 0)\n",
    "            \n",
    "figname = 'v2.4_5_NBR_%s.pdf' % (gene)\n",
    "plt.savefig('%s/%s' % (path_figures, figname), \n",
    "            format = 'pdf', \n",
    "            transparent = True, \n",
    "            bbox_inches = 'tight', \n",
    "            pad_inches = 0, \n",
    "            rasterized = True)"
   ]
  },
  {
   "cell_type": "code",
   "execution_count": 177,
   "metadata": {},
   "outputs": [
    {
     "name": "stderr",
     "output_type": "stream",
     "text": [
      "/Users/simjoo/anaconda/lib/python3.6/site-packages/ipykernel_launcher.py:42: DeprecationWarning: \n",
      ".ix is deprecated. Please use\n",
      ".loc for label based indexing or\n",
      ".iloc for positional indexing\n",
      "\n",
      "See the documentation here:\n",
      "http://pandas.pydata.org/pandas-docs/stable/indexing.html#ix-indexer-is-deprecated\n"
     ]
    },
    {
     "data": {
      "image/png": "[encoded data removed]",
      "text/plain": [
       "<matplotlib.figure.Figure at 0x132b82940>"
      ]
     },
     "metadata": {},
     "output_type": "display_data"
    }
   ],
   "source": [
    "gene = 'Tnc'\n",
    "traces = NBR_states_traces.ix[gene]\n",
    "groups = ['Lgr5 - ctrl','Lgr5 - 0','Lgr6 - ctrl - IFE','Lgr6 - 5']\n",
    "cmap = {'Lgr5 - ctrl':'dodgerblue','Lgr5 - 0':'dodgerblue',\n",
    "        'Lgr6 - ctrl - IFE':'#ff7f00','Lgr6 - 5':'#ff7f00'}\n",
    "\n",
    "\n",
    "#initialize figure\n",
    "\n",
    "height = 10\n",
    "width = 10\n",
    "plt.figure(facecolor = 'w', figsize = (width, height))\n",
    "gs = plt.GridSpec(1, 1, hspace = 0.15, wspace = 0.0)\n",
    "\n",
    "#create violin plot axis\n",
    "    \n",
    "y_min = np.min([np.log2(np.min(t)) for t in traces])\n",
    "y_max = np.max([np.log2(np.max(t)) for t in traces])\n",
    "\n",
    "ax1 = plt.subplot(gs[0,0])\n",
    "ax1.spines['right'].set_color('none')\n",
    "ax1.spines['top'].set_color('none')\n",
    "ax1.set_xlim(-0.5, len(groups) - 0.5)\n",
    "ax1.yaxis.set_ticks_position('left')\n",
    "ax1.xaxis.set_ticks([])\n",
    "ax1.yaxis.set_ticks(np.arange(np.floor(y_min), np.ceil(y_max),1))\n",
    "\n",
    "#iterate over genes\n",
    "\n",
    "for pos, gr in enumerate(groups):\n",
    "\n",
    "    #print group traces\n",
    "        \n",
    "    perc_min, perc_max = np.percentile(traces[gr], 0.5), np.percentile(traces[gr], 99.5)\n",
    "    violin = ax1.violinplot([np.log2(x) for x in traces[gr] if perc_min < x < perc_max],\n",
    "                        positions = [pos],\n",
    "                        vert=True,\n",
    "                        showextrema=False, \n",
    "                        widths=0.75,)\n",
    "\n",
    "    ax1.scatter(pos, \n",
    "                    np.median([np.log2(x) for x in traces.ix[gr]]),\n",
    "                    color = 'black', marker = '+', s = 500, zorder = 2)\n",
    "\n",
    "    for v in violin['bodies']:\n",
    "        v.set_edgecolor('black')\n",
    "        v.set_facecolor(cmap[gr])\n",
    "        v.set_linewidth(3.0)\n",
    "        v.set_alpha(1.0)\n",
    "\n",
    "    for ix, t in enumerate(ax1.yaxis.get_ticklabels()):\n",
    "        if ix % 1 != 0.5:\n",
    "            t.set_family('Arial')\n",
    "            t.set_fontsize(40)\n",
    "        else:\n",
    "            t.set_fontsize(0)\n",
    "            \n",
    "for x in range(len(groups)):\n",
    "    if x % 2 == 1:\n",
    "        ax1.axvspan(x-0.5,x+0.5,color='#E6E7E8', zorder = 0)\n",
    "    else:\n",
    "         ax1.axvspan(x-0.5,x+0.5,color='#FFFFFF', zorder = 0)\n",
    "            \n",
    "figname = 'v2.4_5_NBR_%s.pdf' % (gene)\n",
    "plt.savefig('%s/%s' % (path_figures, figname), \n",
    "            format = 'pdf', \n",
    "            transparent = True, \n",
    "            bbox_inches = 'tight', \n",
    "            pad_inches = 0, \n",
    "            rasterized = True)"
   ]
  },
  {
   "cell_type": "code",
   "execution_count": 26,
   "metadata": {},
   "outputs": [
    {
     "name": "stderr",
     "output_type": "stream",
     "text": [
      "/Users/simjoo/anaconda/lib/python3.6/site-packages/ipykernel_launcher.py:42: DeprecationWarning: \n",
      ".ix is deprecated. Please use\n",
      ".loc for label based indexing or\n",
      ".iloc for positional indexing\n",
      "\n",
      "See the documentation here:\n",
      "http://pandas.pydata.org/pandas-docs/stable/indexing.html#ix-indexer-is-deprecated\n"
     ]
    },
    {
     "data": {
      "image/png": "[encoded data removed]",
      "text/plain": [
       "<Figure size 720x720 with 1 Axes>"
      ]
     },
     "metadata": {},
     "output_type": "display_data"
    }
   ],
   "source": [
    "gene = 'Sdc1'\n",
    "traces = NBR_states_traces.ix[gene]\n",
    "groups = ['Lgr5 - ctrl','Lgr5 - 0','Lgr6 - ctrl - IFE','Lgr6 - 5']\n",
    "cmap = {'Lgr5 - ctrl':'dodgerblue','Lgr5 - 0':'dodgerblue',\n",
    "        'Lgr6 - ctrl - IFE':'#ff7f00','Lgr6 - 5':'#ff7f00'}\n",
    "\n",
    "\n",
    "#initialize figure\n",
    "\n",
    "height = 10\n",
    "width = 10\n",
    "plt.figure(facecolor = 'w', figsize = (width, height))\n",
    "gs = plt.GridSpec(1, 1, hspace = 0.15, wspace = 0.0)\n",
    "\n",
    "#create violin plot axis\n",
    "    \n",
    "y_min = np.min([np.log2(np.min(t)) for t in traces])\n",
    "y_max = np.max([np.log2(np.max(t)) for t in traces])\n",
    "\n",
    "ax1 = plt.subplot(gs[0,0])\n",
    "ax1.spines['right'].set_color('none')\n",
    "ax1.spines['top'].set_color('none')\n",
    "ax1.set_xlim(-0.5, len(groups) - 0.5)\n",
    "ax1.yaxis.set_ticks_position('left')\n",
    "ax1.xaxis.set_ticks([])\n",
    "ax1.yaxis.set_ticks(np.arange(np.floor(y_min), np.ceil(y_max),1))\n",
    "\n",
    "#iterate over genes\n",
    "\n",
    "for pos, gr in enumerate(groups):\n",
    "\n",
    "    #print group traces\n",
    "        \n",
    "    perc_min, perc_max = np.percentile(traces[gr], 0.5), np.percentile(traces[gr], 99.5)\n",
    "    violin = ax1.violinplot([np.log2(x) for x in traces[gr] if perc_min < x < perc_max],\n",
    "                        positions = [pos],\n",
    "                        vert=True,\n",
    "                        showextrema=False, \n",
    "                        widths=0.75,)\n",
    "\n",
    "    ax1.scatter(pos, \n",
    "                    np.median([np.log2(x) for x in traces.ix[gr]]),\n",
    "                    color = 'black', marker = '+', s = 500, zorder = 2)\n",
    "\n",
    "    for v in violin['bodies']:\n",
    "        v.set_edgecolor('black')\n",
    "        v.set_facecolor(cmap[gr])\n",
    "        v.set_linewidth(3.0)\n",
    "        v.set_alpha(1.0)\n",
    "\n",
    "    for ix, t in enumerate(ax1.yaxis.get_ticklabels()):\n",
    "        if ix % 1 != 0.5:\n",
    "            t.set_family('Arial')\n",
    "            t.set_fontsize(40)\n",
    "        else:\n",
    "            t.set_fontsize(0)\n",
    "            \n",
    "for x in range(len(groups)):\n",
    "    if x % 2 == 1:\n",
    "        ax1.axvspan(x-0.5,x+0.5,color='#E6E7E8', zorder = 0)\n",
    "    else:\n",
    "         ax1.axvspan(x-0.5,x+0.5,color='#FFFFFF', zorder = 0)\n",
    "            \n",
    "figname = 'v2.4_5_NBR_%s.pdf' % (gene)\n",
    "plt.savefig('%s/%s' % (path_figures, figname), \n",
    "            format = 'pdf', \n",
    "            transparent = True, \n",
    "            bbox_inches = 'tight', \n",
    "            pad_inches = 0, \n",
    "            rasterized = True)"
   ]
  },
  {
   "cell_type": "code",
   "execution_count": 53,
   "metadata": {},
   "outputs": [
    {
     "data": {
      "image/png": "[encoded data removed]",
      "text/plain": [
       "<Figure size 720x720 with 1 Axes>"
      ]
     },
     "metadata": {},
     "output_type": "display_data"
    }
   ],
   "source": [
    "gene = 'Vcan'\n",
    "val = bulk_24h\n",
    "groups = ['value_1','value_2']\n",
    "cmap = {'value_1':'#984ea3','value_2':'#984ea3'}\n",
    "\n",
    "\n",
    "#initialize figure\n",
    "\n",
    "height = 10\n",
    "width = 10\n",
    "plt.figure(facecolor = 'w', figsize = (width, height))\n",
    "gs = plt.GridSpec(1, 1, hspace = 0.15, wspace = 0.0)\n",
    "\n",
    "#create violin plot axis\n",
    "    \n",
    "y_min = np.min(np.log2(val.loc[gene, groups].astype(float))) * 0.9\n",
    "y_max = np.max(np.log2(val.loc[gene, groups].astype(float))) * 1.1\n",
    "\n",
    "ax1 = plt.subplot(gs[0,0])\n",
    "ax1.spines['right'].set_color('none')\n",
    "ax1.spines['top'].set_color('none')\n",
    "ax1.set_xlim(-0.5, len(groups) - 0.5)\n",
    "ax1.set_ylim(y_min, y_max)\n",
    "ax1.yaxis.set_ticks_position('left')\n",
    "ax1.xaxis.set_ticks([])\n",
    "ax1.yaxis.set_ticks(np.arange(np.floor(y_min), np.ceil(y_max),1))\n",
    "\n",
    "#iterate over genes\n",
    "\n",
    "for pos, gr in enumerate(groups):\n",
    "\n",
    "    #print group traces\n",
    "    \n",
    "    ax1.scatter([0,1], np.log2(val.loc[gene, groups].astype(float)), \n",
    "                c = '#984ea3', s = 5000, linewidth = 3, edgecolor = 'k')\n",
    "    \n",
    "    for ix, t in enumerate(ax1.yaxis.get_ticklabels()):\n",
    "        if ix % 1 != 0.5:\n",
    "            t.set_family('Arial')\n",
    "            t.set_fontsize(40)\n",
    "        else:\n",
    "            t.set_fontsize(0)\n",
    "\n",
    "for x in range(len(groups)):\n",
    "    if x % 2 == 0:\n",
    "        ax1.axvspan(x-0.5,x+0.5,color='#E6E7E8', zorder = 0)\n",
    "    else:\n",
    "         ax1.axvspan(x-0.5,x+0.5,color='#FFFFFF', zorder = 0)\n",
    "            \n",
    "figname = 'v2.6_5_bulk_%s.pdf' % (gene)\n",
    "plt.savefig('%s/%s' % (path_figures, figname), \n",
    "            format = 'pdf', \n",
    "            transparent = True, \n",
    "            bbox_inches = 'tight', \n",
    "            pad_inches = 0, \n",
    "            rasterized = True)"
   ]
  }
 ],
 "metadata": {
  "kernelspec": {
   "display_name": "Python 3",
   "language": "python",
   "name": "python3"
  },
  "language_info": {
   "codemirror_mode": {
    "name": "ipython",
    "version": 3
   },
   "file_extension": ".py",
   "mimetype": "text/x-python",
   "name": "python",
   "nbconvert_exporter": "python",
   "pygments_lexer": "ipython3",
   "version": "3.6.5"
  }
 },
 "nbformat": 4,
 "nbformat_minor": 1
}
